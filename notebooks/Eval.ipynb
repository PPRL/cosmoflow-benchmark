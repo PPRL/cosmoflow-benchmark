{
 "cells": [
  {
   "cell_type": "markdown",
   "metadata": {},
   "source": [
    "# Evaluation of CosmoFlow training"
   ]
  },
  {
   "cell_type": "code",
   "execution_count": 1,
   "metadata": {},
   "outputs": [],
   "source": [
    "import os\n",
    "import sys\n",
    "import yaml\n",
    "\n",
    "sys.path.append('..')"
   ]
  },
  {
   "cell_type": "code",
   "execution_count": 2,
   "metadata": {},
   "outputs": [],
   "source": [
    "import numpy as np\n",
    "import pandas as pd\n",
    "\n",
    "import tensorflow as tf\n",
    "\n",
    "import matplotlib.pyplot as plt\n",
    "plt.rcParams.update({'font.size': 14})"
   ]
  },
  {
   "cell_type": "code",
   "execution_count": 3,
   "metadata": {},
   "outputs": [],
   "source": [
    "from models import get_model\n",
    "from data.cosmo import construct_dataset\n",
    "from utils.optimizers import get_optimizer"
   ]
  },
  {
   "cell_type": "code",
   "execution_count": 4,
   "metadata": {},
   "outputs": [],
   "source": [
    "%matplotlib inline"
   ]
  },
  {
   "cell_type": "markdown",
   "metadata": {},
   "source": [
    "## Load configuration"
   ]
  },
  {
   "cell_type": "code",
   "execution_count": 5,
   "metadata": {},
   "outputs": [],
   "source": [
    "def load_config(config_file):\n",
    "    \"\"\"Reads the YAML config file and returns a config dictionary\"\"\"\n",
    "    with open(config_file) as f:\n",
    "        return yaml.load(f, Loader=yaml.FullLoader)"
   ]
  },
  {
   "cell_type": "code",
   "execution_count": 6,
   "metadata": {},
   "outputs": [],
   "source": [
    "config_file = '../configs/cosmo.yaml'"
   ]
  },
  {
   "cell_type": "code",
   "execution_count": 7,
   "metadata": {},
   "outputs": [],
   "source": [
    "config = load_config(config_file)"
   ]
  },
  {
   "cell_type": "code",
   "execution_count": 8,
   "metadata": {},
   "outputs": [
    {
     "data": {
      "text/plain": [
       "{'output_dir': '$SCRATCH/cosmoflow-benchmark/cosmoflow-19-06-12',\n",
       " 'data': {'name': 'cosmo',\n",
       "  'data_dir': '/project/projectdirs/m3363/www/cosmoUniverse_2018_10_3parA/dim128_cube',\n",
       "  'n_train_files': 2048,\n",
       "  'n_valid_files': 1024,\n",
       "  'samples_per_file': 16,\n",
       "  'batch_size': 4,\n",
       "  'n_epochs': 64},\n",
       " 'model': {'name': 'cosmoflow',\n",
       "  'input_shape': [128, 128, 128, 1],\n",
       "  'target_size': 3,\n",
       "  'dropout': 0.2},\n",
       " 'optimizer': {'name': 'Adam', 'lr': 0.001},\n",
       " 'train': {'loss': 'mse', 'metrics': ['mae']}}"
      ]
     },
     "execution_count": 8,
     "metadata": {},
     "output_type": "execute_result"
    }
   ],
   "source": [
    "config"
   ]
  },
  {
   "cell_type": "markdown",
   "metadata": {},
   "source": [
    "## View training history"
   ]
  },
  {
   "cell_type": "code",
   "execution_count": 9,
   "metadata": {},
   "outputs": [],
   "source": [
    "def load_history(result_dir):\n",
    "    return pd.read_csv(os.path.join(result_dir, 'history.csv'))"
   ]
  },
  {
   "cell_type": "code",
   "execution_count": 10,
   "metadata": {},
   "outputs": [
    {
     "name": "stdout",
     "output_type": "stream",
     "text": [
      "\u001b[0m\u001b[01;34mcosmoflow-154846\u001b[0m/  \u001b[01;34mcosmoflow-156746\u001b[0m/  \u001b[01;34mcosmoflow-158215\u001b[0m/    \u001b[01;34mcosmoflow-19-06-12\u001b[0m/\n",
      "\u001b[01;34mcosmoflow-154858\u001b[0m/  \u001b[01;34mcosmoflow-157761\u001b[0m/  \u001b[01;34mcosmoflow-158230\u001b[0m/    \u001b[01;34mcosmoflow-hvd\u001b[0m/\n",
      "\u001b[01;34mcosmoflow-154996\u001b[0m/  \u001b[01;34mcosmoflow-158072\u001b[0m/  \u001b[01;34mcosmoflow-158235\u001b[0m/    \u001b[01;34mcosmoflow-test\u001b[0m/\n",
      "\u001b[01;34mcosmoflow-155912\u001b[0m/  \u001b[01;34mcosmoflow-158127\u001b[0m/  \u001b[01;34mcosmoflow-158333\u001b[0m/\n",
      "\u001b[01;34mcosmoflow-155987\u001b[0m/  \u001b[01;34mcosmoflow-158130\u001b[0m/  \u001b[01;34mcosmoflow-19-06-11\u001b[0m/\n"
     ]
    }
   ],
   "source": [
    "ls /global/cscratch1/sd/sfarrell/cosmoflow-benchmark"
   ]
  },
  {
   "cell_type": "code",
   "execution_count": 11,
   "metadata": {},
   "outputs": [],
   "source": [
    "result_dir = '/global/cscratch1/sd/sfarrell/cosmoflow-benchmark/cosmoflow-19-06-12'"
   ]
  },
  {
   "cell_type": "code",
   "execution_count": 12,
   "metadata": {},
   "outputs": [
    {
     "name": "stdout",
     "output_type": "stream",
     "text": [
      "total 48804\n",
      "-rw-rw---- 1 sfarrell sfarrell 2080488 Jun 12 10:09 checkpoint-001.h5\n",
      "-rw-rw---- 1 sfarrell sfarrell 2080488 Jun 12 10:24 checkpoint-002.h5\n",
      "-rw-rw---- 1 sfarrell sfarrell 2080488 Jun 12 10:40 checkpoint-003.h5\n",
      "-rw-rw---- 1 sfarrell sfarrell 2080488 Jun 12 10:55 checkpoint-004.h5\n",
      "-rw-rw---- 1 sfarrell sfarrell 2080488 Jun 12 11:09 checkpoint-005.h5\n",
      "-rw-rw---- 1 sfarrell sfarrell 2080488 Jun 12 11:24 checkpoint-006.h5\n",
      "-rw-rw---- 1 sfarrell sfarrell 2080488 Jun 12 11:39 checkpoint-007.h5\n",
      "-rw-rw---- 1 sfarrell sfarrell 2080488 Jun 12 11:54 checkpoint-008.h5\n",
      "-rw-rw---- 1 sfarrell sfarrell 2080488 Jun 12 12:09 checkpoint-009.h5\n",
      "-rw-rw---- 1 sfarrell sfarrell 2080488 Jun 12 12:24 checkpoint-010.h5\n",
      "-rw-rw---- 1 sfarrell sfarrell 2080488 Jun 12 12:38 checkpoint-011.h5\n",
      "-rw-rw---- 1 sfarrell sfarrell 2080488 Jun 12 12:53 checkpoint-012.h5\n",
      "-rw-rw---- 1 sfarrell sfarrell 2080488 Jun 12 13:08 checkpoint-013.h5\n",
      "-rw-rw---- 1 sfarrell sfarrell 2080488 Jun 12 13:23 checkpoint-014.h5\n",
      "-rw-rw---- 1 sfarrell sfarrell 2080488 Jun 12 13:38 checkpoint-015.h5\n",
      "-rw-rw---- 1 sfarrell sfarrell 2080488 Jun 12 13:53 checkpoint-016.h5\n",
      "-rw-rw---- 1 sfarrell sfarrell 2080488 Jun 12 14:08 checkpoint-017.h5\n",
      "-rw-rw---- 1 sfarrell sfarrell 2080488 Jun 12 14:22 checkpoint-018.h5\n",
      "-rw-rw---- 1 sfarrell sfarrell 2080488 Jun 12 14:37 checkpoint-019.h5\n",
      "-rw-rw---- 1 sfarrell sfarrell 2080488 Jun 12 14:52 checkpoint-020.h5\n",
      "-rw-rw---- 1 sfarrell sfarrell 2080488 Jun 12 15:06 checkpoint-021.h5\n",
      "-rw-rw---- 1 sfarrell sfarrell 2080488 Jun 12 15:21 checkpoint-022.h5\n",
      "-rw-rw---- 1 sfarrell sfarrell 2080488 Jun 12 15:36 checkpoint-023.h5\n",
      "-rw-rw---- 1 sfarrell sfarrell 2080488 Jun 12 15:50 checkpoint-024.h5\n",
      "-rw-rw---- 1 sfarrell sfarrell    1612 Jun 12 15:50 history.csv\n"
     ]
    }
   ],
   "source": [
    "ls -l $result_dir"
   ]
  },
  {
   "cell_type": "code",
   "execution_count": 13,
   "metadata": {},
   "outputs": [],
   "source": [
    "train_history = load_history(result_dir)"
   ]
  },
  {
   "cell_type": "code",
   "execution_count": 14,
   "metadata": {},
   "outputs": [
    {
     "data": {
      "text/html": [
       "<div>\n",
       "<style scoped>\n",
       "    .dataframe tbody tr th:only-of-type {\n",
       "        vertical-align: middle;\n",
       "    }\n",
       "\n",
       "    .dataframe tbody tr th {\n",
       "        vertical-align: top;\n",
       "    }\n",
       "\n",
       "    .dataframe thead th {\n",
       "        text-align: right;\n",
       "    }\n",
       "</style>\n",
       "<table border=\"1\" class=\"dataframe\">\n",
       "  <thead>\n",
       "    <tr style=\"text-align: right;\">\n",
       "      <th></th>\n",
       "      <th>epoch</th>\n",
       "      <th>loss</th>\n",
       "      <th>mean_absolute_error</th>\n",
       "      <th>val_loss</th>\n",
       "      <th>val_mean_absolute_error</th>\n",
       "    </tr>\n",
       "  </thead>\n",
       "  <tbody>\n",
       "    <tr>\n",
       "      <th>0</th>\n",
       "      <td>0</td>\n",
       "      <td>0.307745</td>\n",
       "      <td>0.437998</td>\n",
       "      <td>0.233117</td>\n",
       "      <td>0.395916</td>\n",
       "    </tr>\n",
       "    <tr>\n",
       "      <th>1</th>\n",
       "      <td>1</td>\n",
       "      <td>0.217761</td>\n",
       "      <td>0.381878</td>\n",
       "      <td>0.193098</td>\n",
       "      <td>0.358667</td>\n",
       "    </tr>\n",
       "    <tr>\n",
       "      <th>2</th>\n",
       "      <td>2</td>\n",
       "      <td>0.198378</td>\n",
       "      <td>0.361850</td>\n",
       "      <td>0.171115</td>\n",
       "      <td>0.331508</td>\n",
       "    </tr>\n",
       "    <tr>\n",
       "      <th>3</th>\n",
       "      <td>3</td>\n",
       "      <td>0.179857</td>\n",
       "      <td>0.340414</td>\n",
       "      <td>0.165824</td>\n",
       "      <td>0.326921</td>\n",
       "    </tr>\n",
       "    <tr>\n",
       "      <th>4</th>\n",
       "      <td>4</td>\n",
       "      <td>0.170125</td>\n",
       "      <td>0.328492</td>\n",
       "      <td>0.164715</td>\n",
       "      <td>0.324317</td>\n",
       "    </tr>\n",
       "    <tr>\n",
       "      <th>5</th>\n",
       "      <td>5</td>\n",
       "      <td>0.166678</td>\n",
       "      <td>0.324343</td>\n",
       "      <td>0.154609</td>\n",
       "      <td>0.312586</td>\n",
       "    </tr>\n",
       "    <tr>\n",
       "      <th>6</th>\n",
       "      <td>6</td>\n",
       "      <td>0.165961</td>\n",
       "      <td>0.323595</td>\n",
       "      <td>0.151002</td>\n",
       "      <td>0.307323</td>\n",
       "    </tr>\n",
       "    <tr>\n",
       "      <th>7</th>\n",
       "      <td>7</td>\n",
       "      <td>0.163636</td>\n",
       "      <td>0.320612</td>\n",
       "      <td>0.155234</td>\n",
       "      <td>0.315110</td>\n",
       "    </tr>\n",
       "    <tr>\n",
       "      <th>8</th>\n",
       "      <td>8</td>\n",
       "      <td>0.162490</td>\n",
       "      <td>0.319341</td>\n",
       "      <td>0.151845</td>\n",
       "      <td>0.307254</td>\n",
       "    </tr>\n",
       "    <tr>\n",
       "      <th>9</th>\n",
       "      <td>9</td>\n",
       "      <td>0.161006</td>\n",
       "      <td>0.317511</td>\n",
       "      <td>0.201811</td>\n",
       "      <td>0.360689</td>\n",
       "    </tr>\n",
       "    <tr>\n",
       "      <th>10</th>\n",
       "      <td>10</td>\n",
       "      <td>0.160259</td>\n",
       "      <td>0.316509</td>\n",
       "      <td>0.148731</td>\n",
       "      <td>0.305577</td>\n",
       "    </tr>\n",
       "    <tr>\n",
       "      <th>11</th>\n",
       "      <td>11</td>\n",
       "      <td>0.160801</td>\n",
       "      <td>0.317139</td>\n",
       "      <td>0.153677</td>\n",
       "      <td>0.308207</td>\n",
       "    </tr>\n",
       "    <tr>\n",
       "      <th>12</th>\n",
       "      <td>12</td>\n",
       "      <td>0.159762</td>\n",
       "      <td>0.315936</td>\n",
       "      <td>0.156209</td>\n",
       "      <td>0.316203</td>\n",
       "    </tr>\n",
       "    <tr>\n",
       "      <th>13</th>\n",
       "      <td>13</td>\n",
       "      <td>0.158946</td>\n",
       "      <td>0.314939</td>\n",
       "      <td>0.144868</td>\n",
       "      <td>0.298187</td>\n",
       "    </tr>\n",
       "    <tr>\n",
       "      <th>14</th>\n",
       "      <td>14</td>\n",
       "      <td>0.158752</td>\n",
       "      <td>0.314578</td>\n",
       "      <td>0.154772</td>\n",
       "      <td>0.309004</td>\n",
       "    </tr>\n",
       "    <tr>\n",
       "      <th>15</th>\n",
       "      <td>15</td>\n",
       "      <td>0.158048</td>\n",
       "      <td>0.313670</td>\n",
       "      <td>0.154557</td>\n",
       "      <td>0.311220</td>\n",
       "    </tr>\n",
       "    <tr>\n",
       "      <th>16</th>\n",
       "      <td>16</td>\n",
       "      <td>0.158704</td>\n",
       "      <td>0.314526</td>\n",
       "      <td>0.150295</td>\n",
       "      <td>0.305215</td>\n",
       "    </tr>\n",
       "    <tr>\n",
       "      <th>17</th>\n",
       "      <td>17</td>\n",
       "      <td>0.156947</td>\n",
       "      <td>0.312184</td>\n",
       "      <td>0.160874</td>\n",
       "      <td>0.316255</td>\n",
       "    </tr>\n",
       "    <tr>\n",
       "      <th>18</th>\n",
       "      <td>18</td>\n",
       "      <td>0.156654</td>\n",
       "      <td>0.312124</td>\n",
       "      <td>0.153666</td>\n",
       "      <td>0.310661</td>\n",
       "    </tr>\n",
       "    <tr>\n",
       "      <th>19</th>\n",
       "      <td>19</td>\n",
       "      <td>0.157141</td>\n",
       "      <td>0.312726</td>\n",
       "      <td>0.142650</td>\n",
       "      <td>0.293692</td>\n",
       "    </tr>\n",
       "    <tr>\n",
       "      <th>20</th>\n",
       "      <td>20</td>\n",
       "      <td>0.156879</td>\n",
       "      <td>0.312359</td>\n",
       "      <td>0.162932</td>\n",
       "      <td>0.319489</td>\n",
       "    </tr>\n",
       "    <tr>\n",
       "      <th>21</th>\n",
       "      <td>21</td>\n",
       "      <td>0.157804</td>\n",
       "      <td>0.313603</td>\n",
       "      <td>0.150529</td>\n",
       "      <td>0.303170</td>\n",
       "    </tr>\n",
       "    <tr>\n",
       "      <th>22</th>\n",
       "      <td>22</td>\n",
       "      <td>0.158385</td>\n",
       "      <td>0.314071</td>\n",
       "      <td>0.146616</td>\n",
       "      <td>0.300579</td>\n",
       "    </tr>\n",
       "    <tr>\n",
       "      <th>23</th>\n",
       "      <td>23</td>\n",
       "      <td>0.157896</td>\n",
       "      <td>0.313561</td>\n",
       "      <td>0.151417</td>\n",
       "      <td>0.310042</td>\n",
       "    </tr>\n",
       "  </tbody>\n",
       "</table>\n",
       "</div>"
      ],
      "text/plain": [
       "    epoch      loss  mean_absolute_error  val_loss  val_mean_absolute_error\n",
       "0       0  0.307745             0.437998  0.233117                 0.395916\n",
       "1       1  0.217761             0.381878  0.193098                 0.358667\n",
       "2       2  0.198378             0.361850  0.171115                 0.331508\n",
       "3       3  0.179857             0.340414  0.165824                 0.326921\n",
       "4       4  0.170125             0.328492  0.164715                 0.324317\n",
       "5       5  0.166678             0.324343  0.154609                 0.312586\n",
       "6       6  0.165961             0.323595  0.151002                 0.307323\n",
       "7       7  0.163636             0.320612  0.155234                 0.315110\n",
       "8       8  0.162490             0.319341  0.151845                 0.307254\n",
       "9       9  0.161006             0.317511  0.201811                 0.360689\n",
       "10     10  0.160259             0.316509  0.148731                 0.305577\n",
       "11     11  0.160801             0.317139  0.153677                 0.308207\n",
       "12     12  0.159762             0.315936  0.156209                 0.316203\n",
       "13     13  0.158946             0.314939  0.144868                 0.298187\n",
       "14     14  0.158752             0.314578  0.154772                 0.309004\n",
       "15     15  0.158048             0.313670  0.154557                 0.311220\n",
       "16     16  0.158704             0.314526  0.150295                 0.305215\n",
       "17     17  0.156947             0.312184  0.160874                 0.316255\n",
       "18     18  0.156654             0.312124  0.153666                 0.310661\n",
       "19     19  0.157141             0.312726  0.142650                 0.293692\n",
       "20     20  0.156879             0.312359  0.162932                 0.319489\n",
       "21     21  0.157804             0.313603  0.150529                 0.303170\n",
       "22     22  0.158385             0.314071  0.146616                 0.300579\n",
       "23     23  0.157896             0.313561  0.151417                 0.310042"
      ]
     },
     "execution_count": 14,
     "metadata": {},
     "output_type": "execute_result"
    }
   ],
   "source": [
    "train_history"
   ]
  },
  {
   "cell_type": "code",
   "execution_count": 15,
   "metadata": {},
   "outputs": [
    {
     "data": {
      "image/png": "[encoded data removed]",
      "text/plain": [
       "<Figure size 1008x432 with 2 Axes>"
      ]
     },
     "metadata": {
      "needs_background": "light"
     },
     "output_type": "display_data"
    }
   ],
   "source": [
    "fig, (ax0, ax1) = plt.subplots(ncols=2, figsize=(14, 6))\n",
    "\n",
    "ax0.plot(train_history.loss, label='train')\n",
    "ax0.plot(train_history.val_loss, label='validation')\n",
    "ax0.set_xlabel('Epoch')\n",
    "ax0.set_ylabel('Loss')\n",
    "ax0.legend(loc=0)\n",
    "\n",
    "ax1.plot(train_history.mean_absolute_error, label='train')\n",
    "ax1.plot(train_history.val_mean_absolute_error, label='validation')\n",
    "ax1.set_xlabel('Epoch')\n",
    "ax1.set_ylabel('Mean absolute error')\n",
    "ax1.legend(loc=0)\n",
    "\n",
    "plt.tight_layout()"
   ]
  },
  {
   "cell_type": "markdown",
   "metadata": {},
   "source": [
    "## Reload the model"
   ]
  },
  {
   "cell_type": "code",
   "execution_count": 16,
   "metadata": {},
   "outputs": [
    {
     "name": "stdout",
     "output_type": "stream",
     "text": [
      "Best epoch: 19\n"
     ]
    }
   ],
   "source": [
    "# Choose best epoch based on validation loss\n",
    "best_epoch = train_history.epoch.loc[train_history.val_loss.idxmin()]\n",
    "print('Best epoch:', best_epoch)"
   ]
  },
  {
   "cell_type": "code",
   "execution_count": 17,
   "metadata": {},
   "outputs": [
    {
     "name": "stdout",
     "output_type": "stream",
     "text": [
      "WARNING:tensorflow:From /usr/common/software/tensorflow/intel-tensorflow/1.13.1-py36/lib/python3.6/site-packages/tensorflow/python/ops/resource_variable_ops.py:435: colocate_with (from tensorflow.python.framework.ops) is deprecated and will be removed in a future version.\n",
      "Instructions for updating:\n",
      "Colocations handled automatically by placer.\n",
      "WARNING:tensorflow:From /usr/common/software/tensorflow/intel-tensorflow/1.13.1-py36/lib/python3.6/site-packages/tensorflow/python/keras/layers/core.py:143: calling dropout (from tensorflow.python.ops.nn_ops) with keep_prob is deprecated and will be removed in a future version.\n",
      "Instructions for updating:\n",
      "Please use `rate` instead of `keep_prob`. Rate should be set to `rate = 1 - keep_prob`.\n",
      "WARNING:tensorflow:From /usr/common/software/tensorflow/intel-tensorflow/1.13.1-py36/lib/python3.6/site-packages/tensorflow/python/keras/utils/losses_utils.py:170: to_float (from tensorflow.python.ops.math_ops) is deprecated and will be removed in a future version.\n",
      "Instructions for updating:\n",
      "Use tf.cast instead.\n",
      "WARNING:tensorflow:From /usr/common/software/tensorflow/intel-tensorflow/1.13.1-py36/lib/python3.6/site-packages/tensorflow/python/ops/math_ops.py:3066: to_int32 (from tensorflow.python.ops.math_ops) is deprecated and will be removed in a future version.\n",
      "Instructions for updating:\n",
      "Use tf.cast instead.\n"
     ]
    }
   ],
   "source": [
    "# Load the model checkpoint\n",
    "checkpoint = os.path.join(result_dir, 'checkpoint-{epoch:03d}.h5'.format(epoch=best_epoch))\n",
    "model = tf.keras.models.load_model(checkpoint)"
   ]
  },
  {
   "cell_type": "code",
   "execution_count": 18,
   "metadata": {},
   "outputs": [
    {
     "name": "stdout",
     "output_type": "stream",
     "text": [
      "_________________________________________________________________\n",
      "Layer (type)                 Output Shape              Param #   \n",
      "=================================================================\n",
      "conv3d (Conv3D)              (None, 128, 128, 128, 16) 448       \n",
      "_________________________________________________________________\n",
      "max_pooling3d (MaxPooling3D) (None, 64, 64, 64, 16)    0         \n",
      "_________________________________________________________________\n",
      "conv3d_1 (Conv3D)            (None, 64, 64, 64, 16)    6928      \n",
      "_________________________________________________________________\n",
      "max_pooling3d_1 (MaxPooling3 (None, 32, 32, 32, 16)    0         \n",
      "_________________________________________________________________\n",
      "conv3d_2 (Conv3D)            (None, 32, 32, 32, 16)    6928      \n",
      "_________________________________________________________________\n",
      "max_pooling3d_2 (MaxPooling3 (None, 16, 16, 16, 16)    0         \n",
      "_________________________________________________________________\n",
      "conv3d_3 (Conv3D)            (None, 16, 16, 16, 16)    6928      \n",
      "_________________________________________________________________\n",
      "max_pooling3d_3 (MaxPooling3 (None, 8, 8, 8, 16)       0         \n",
      "_________________________________________________________________\n",
      "conv3d_4 (Conv3D)            (None, 8, 8, 8, 16)       6928      \n",
      "_________________________________________________________________\n",
      "max_pooling3d_4 (MaxPooling3 (None, 4, 4, 4, 16)       0         \n",
      "_________________________________________________________________\n",
      "flatten (Flatten)            (None, 1024)              0         \n",
      "_________________________________________________________________\n",
      "dense (Dense)                (None, 128)               131200    \n",
      "_________________________________________________________________\n",
      "dropout (Dropout)            (None, 128)               0         \n",
      "_________________________________________________________________\n",
      "dense_1 (Dense)              (None, 64)                8256      \n",
      "_________________________________________________________________\n",
      "dropout_1 (Dropout)          (None, 64)                0         \n",
      "_________________________________________________________________\n",
      "dense_2 (Dense)              (None, 3)                 195       \n",
      "=================================================================\n",
      "Total params: 167,811\n",
      "Trainable params: 167,811\n",
      "Non-trainable params: 0\n",
      "_________________________________________________________________\n"
     ]
    }
   ],
   "source": [
    "model.summary()"
   ]
  },
  {
   "cell_type": "raw",
   "metadata": {},
   "source": [
    "checkpoint = tf.train.latest_checkpoint(result_dir)\n",
    "\n",
    "model = get_model(**config['model'])\n",
    "opt = get_optimizer(**config['optimizer'])\n",
    "train_config = config['train']\n",
    "model.compile(optimizer=opt, loss=train_config['loss'],\n",
    "              metrics=train_config['metrics'])\n",
    "model.load_weights(checkpoint)\n",
    "model.summary()"
   ]
  },
  {
   "cell_type": "markdown",
   "metadata": {},
   "source": [
    "## Evaluate the model on a test set"
   ]
  },
  {
   "cell_type": "code",
   "execution_count": 19,
   "metadata": {},
   "outputs": [
    {
     "data": {
      "text/plain": [
       "{'name': 'cosmo',\n",
       " 'data_dir': '/project/projectdirs/m3363/www/cosmoUniverse_2018_10_3parA/dim128_cube',\n",
       " 'n_train_files': 2048,\n",
       " 'n_valid_files': 1024,\n",
       " 'samples_per_file': 16,\n",
       " 'batch_size': 4,\n",
       " 'n_epochs': 64}"
      ]
     },
     "execution_count": 19,
     "metadata": {},
     "output_type": "execute_result"
    }
   ],
   "source": [
    "config['data']"
   ]
  },
  {
   "cell_type": "code",
   "execution_count": 20,
   "metadata": {},
   "outputs": [],
   "source": [
    "n_test_files = 8\n",
    "data_config = config['data']\n",
    "batch_size = data_config['batch_size']\n",
    "data_dir = data_config['data_dir']\n",
    "n_test = n_test_files * data_config['samples_per_file']\n",
    "n_test_steps = n_test // batch_size"
   ]
  },
  {
   "cell_type": "code",
   "execution_count": 21,
   "metadata": {},
   "outputs": [],
   "source": [
    "all_files = [os.path.join(data_dir, f) for f in os.listdir(data_dir)\n",
    "             if f.endswith('tfrecords')]\n",
    "test_files = all_files[-n_test_files:]"
   ]
  },
  {
   "cell_type": "code",
   "execution_count": 22,
   "metadata": {},
   "outputs": [],
   "source": [
    "# Construct the test dataset\n",
    "test_data = construct_dataset(test_files, batch_size=batch_size, n_epochs=1)"
   ]
  },
  {
   "cell_type": "code",
   "execution_count": 23,
   "metadata": {},
   "outputs": [
    {
     "name": "stdout",
     "output_type": "stream",
     "text": [
      "32/32 [==============================] - 47s 1s/step\n"
     ]
    }
   ],
   "source": [
    "# Apply the model to the test set\n",
    "test_pred = model.predict(test_data, steps=n_test_steps, verbose=1)"
   ]
  },
  {
   "cell_type": "code",
   "execution_count": 24,
   "metadata": {},
   "outputs": [],
   "source": [
    "def convert_data_to_np(dataset, n_steps):\n",
    "    iter_next = dataset.make_one_shot_iterator().get_next()\n",
    "    with tf.Session() as sess:\n",
    "        converted_data = [sess.run(iter_next) for i in range(n_steps)]\n",
    "        return map(np.concatenate, zip(*converted_data))"
   ]
  },
  {
   "cell_type": "code",
   "execution_count": 25,
   "metadata": {},
   "outputs": [],
   "source": [
    "test_x, test_y = convert_data_to_np(test_data, n_test_steps)"
   ]
  },
  {
   "cell_type": "code",
   "execution_count": 26,
   "metadata": {},
   "outputs": [
    {
     "data": {
      "text/plain": [
       "((128, 128, 128, 128, 1), (128, 3), (128, 3))"
      ]
     },
     "execution_count": 26,
     "metadata": {},
     "output_type": "execute_result"
    }
   ],
   "source": [
    "test_x.shape, test_y.shape, test_pred.shape"
   ]
  },
  {
   "cell_type": "raw",
   "metadata": {},
   "source": [
    "test_loss, test_mae = model.evaluate(test_data, steps=n_test)\n",
    "\n",
    "print('Loss: %.4f' % test_loss)\n",
    "print('MAE: %.4f' % test_mae)"
   ]
  },
  {
   "cell_type": "markdown",
   "metadata": {},
   "source": [
    "## Model analysis\n",
    "\n",
    "Let's make some detailed plots to understand the performance of the model"
   ]
  },
  {
   "cell_type": "code",
   "execution_count": 42,
   "metadata": {},
   "outputs": [
    {
     "data": {
      "text/plain": [
       "(128, 128, 128, 128, 1)"
      ]
     },
     "execution_count": 42,
     "metadata": {},
     "output_type": "execute_result"
    }
   ],
   "source": [
    "test_x.shape"
   ]
  },
  {
   "cell_type": "code",
   "execution_count": null,
   "metadata": {},
   "outputs": [],
   "source": [
    "np.median(test_x, axis=[1, 2, 3, 4])"
   ]
  },
  {
   "cell_type": "code",
   "execution_count": 27,
   "metadata": {},
   "outputs": [
    {
     "data": {
      "image/png": "[encoded data removed]",
      "text/plain": [
       "<Figure size 864x360 with 2 Axes>"
      ]
     },
     "metadata": {
      "needs_background": "light"
     },
     "output_type": "display_data"
    }
   ],
   "source": [
    "# Voxel value distributions\n",
    "fig, (ax0, ax1) = plt.subplots(ncols=2, figsize=(12, 5))\n",
    "\n",
    "# Voxel value\n",
    "ax0.hist(test_x.flatten(), log=True, bins=50)\n",
    "ax0.set_xlabel('Voxel values')\n",
    "\n",
    "# Maximum voxel value\n",
    "ax1.hist(test_x.reshape(n_test, -1).max(axis=1))\n",
    "ax1.set_xlabel('Maximum voxel value')\n",
    "\n",
    "plt.tight_layout()"
   ]
  },
  {
   "cell_type": "code",
   "execution_count": 33,
   "metadata": {},
   "outputs": [
    {
     "data": {
      "text/plain": [
       "(-0.997803, 0.999146)"
      ]
     },
     "execution_count": 33,
     "metadata": {},
     "output_type": "execute_result"
    }
   ],
   "source": [
    "test_y.min(), test_y.max()"
   ]
  },
  {
   "cell_type": "code",
   "execution_count": 34,
   "metadata": {},
   "outputs": [
    {
     "data": {
      "text/plain": [
       "(-1.0751144, 0.787653)"
      ]
     },
     "execution_count": 34,
     "metadata": {},
     "output_type": "execute_result"
    }
   ],
   "source": [
    "test_pred.min(), test_pred.max()"
   ]
  },
  {
   "cell_type": "code",
   "execution_count": 37,
   "metadata": {},
   "outputs": [
    {
     "data": {
      "image/png": "[encoded data removed]",
      "text/plain": [
       "<Figure size 1152x360 with 3 Axes>"
      ]
     },
     "metadata": {
      "needs_background": "light"
     },
     "output_type": "display_data"
    }
   ],
   "source": [
    "# 1D Distributions of cosmo params\n",
    "fig, (ax0, ax1, ax2) = plt.subplots(ncols=3, figsize=(16, 5))\n",
    "\n",
    "hist_args = dict(bins=10, range=(-1,1), alpha=0.6)\n",
    "ax0.hist(test_y[:,0], label='target', **hist_args)\n",
    "ax0.hist(test_pred[:,0], label='predicted', **hist_args)\n",
    "ax0.legend(loc=0)\n",
    "ax1.hist(test_y[:,1], label='target', **hist_args)\n",
    "ax1.hist(test_pred[:,1], label='predicted', **hist_args)\n",
    "ax1.legend(loc=0)\n",
    "ax2.hist(test_y[:,2], label='target', **hist_args)\n",
    "ax2.hist(test_pred[:,2], label='predicted', **hist_args)\n",
    "ax2.legend(loc=0)\n",
    "\n",
    "plt.tight_layout()"
   ]
  },
  {
   "cell_type": "code",
   "execution_count": 29,
   "metadata": {},
   "outputs": [
    {
     "data": {
      "text/plain": [
       "[<matplotlib.lines.Line2D at 0x2aab5550ffd0>]"
      ]
     },
     "execution_count": 29,
     "metadata": {},
     "output_type": "execute_result"
    },
    {
     "data": {
      "image/png": "[encoded data removed]",
      "text/plain": [
       "<Figure size 1152x360 with 3 Axes>"
      ]
     },
     "metadata": {
      "needs_background": "light"
     },
     "output_type": "display_data"
    }
   ],
   "source": [
    "fig, (ax0, ax1, ax2) = plt.subplots(ncols=3, figsize=(16, 5))\n",
    "\n",
    "ax0.scatter(test_pred[:,0], test_y[:,0])\n",
    "ax0.plot([-1, 1], [-1, 1], 'r--')\n",
    "ax1.scatter(test_pred[:,1], test_y[:,1])\n",
    "ax1.plot([-1, 1], [-1, 1], 'r--')\n",
    "ax2.scatter(test_pred[:,2], test_y[:,2])\n",
    "ax2.plot([-1, 1], [-1, 1], 'r--')"
   ]
  },
  {
   "cell_type": "markdown",
   "metadata": {},
   "source": [
    "## Discussion\n",
    "\n",
    "This model is training, but not yet doing very well."
   ]
  }
 ],
 "metadata": {
  "kernelspec": {
   "display_name": "tensorflow-intel(cpu)/1.13.1-py36",
   "language": "python",
   "name": "tensorflow_intel_1.13.1_py36"
  },
  "language_info": {
   "codemirror_mode": {
    "name": "ipython",
    "version": 3
   },
   "file_extension": ".py",
   "mimetype": "text/x-python",
   "name": "python",
   "nbconvert_exporter": "python",
   "pygments_lexer": "ipython3",
   "version": "3.6.8"
  }
 },
 "nbformat": 4,
 "nbformat_minor": 2
}
