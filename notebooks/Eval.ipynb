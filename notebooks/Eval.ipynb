{
 "cells": [
  {
   "cell_type": "markdown",
   "metadata": {},
   "source": [
    "# Evaluation of CosmoFlow training"
   ]
  },
  {
   "cell_type": "code",
   "execution_count": 1,
   "metadata": {},
   "outputs": [],
   "source": [
    "import os\n",
    "import sys\n",
    "import yaml\n",
    "\n",
    "sys.path.append('..')"
   ]
  },
  {
   "cell_type": "code",
   "execution_count": 2,
   "metadata": {},
   "outputs": [],
   "source": [
    "import numpy as np\n",
    "import pandas as pd\n",
    "\n",
    "import tensorflow as tf\n",
    "\n",
    "import matplotlib.pyplot as plt\n",
    "plt.rcParams.update({'font.size': 14})"
   ]
  },
  {
   "cell_type": "code",
   "execution_count": 3,
   "metadata": {},
   "outputs": [
    {
     "name": "stderr",
     "output_type": "stream",
     "text": [
      "WARNING: Logging before flag parsing goes to stderr.\n",
      "W1020 16:26:23.879082 46912496621376 deprecation_wrapper.py:119] From /global/cscratch1/sd/sfarrell/conda/tensorflow/v1.14.0/lib/python3.6/site-packages/horovod/tensorflow/__init__.py:118: The name tf.global_variables is deprecated. Please use tf.compat.v1.global_variables instead.\n",
      "\n",
      "W1020 16:26:23.879966 46912496621376 deprecation_wrapper.py:119] From /global/cscratch1/sd/sfarrell/conda/tensorflow/v1.14.0/lib/python3.6/site-packages/horovod/tensorflow/__init__.py:144: The name tf.get_default_graph is deprecated. Please use tf.compat.v1.get_default_graph instead.\n",
      "\n"
     ]
    }
   ],
   "source": [
    "from models import get_model\n",
    "from data.cosmo import construct_dataset\n",
    "from utils.optimizers import get_optimizer"
   ]
  },
  {
   "cell_type": "code",
   "execution_count": 4,
   "metadata": {},
   "outputs": [],
   "source": [
    "%matplotlib inline"
   ]
  },
  {
   "cell_type": "markdown",
   "metadata": {},
   "source": [
    "## Load configuration"
   ]
  },
  {
   "cell_type": "code",
   "execution_count": 5,
   "metadata": {},
   "outputs": [],
   "source": [
    "def load_config(config_file):\n",
    "    \"\"\"Reads the YAML config file and returns a config dictionary\"\"\"\n",
    "    with open(config_file) as f:\n",
    "        return yaml.load(f, Loader=yaml.FullLoader)"
   ]
  },
  {
   "cell_type": "code",
   "execution_count": 6,
   "metadata": {},
   "outputs": [
    {
     "name": "stdout",
     "output_type": "stream",
     "text": [
      "cosmo.yaml      cosmo_sgd.yaml  scaling_dummy.yaml\n",
      "cosmo_new.yaml  scaling.yaml    test.yaml\n"
     ]
    }
   ],
   "source": [
    "ls ../configs"
   ]
  },
  {
   "cell_type": "code",
   "execution_count": 7,
   "metadata": {},
   "outputs": [],
   "source": [
    "config_file = '../configs/cosmo.yaml'"
   ]
  },
  {
   "cell_type": "code",
   "execution_count": 8,
   "metadata": {},
   "outputs": [],
   "source": [
    "config = load_config(config_file)"
   ]
  },
  {
   "cell_type": "code",
   "execution_count": 9,
   "metadata": {},
   "outputs": [
    {
     "data": {
      "text/plain": [
       "{'output_dir': '$SCRATCH/cosmoflow-benchmark/cosmoflow-19-10-18',\n",
       " 'data': {'name': 'cosmo',\n",
       "  'data_dir': '/global/cscratch1/sd/sfarrell/cosmoflow-benchmark/data/cosmoUniverse_2019_02_4parE/dim128_cube_nT4',\n",
       "  'n_train_files': 640,\n",
       "  'n_valid_files': 256,\n",
       "  'samples_per_file': 64,\n",
       "  'sample_shape': [128, 128, 128, 4],\n",
       "  'batch_size': 1,\n",
       "  'n_epochs': 64},\n",
       " 'model': {'name': 'cosmoflow',\n",
       "  'input_shape': [128, 128, 128, 4],\n",
       "  'target_size': 4,\n",
       "  'dropout': 0.2},\n",
       " 'optimizer': {'name': 'Adadelta', 'lr': 0.5, 'lr_scaling': 'none'},\n",
       " 'train': {'loss': 'mse',\n",
       "  'metrics': ['mae'],\n",
       "  'lr_schedule': [{'start_epoch': 16, 'end_epoch': 32, 'multiplier': 0.3},\n",
       "   {'start_epoch': 32, 'end_epoch': 64, 'multiplier': 0.1}]}}"
      ]
     },
     "execution_count": 9,
     "metadata": {},
     "output_type": "execute_result"
    }
   ],
   "source": [
    "config"
   ]
  },
  {
   "cell_type": "markdown",
   "metadata": {},
   "source": [
    "## View training history"
   ]
  },
  {
   "cell_type": "code",
   "execution_count": 10,
   "metadata": {},
   "outputs": [],
   "source": [
    "def load_history(result_dir):\n",
    "    return pd.read_csv(os.path.join(result_dir, 'history.csv'))"
   ]
  },
  {
   "cell_type": "code",
   "execution_count": 11,
   "metadata": {},
   "outputs": [
    {
     "name": "stdout",
     "output_type": "stream",
     "text": [
      "\u001b[0m\u001b[01;34mcosmoflow-001\u001b[0m/            \u001b[01;34mcosmoflow-19-06-22-test\u001b[0m/  \u001b[01;34mcosmoflow-19-08-30-gpu\u001b[0m/\n",
      "\u001b[01;34mcosmoflow-19-06-11\u001b[0m/       \u001b[01;34mcosmoflow-19-06-24\u001b[0m/       \u001b[01;34mcosmoflow-19-09-09-sgd\u001b[0m/\n",
      "\u001b[01;34mcosmoflow-19-06-12\u001b[0m/       \u001b[01;34mcosmoflow-19-06-25\u001b[0m/       \u001b[01;34mcosmoflow-19-10-18\u001b[0m/\n",
      "\u001b[01;34mcosmoflow-19-06-13\u001b[0m/       \u001b[01;34mcosmoflow-19-06-25-cpu\u001b[0m/   \u001b[01;34mcosmoflow-test\u001b[0m/\n",
      "\u001b[01;34mcosmoflow-19-06-17\u001b[0m/       \u001b[01;34mcosmoflow-19-07-13-cpu\u001b[0m/   \u001b[01;34mdata\u001b[0m/\n",
      "\u001b[01;34mcosmoflow-19-06-19\u001b[0m/       \u001b[01;34mcosmoflow-19-08-17-cpu\u001b[0m/   \u001b[01;34mtest\u001b[0m/\n",
      "\u001b[01;34mcosmoflow-19-06-22-1gpu\u001b[0m/  \u001b[01;34mcosmoflow-19-08-17-gpu\u001b[0m/\n"
     ]
    }
   ],
   "source": [
    "ls /global/cscratch1/sd/sfarrell/cosmoflow-benchmark"
   ]
  },
  {
   "cell_type": "code",
   "execution_count": 12,
   "metadata": {},
   "outputs": [],
   "source": [
    "result_dir = os.path.expandvars(config['output_dir'])\n",
    "#result_dir = '/global/cscratch1/sd/sfarrell/cosmoflow-benchmark/cosmoflow-19-06-17'"
   ]
  },
  {
   "cell_type": "code",
   "execution_count": 13,
   "metadata": {},
   "outputs": [
    {
     "name": "stdout",
     "output_type": "stream",
     "text": [
      "total 58292\n",
      "-rw-rw---- 1 sfarrell sfarrell 961184 Oct 19 07:58 checkpoint-001.h5\n",
      "-rw-rw---- 1 sfarrell sfarrell 961184 Oct 19 08:14 checkpoint-002.h5\n",
      "-rw-rw---- 1 sfarrell sfarrell 961184 Oct 19 08:29 checkpoint-003.h5\n",
      "-rw-rw---- 1 sfarrell sfarrell 961184 Oct 19 08:45 checkpoint-004.h5\n",
      "-rw-rw---- 1 sfarrell sfarrell 961184 Oct 19 09:00 checkpoint-005.h5\n",
      "-rw-rw---- 1 sfarrell sfarrell 961184 Oct 19 09:15 checkpoint-006.h5\n",
      "-rw-rw---- 1 sfarrell sfarrell 961184 Oct 19 09:32 checkpoint-007.h5\n",
      "-rw-rw---- 1 sfarrell sfarrell 961184 Oct 19 09:48 checkpoint-008.h5\n",
      "-rw-rw---- 1 sfarrell sfarrell 961184 Oct 19 10:05 checkpoint-009.h5\n",
      "-rw-rw---- 1 sfarrell sfarrell 961184 Oct 19 10:21 checkpoint-010.h5\n",
      "-rw-rw---- 1 sfarrell sfarrell 961184 Oct 19 10:36 checkpoint-011.h5\n",
      "-rw-rw---- 1 sfarrell sfarrell 961184 Oct 19 10:53 checkpoint-012.h5\n",
      "-rw-rw---- 1 sfarrell sfarrell 961184 Oct 19 11:08 checkpoint-013.h5\n",
      "-rw-rw---- 1 sfarrell sfarrell 961184 Oct 19 11:24 checkpoint-014.h5\n",
      "-rw-rw---- 1 sfarrell sfarrell 961184 Oct 19 11:40 checkpoint-015.h5\n",
      "-rw-rw---- 1 sfarrell sfarrell 961184 Oct 19 11:55 checkpoint-016.h5\n",
      "-rw-rw---- 1 sfarrell sfarrell 961184 Oct 19 12:10 checkpoint-017.h5\n",
      "-rw-rw---- 1 sfarrell sfarrell 961184 Oct 19 12:25 checkpoint-018.h5\n",
      "-rw-rw---- 1 sfarrell sfarrell 961184 Oct 19 12:40 checkpoint-019.h5\n",
      "-rw-rw---- 1 sfarrell sfarrell 961184 Oct 19 12:55 checkpoint-020.h5\n",
      "-rw-rw---- 1 sfarrell sfarrell 961184 Oct 19 13:11 checkpoint-021.h5\n",
      "-rw-rw---- 1 sfarrell sfarrell 961184 Oct 19 13:26 checkpoint-022.h5\n",
      "-rw-rw---- 1 sfarrell sfarrell 961184 Oct 19 13:42 checkpoint-023.h5\n",
      "-rw-rw---- 1 sfarrell sfarrell 961184 Oct 19 13:57 checkpoint-024.h5\n",
      "-rw-rw---- 1 sfarrell sfarrell 961184 Oct 19 14:12 checkpoint-025.h5\n",
      "-rw-rw---- 1 sfarrell sfarrell 961184 Oct 19 14:28 checkpoint-026.h5\n",
      "-rw-rw---- 1 sfarrell sfarrell 961184 Oct 19 14:43 checkpoint-027.h5\n",
      "-rw-rw---- 1 sfarrell sfarrell 961184 Oct 19 14:58 checkpoint-028.h5\n",
      "-rw-rw---- 1 sfarrell sfarrell 961184 Oct 19 15:13 checkpoint-029.h5\n",
      "-rw-rw---- 1 sfarrell sfarrell 961184 Oct 19 15:28 checkpoint-030.h5\n",
      "-rw-rw---- 1 sfarrell sfarrell 961120 Oct 19 15:57 checkpoint-031.h5\n",
      "-rw-rw---- 1 sfarrell sfarrell 961120 Oct 19 16:11 checkpoint-032.h5\n",
      "-rw-rw---- 1 sfarrell sfarrell 961120 Oct 19 16:26 checkpoint-033.h5\n",
      "-rw-rw---- 1 sfarrell sfarrell 961120 Oct 19 16:40 checkpoint-034.h5\n",
      "-rw-rw---- 1 sfarrell sfarrell 961120 Oct 19 16:54 checkpoint-035.h5\n",
      "-rw-rw---- 1 sfarrell sfarrell 961120 Oct 19 17:09 checkpoint-036.h5\n",
      "-rw-rw---- 1 sfarrell sfarrell 961120 Oct 19 17:23 checkpoint-037.h5\n",
      "-rw-rw---- 1 sfarrell sfarrell 961120 Oct 19 17:37 checkpoint-038.h5\n",
      "-rw-rw---- 1 sfarrell sfarrell 961120 Oct 19 17:52 checkpoint-039.h5\n",
      "-rw-rw---- 1 sfarrell sfarrell 961120 Oct 19 18:06 checkpoint-040.h5\n",
      "-rw-rw---- 1 sfarrell sfarrell 961120 Oct 19 18:21 checkpoint-041.h5\n",
      "-rw-rw---- 1 sfarrell sfarrell 961120 Oct 19 18:36 checkpoint-042.h5\n",
      "-rw-rw---- 1 sfarrell sfarrell 961120 Oct 19 18:51 checkpoint-043.h5\n",
      "-rw-rw---- 1 sfarrell sfarrell 961120 Oct 19 19:05 checkpoint-044.h5\n",
      "-rw-rw---- 1 sfarrell sfarrell 961120 Oct 19 19:20 checkpoint-045.h5\n",
      "-rw-rw---- 1 sfarrell sfarrell 961120 Oct 19 19:35 checkpoint-046.h5\n",
      "-rw-rw---- 1 sfarrell sfarrell 961120 Oct 19 19:50 checkpoint-047.h5\n",
      "-rw-rw---- 1 sfarrell sfarrell 961120 Oct 19 20:05 checkpoint-048.h5\n",
      "-rw-rw---- 1 sfarrell sfarrell 961120 Oct 19 20:20 checkpoint-049.h5\n",
      "-rw-rw---- 1 sfarrell sfarrell 961120 Oct 19 20:34 checkpoint-050.h5\n",
      "-rw-rw---- 1 sfarrell sfarrell 961120 Oct 19 20:51 checkpoint-051.h5\n",
      "-rw-rw---- 1 sfarrell sfarrell 961120 Oct 19 21:06 checkpoint-052.h5\n",
      "-rw-rw---- 1 sfarrell sfarrell 961120 Oct 19 21:21 checkpoint-053.h5\n",
      "-rw-rw---- 1 sfarrell sfarrell 961120 Oct 19 21:35 checkpoint-054.h5\n",
      "-rw-rw---- 1 sfarrell sfarrell 961120 Oct 19 21:51 checkpoint-055.h5\n",
      "-rw-rw---- 1 sfarrell sfarrell 961120 Oct 19 22:06 checkpoint-056.h5\n",
      "-rw-rw---- 1 sfarrell sfarrell 961120 Oct 19 22:21 checkpoint-057.h5\n",
      "-rw-rw---- 1 sfarrell sfarrell 961120 Oct 19 22:36 checkpoint-058.h5\n",
      "-rw-rw---- 1 sfarrell sfarrell 961120 Oct 19 22:51 checkpoint-059.h5\n",
      "-rw-rw---- 1 sfarrell sfarrell 961120 Oct 19 23:06 checkpoint-060.h5\n",
      "-rw-rw---- 1 sfarrell sfarrell 961120 Oct 19 23:21 checkpoint-061.h5\n",
      "-rw-rw---- 1 sfarrell sfarrell 961120 Oct 19 23:37 checkpoint-062.h5\n",
      "-rw-rw---- 1 sfarrell sfarrell    870 Oct 19 15:42 config.pkl\n",
      "-rw-rw---- 1 sfarrell sfarrell   5743 Oct 19 23:37 history.csv\n"
     ]
    }
   ],
   "source": [
    "ls -l $result_dir"
   ]
  },
  {
   "cell_type": "code",
   "execution_count": 14,
   "metadata": {},
   "outputs": [],
   "source": [
    "train_history = load_history(result_dir)"
   ]
  },
  {
   "cell_type": "code",
   "execution_count": 15,
   "metadata": {},
   "outputs": [
    {
     "data": {
      "text/html": [
       "<div>\n",
       "<style scoped>\n",
       "    .dataframe tbody tr th:only-of-type {\n",
       "        vertical-align: middle;\n",
       "    }\n",
       "\n",
       "    .dataframe tbody tr th {\n",
       "        vertical-align: top;\n",
       "    }\n",
       "\n",
       "    .dataframe thead th {\n",
       "        text-align: right;\n",
       "    }\n",
       "</style>\n",
       "<table border=\"1\" class=\"dataframe\">\n",
       "  <thead>\n",
       "    <tr style=\"text-align: right;\">\n",
       "      <th></th>\n",
       "      <th>epoch</th>\n",
       "      <th>loss</th>\n",
       "      <th>lr</th>\n",
       "      <th>mean_absolute_error</th>\n",
       "      <th>time</th>\n",
       "      <th>val_loss</th>\n",
       "      <th>val_mean_absolute_error</th>\n",
       "    </tr>\n",
       "  </thead>\n",
       "  <tbody>\n",
       "    <tr>\n",
       "      <th>0</th>\n",
       "      <td>0</td>\n",
       "      <td>1.737450</td>\n",
       "      <td>0.500</td>\n",
       "      <td>1.186760</td>\n",
       "      <td>957.776854</td>\n",
       "      <td>1.747795</td>\n",
       "      <td>1.190827</td>\n",
       "    </tr>\n",
       "    <tr>\n",
       "      <th>1</th>\n",
       "      <td>1</td>\n",
       "      <td>1.747173</td>\n",
       "      <td>0.500</td>\n",
       "      <td>1.190925</td>\n",
       "      <td>934.249404</td>\n",
       "      <td>1.747795</td>\n",
       "      <td>1.190827</td>\n",
       "    </tr>\n",
       "    <tr>\n",
       "      <th>2</th>\n",
       "      <td>2</td>\n",
       "      <td>1.746746</td>\n",
       "      <td>0.500</td>\n",
       "      <td>1.190755</td>\n",
       "      <td>928.898512</td>\n",
       "      <td>1.747795</td>\n",
       "      <td>1.190827</td>\n",
       "    </tr>\n",
       "    <tr>\n",
       "      <th>3</th>\n",
       "      <td>3</td>\n",
       "      <td>1.747001</td>\n",
       "      <td>0.500</td>\n",
       "      <td>1.190858</td>\n",
       "      <td>931.646524</td>\n",
       "      <td>1.747795</td>\n",
       "      <td>1.190827</td>\n",
       "    </tr>\n",
       "    <tr>\n",
       "      <th>4</th>\n",
       "      <td>4</td>\n",
       "      <td>1.745746</td>\n",
       "      <td>0.500</td>\n",
       "      <td>1.190278</td>\n",
       "      <td>915.790945</td>\n",
       "      <td>1.760793</td>\n",
       "      <td>1.196243</td>\n",
       "    </tr>\n",
       "    <tr>\n",
       "      <th>5</th>\n",
       "      <td>5</td>\n",
       "      <td>1.629984</td>\n",
       "      <td>0.500</td>\n",
       "      <td>1.130479</td>\n",
       "      <td>919.872746</td>\n",
       "      <td>0.212659</td>\n",
       "      <td>0.377656</td>\n",
       "    </tr>\n",
       "    <tr>\n",
       "      <th>6</th>\n",
       "      <td>6</td>\n",
       "      <td>0.189316</td>\n",
       "      <td>0.500</td>\n",
       "      <td>0.349230</td>\n",
       "      <td>976.843138</td>\n",
       "      <td>0.148080</td>\n",
       "      <td>0.305564</td>\n",
       "    </tr>\n",
       "    <tr>\n",
       "      <th>7</th>\n",
       "      <td>7</td>\n",
       "      <td>0.135787</td>\n",
       "      <td>0.500</td>\n",
       "      <td>0.291230</td>\n",
       "      <td>970.374903</td>\n",
       "      <td>0.096359</td>\n",
       "      <td>0.244728</td>\n",
       "    </tr>\n",
       "    <tr>\n",
       "      <th>8</th>\n",
       "      <td>8</td>\n",
       "      <td>0.107725</td>\n",
       "      <td>0.500</td>\n",
       "      <td>0.258586</td>\n",
       "      <td>1046.096810</td>\n",
       "      <td>0.072005</td>\n",
       "      <td>0.208266</td>\n",
       "    </tr>\n",
       "    <tr>\n",
       "      <th>9</th>\n",
       "      <td>9</td>\n",
       "      <td>0.096290</td>\n",
       "      <td>0.500</td>\n",
       "      <td>0.243860</td>\n",
       "      <td>929.658820</td>\n",
       "      <td>0.160876</td>\n",
       "      <td>0.315663</td>\n",
       "    </tr>\n",
       "    <tr>\n",
       "      <th>10</th>\n",
       "      <td>10</td>\n",
       "      <td>0.088818</td>\n",
       "      <td>0.500</td>\n",
       "      <td>0.233184</td>\n",
       "      <td>938.817480</td>\n",
       "      <td>0.065726</td>\n",
       "      <td>0.195978</td>\n",
       "    </tr>\n",
       "    <tr>\n",
       "      <th>11</th>\n",
       "      <td>11</td>\n",
       "      <td>0.084513</td>\n",
       "      <td>0.500</td>\n",
       "      <td>0.227235</td>\n",
       "      <td>973.054044</td>\n",
       "      <td>0.067852</td>\n",
       "      <td>0.203009</td>\n",
       "    </tr>\n",
       "    <tr>\n",
       "      <th>12</th>\n",
       "      <td>12</td>\n",
       "      <td>0.081479</td>\n",
       "      <td>0.500</td>\n",
       "      <td>0.222661</td>\n",
       "      <td>958.030426</td>\n",
       "      <td>0.067873</td>\n",
       "      <td>0.196557</td>\n",
       "    </tr>\n",
       "    <tr>\n",
       "      <th>13</th>\n",
       "      <td>13</td>\n",
       "      <td>0.079547</td>\n",
       "      <td>0.500</td>\n",
       "      <td>0.219790</td>\n",
       "      <td>928.524481</td>\n",
       "      <td>0.061731</td>\n",
       "      <td>0.188257</td>\n",
       "    </tr>\n",
       "    <tr>\n",
       "      <th>14</th>\n",
       "      <td>14</td>\n",
       "      <td>0.077231</td>\n",
       "      <td>0.500</td>\n",
       "      <td>0.215977</td>\n",
       "      <td>933.931597</td>\n",
       "      <td>0.064641</td>\n",
       "      <td>0.194816</td>\n",
       "    </tr>\n",
       "    <tr>\n",
       "      <th>15</th>\n",
       "      <td>15</td>\n",
       "      <td>0.075355</td>\n",
       "      <td>0.500</td>\n",
       "      <td>0.213236</td>\n",
       "      <td>910.466209</td>\n",
       "      <td>0.073705</td>\n",
       "      <td>0.216164</td>\n",
       "    </tr>\n",
       "    <tr>\n",
       "      <th>16</th>\n",
       "      <td>16</td>\n",
       "      <td>0.059527</td>\n",
       "      <td>0.150</td>\n",
       "      <td>0.185235</td>\n",
       "      <td>915.628406</td>\n",
       "      <td>0.054379</td>\n",
       "      <td>0.173742</td>\n",
       "    </tr>\n",
       "    <tr>\n",
       "      <th>17</th>\n",
       "      <td>17</td>\n",
       "      <td>0.057850</td>\n",
       "      <td>0.150</td>\n",
       "      <td>0.182217</td>\n",
       "      <td>899.904002</td>\n",
       "      <td>0.051235</td>\n",
       "      <td>0.167869</td>\n",
       "    </tr>\n",
       "    <tr>\n",
       "      <th>18</th>\n",
       "      <td>18</td>\n",
       "      <td>0.056967</td>\n",
       "      <td>0.150</td>\n",
       "      <td>0.180398</td>\n",
       "      <td>906.823144</td>\n",
       "      <td>0.050354</td>\n",
       "      <td>0.164693</td>\n",
       "    </tr>\n",
       "    <tr>\n",
       "      <th>19</th>\n",
       "      <td>19</td>\n",
       "      <td>0.056139</td>\n",
       "      <td>0.150</td>\n",
       "      <td>0.179472</td>\n",
       "      <td>912.370421</td>\n",
       "      <td>0.051691</td>\n",
       "      <td>0.168927</td>\n",
       "    </tr>\n",
       "    <tr>\n",
       "      <th>20</th>\n",
       "      <td>20</td>\n",
       "      <td>0.055790</td>\n",
       "      <td>0.150</td>\n",
       "      <td>0.178690</td>\n",
       "      <td>917.441960</td>\n",
       "      <td>0.053394</td>\n",
       "      <td>0.170272</td>\n",
       "    </tr>\n",
       "    <tr>\n",
       "      <th>21</th>\n",
       "      <td>21</td>\n",
       "      <td>0.054944</td>\n",
       "      <td>0.150</td>\n",
       "      <td>0.177429</td>\n",
       "      <td>921.026197</td>\n",
       "      <td>0.051388</td>\n",
       "      <td>0.168854</td>\n",
       "    </tr>\n",
       "    <tr>\n",
       "      <th>22</th>\n",
       "      <td>22</td>\n",
       "      <td>0.054717</td>\n",
       "      <td>0.150</td>\n",
       "      <td>0.176732</td>\n",
       "      <td>946.295862</td>\n",
       "      <td>0.055506</td>\n",
       "      <td>0.172628</td>\n",
       "    </tr>\n",
       "    <tr>\n",
       "      <th>23</th>\n",
       "      <td>23</td>\n",
       "      <td>0.054396</td>\n",
       "      <td>0.150</td>\n",
       "      <td>0.176153</td>\n",
       "      <td>929.424958</td>\n",
       "      <td>0.048504</td>\n",
       "      <td>0.160952</td>\n",
       "    </tr>\n",
       "    <tr>\n",
       "      <th>24</th>\n",
       "      <td>24</td>\n",
       "      <td>0.053887</td>\n",
       "      <td>0.150</td>\n",
       "      <td>0.175602</td>\n",
       "      <td>918.064109</td>\n",
       "      <td>0.049304</td>\n",
       "      <td>0.162557</td>\n",
       "    </tr>\n",
       "    <tr>\n",
       "      <th>25</th>\n",
       "      <td>25</td>\n",
       "      <td>0.053564</td>\n",
       "      <td>0.150</td>\n",
       "      <td>0.174742</td>\n",
       "      <td>907.588408</td>\n",
       "      <td>0.051360</td>\n",
       "      <td>0.168798</td>\n",
       "    </tr>\n",
       "    <tr>\n",
       "      <th>26</th>\n",
       "      <td>26</td>\n",
       "      <td>0.053211</td>\n",
       "      <td>0.150</td>\n",
       "      <td>0.174018</td>\n",
       "      <td>914.827009</td>\n",
       "      <td>0.056340</td>\n",
       "      <td>0.174785</td>\n",
       "    </tr>\n",
       "    <tr>\n",
       "      <th>27</th>\n",
       "      <td>27</td>\n",
       "      <td>0.052713</td>\n",
       "      <td>0.150</td>\n",
       "      <td>0.173322</td>\n",
       "      <td>901.562930</td>\n",
       "      <td>0.049751</td>\n",
       "      <td>0.162797</td>\n",
       "    </tr>\n",
       "    <tr>\n",
       "      <th>28</th>\n",
       "      <td>28</td>\n",
       "      <td>0.052578</td>\n",
       "      <td>0.150</td>\n",
       "      <td>0.173382</td>\n",
       "      <td>899.036204</td>\n",
       "      <td>0.048063</td>\n",
       "      <td>0.159796</td>\n",
       "    </tr>\n",
       "    <tr>\n",
       "      <th>29</th>\n",
       "      <td>29</td>\n",
       "      <td>0.052254</td>\n",
       "      <td>0.150</td>\n",
       "      <td>0.172578</td>\n",
       "      <td>886.270557</td>\n",
       "      <td>0.052315</td>\n",
       "      <td>0.171630</td>\n",
       "    </tr>\n",
       "    <tr>\n",
       "      <th>...</th>\n",
       "      <td>...</td>\n",
       "      <td>...</td>\n",
       "      <td>...</td>\n",
       "      <td>...</td>\n",
       "      <td>...</td>\n",
       "      <td>...</td>\n",
       "      <td>...</td>\n",
       "    </tr>\n",
       "    <tr>\n",
       "      <th>32</th>\n",
       "      <td>32</td>\n",
       "      <td>0.045610</td>\n",
       "      <td>0.015</td>\n",
       "      <td>0.160311</td>\n",
       "      <td>868.372442</td>\n",
       "      <td>0.047202</td>\n",
       "      <td>0.157599</td>\n",
       "    </tr>\n",
       "    <tr>\n",
       "      <th>33</th>\n",
       "      <td>33</td>\n",
       "      <td>0.045374</td>\n",
       "      <td>0.015</td>\n",
       "      <td>0.159986</td>\n",
       "      <td>853.242601</td>\n",
       "      <td>0.046867</td>\n",
       "      <td>0.156712</td>\n",
       "    </tr>\n",
       "    <tr>\n",
       "      <th>34</th>\n",
       "      <td>34</td>\n",
       "      <td>0.045190</td>\n",
       "      <td>0.015</td>\n",
       "      <td>0.159600</td>\n",
       "      <td>865.434709</td>\n",
       "      <td>0.047305</td>\n",
       "      <td>0.157697</td>\n",
       "    </tr>\n",
       "    <tr>\n",
       "      <th>35</th>\n",
       "      <td>35</td>\n",
       "      <td>0.044791</td>\n",
       "      <td>0.015</td>\n",
       "      <td>0.158982</td>\n",
       "      <td>868.796404</td>\n",
       "      <td>0.047673</td>\n",
       "      <td>0.157891</td>\n",
       "    </tr>\n",
       "    <tr>\n",
       "      <th>36</th>\n",
       "      <td>36</td>\n",
       "      <td>0.044510</td>\n",
       "      <td>0.015</td>\n",
       "      <td>0.158499</td>\n",
       "      <td>849.398712</td>\n",
       "      <td>0.047056</td>\n",
       "      <td>0.157003</td>\n",
       "    </tr>\n",
       "    <tr>\n",
       "      <th>37</th>\n",
       "      <td>37</td>\n",
       "      <td>0.044523</td>\n",
       "      <td>0.015</td>\n",
       "      <td>0.158566</td>\n",
       "      <td>866.065385</td>\n",
       "      <td>0.047181</td>\n",
       "      <td>0.157145</td>\n",
       "    </tr>\n",
       "    <tr>\n",
       "      <th>38</th>\n",
       "      <td>38</td>\n",
       "      <td>0.043994</td>\n",
       "      <td>0.015</td>\n",
       "      <td>0.157432</td>\n",
       "      <td>860.707082</td>\n",
       "      <td>0.047384</td>\n",
       "      <td>0.157446</td>\n",
       "    </tr>\n",
       "    <tr>\n",
       "      <th>39</th>\n",
       "      <td>39</td>\n",
       "      <td>0.043805</td>\n",
       "      <td>0.015</td>\n",
       "      <td>0.157358</td>\n",
       "      <td>871.400279</td>\n",
       "      <td>0.047307</td>\n",
       "      <td>0.157377</td>\n",
       "    </tr>\n",
       "    <tr>\n",
       "      <th>40</th>\n",
       "      <td>40</td>\n",
       "      <td>0.043558</td>\n",
       "      <td>0.015</td>\n",
       "      <td>0.156710</td>\n",
       "      <td>878.354399</td>\n",
       "      <td>0.047696</td>\n",
       "      <td>0.158170</td>\n",
       "    </tr>\n",
       "    <tr>\n",
       "      <th>41</th>\n",
       "      <td>41</td>\n",
       "      <td>0.043655</td>\n",
       "      <td>0.015</td>\n",
       "      <td>0.156758</td>\n",
       "      <td>895.073953</td>\n",
       "      <td>0.047376</td>\n",
       "      <td>0.157458</td>\n",
       "    </tr>\n",
       "    <tr>\n",
       "      <th>42</th>\n",
       "      <td>42</td>\n",
       "      <td>0.043140</td>\n",
       "      <td>0.015</td>\n",
       "      <td>0.156236</td>\n",
       "      <td>886.927884</td>\n",
       "      <td>0.047441</td>\n",
       "      <td>0.157457</td>\n",
       "    </tr>\n",
       "    <tr>\n",
       "      <th>43</th>\n",
       "      <td>43</td>\n",
       "      <td>0.043059</td>\n",
       "      <td>0.015</td>\n",
       "      <td>0.155723</td>\n",
       "      <td>865.738435</td>\n",
       "      <td>0.047406</td>\n",
       "      <td>0.157240</td>\n",
       "    </tr>\n",
       "    <tr>\n",
       "      <th>44</th>\n",
       "      <td>44</td>\n",
       "      <td>0.042837</td>\n",
       "      <td>0.015</td>\n",
       "      <td>0.155384</td>\n",
       "      <td>910.936816</td>\n",
       "      <td>0.047516</td>\n",
       "      <td>0.157467</td>\n",
       "    </tr>\n",
       "    <tr>\n",
       "      <th>45</th>\n",
       "      <td>45</td>\n",
       "      <td>0.042655</td>\n",
       "      <td>0.015</td>\n",
       "      <td>0.155241</td>\n",
       "      <td>916.320418</td>\n",
       "      <td>0.047404</td>\n",
       "      <td>0.157537</td>\n",
       "    </tr>\n",
       "    <tr>\n",
       "      <th>46</th>\n",
       "      <td>46</td>\n",
       "      <td>0.042503</td>\n",
       "      <td>0.015</td>\n",
       "      <td>0.155253</td>\n",
       "      <td>900.706657</td>\n",
       "      <td>0.047757</td>\n",
       "      <td>0.158030</td>\n",
       "    </tr>\n",
       "    <tr>\n",
       "      <th>47</th>\n",
       "      <td>47</td>\n",
       "      <td>0.042439</td>\n",
       "      <td>0.015</td>\n",
       "      <td>0.154910</td>\n",
       "      <td>880.457072</td>\n",
       "      <td>0.047281</td>\n",
       "      <td>0.157090</td>\n",
       "    </tr>\n",
       "    <tr>\n",
       "      <th>48</th>\n",
       "      <td>48</td>\n",
       "      <td>0.042301</td>\n",
       "      <td>0.015</td>\n",
       "      <td>0.154747</td>\n",
       "      <td>883.409168</td>\n",
       "      <td>0.047648</td>\n",
       "      <td>0.157579</td>\n",
       "    </tr>\n",
       "    <tr>\n",
       "      <th>49</th>\n",
       "      <td>49</td>\n",
       "      <td>0.041799</td>\n",
       "      <td>0.015</td>\n",
       "      <td>0.153811</td>\n",
       "      <td>873.370452</td>\n",
       "      <td>0.047738</td>\n",
       "      <td>0.157771</td>\n",
       "    </tr>\n",
       "    <tr>\n",
       "      <th>50</th>\n",
       "      <td>50</td>\n",
       "      <td>0.041401</td>\n",
       "      <td>0.015</td>\n",
       "      <td>0.153056</td>\n",
       "      <td>973.759902</td>\n",
       "      <td>0.047892</td>\n",
       "      <td>0.158294</td>\n",
       "    </tr>\n",
       "    <tr>\n",
       "      <th>51</th>\n",
       "      <td>51</td>\n",
       "      <td>0.041776</td>\n",
       "      <td>0.015</td>\n",
       "      <td>0.153662</td>\n",
       "      <td>943.816198</td>\n",
       "      <td>0.047917</td>\n",
       "      <td>0.158113</td>\n",
       "    </tr>\n",
       "    <tr>\n",
       "      <th>52</th>\n",
       "      <td>52</td>\n",
       "      <td>0.041374</td>\n",
       "      <td>0.015</td>\n",
       "      <td>0.152842</td>\n",
       "      <td>874.098454</td>\n",
       "      <td>0.048124</td>\n",
       "      <td>0.158354</td>\n",
       "    </tr>\n",
       "    <tr>\n",
       "      <th>53</th>\n",
       "      <td>53</td>\n",
       "      <td>0.041284</td>\n",
       "      <td>0.015</td>\n",
       "      <td>0.153012</td>\n",
       "      <td>865.852659</td>\n",
       "      <td>0.047937</td>\n",
       "      <td>0.157831</td>\n",
       "    </tr>\n",
       "    <tr>\n",
       "      <th>54</th>\n",
       "      <td>54</td>\n",
       "      <td>0.041133</td>\n",
       "      <td>0.015</td>\n",
       "      <td>0.152537</td>\n",
       "      <td>946.126063</td>\n",
       "      <td>0.048074</td>\n",
       "      <td>0.158494</td>\n",
       "    </tr>\n",
       "    <tr>\n",
       "      <th>55</th>\n",
       "      <td>55</td>\n",
       "      <td>0.041179</td>\n",
       "      <td>0.015</td>\n",
       "      <td>0.152742</td>\n",
       "      <td>901.412187</td>\n",
       "      <td>0.047790</td>\n",
       "      <td>0.157807</td>\n",
       "    </tr>\n",
       "    <tr>\n",
       "      <th>56</th>\n",
       "      <td>56</td>\n",
       "      <td>0.041012</td>\n",
       "      <td>0.015</td>\n",
       "      <td>0.152255</td>\n",
       "      <td>902.512575</td>\n",
       "      <td>0.047667</td>\n",
       "      <td>0.157692</td>\n",
       "    </tr>\n",
       "    <tr>\n",
       "      <th>57</th>\n",
       "      <td>57</td>\n",
       "      <td>0.040743</td>\n",
       "      <td>0.015</td>\n",
       "      <td>0.151942</td>\n",
       "      <td>880.560883</td>\n",
       "      <td>0.048058</td>\n",
       "      <td>0.158189</td>\n",
       "    </tr>\n",
       "    <tr>\n",
       "      <th>58</th>\n",
       "      <td>58</td>\n",
       "      <td>0.040542</td>\n",
       "      <td>0.015</td>\n",
       "      <td>0.151567</td>\n",
       "      <td>889.259817</td>\n",
       "      <td>0.047844</td>\n",
       "      <td>0.157874</td>\n",
       "    </tr>\n",
       "    <tr>\n",
       "      <th>59</th>\n",
       "      <td>59</td>\n",
       "      <td>0.040456</td>\n",
       "      <td>0.015</td>\n",
       "      <td>0.151369</td>\n",
       "      <td>913.627921</td>\n",
       "      <td>0.048114</td>\n",
       "      <td>0.158182</td>\n",
       "    </tr>\n",
       "    <tr>\n",
       "      <th>60</th>\n",
       "      <td>60</td>\n",
       "      <td>0.040388</td>\n",
       "      <td>0.015</td>\n",
       "      <td>0.151443</td>\n",
       "      <td>913.061209</td>\n",
       "      <td>0.048121</td>\n",
       "      <td>0.158366</td>\n",
       "    </tr>\n",
       "    <tr>\n",
       "      <th>61</th>\n",
       "      <td>61</td>\n",
       "      <td>0.040122</td>\n",
       "      <td>0.015</td>\n",
       "      <td>0.150950</td>\n",
       "      <td>954.408893</td>\n",
       "      <td>0.047954</td>\n",
       "      <td>0.158082</td>\n",
       "    </tr>\n",
       "  </tbody>\n",
       "</table>\n",
       "<p>62 rows × 7 columns</p>\n",
       "</div>"
      ],
      "text/plain": [
       "    epoch      loss     lr  mean_absolute_error        time  val_loss  \\\n",
       "0       0  1.737450  0.500             1.186760  957.776854  1.747795   \n",
       "1       1  1.747173  0.500             1.190925  934.249404  1.747795   \n",
       "2       2  1.746746  0.500             1.190755  928.898512  1.747795   \n",
       "3       3  1.747001  0.500             1.190858  931.646524  1.747795   \n",
       "4       4  1.745746  0.500             1.190278  915.790945  1.760793   \n",
       "..    ...       ...    ...                  ...         ...       ...   \n",
       "57     57  0.040743  0.015             0.151942  880.560883  0.048058   \n",
       "58     58  0.040542  0.015             0.151567  889.259817  0.047844   \n",
       "59     59  0.040456  0.015             0.151369  913.627921  0.048114   \n",
       "60     60  0.040388  0.015             0.151443  913.061209  0.048121   \n",
       "61     61  0.040122  0.015             0.150950  954.408893  0.047954   \n",
       "\n",
       "    val_mean_absolute_error  \n",
       "0                  1.190827  \n",
       "1                  1.190827  \n",
       "2                  1.190827  \n",
       "3                  1.190827  \n",
       "4                  1.196243  \n",
       "..                      ...  \n",
       "57                 0.158189  \n",
       "58                 0.157874  \n",
       "59                 0.158182  \n",
       "60                 0.158366  \n",
       "61                 0.158082  \n",
       "\n",
       "[62 rows x 7 columns]"
      ]
     },
     "execution_count": 15,
     "metadata": {},
     "output_type": "execute_result"
    }
   ],
   "source": [
    "train_history"
   ]
  },
  {
   "cell_type": "code",
   "execution_count": 16,
   "metadata": {},
   "outputs": [
    {
     "data": {
      "image/png": "[encoded data removed]",
      "text/plain": [
       "<Figure size 1008x432 with 2 Axes>"
      ]
     },
     "metadata": {
      "needs_background": "light"
     },
     "output_type": "display_data"
    }
   ],
   "source": [
    "fig, (ax0, ax1) = plt.subplots(ncols=2, figsize=(14, 6))\n",
    "\n",
    "ax0.plot(train_history.loss, label='train')\n",
    "ax0.plot(train_history.val_loss, label='validation')\n",
    "ax0.set_xlabel('Epoch')\n",
    "ax0.set_ylabel('Loss')\n",
    "ax0.legend(loc=0)\n",
    "\n",
    "ax1.plot(train_history.mean_absolute_error, label='train')\n",
    "ax1.plot(train_history.val_mean_absolute_error, label='validation')\n",
    "ax1.set_xlabel('Epoch')\n",
    "ax1.set_ylabel('Mean absolute error')\n",
    "ax1.legend(loc=0)\n",
    "\n",
    "plt.tight_layout()"
   ]
  },
  {
   "cell_type": "markdown",
   "metadata": {},
   "source": [
    "## Reload the model"
   ]
  },
  {
   "cell_type": "code",
   "execution_count": 17,
   "metadata": {},
   "outputs": [
    {
     "name": "stdout",
     "output_type": "stream",
     "text": [
      "Best epoch: 33\n"
     ]
    }
   ],
   "source": [
    "# Choose best epoch based on validation loss\n",
    "best_epoch = train_history.epoch.loc[train_history.val_loss.idxmin()]\n",
    "print('Best epoch:', best_epoch)"
   ]
  },
  {
   "cell_type": "code",
   "execution_count": 18,
   "metadata": {},
   "outputs": [
    {
     "name": "stderr",
     "output_type": "stream",
     "text": [
      "W1020 16:26:28.340303 46912496621376 deprecation.py:506] From /global/cscratch1/sd/sfarrell/conda/tensorflow/v1.14.0/lib/python3.6/site-packages/tensorflow/python/ops/init_ops.py:97: calling GlorotUniform.__init__ (from tensorflow.python.ops.init_ops) with dtype is deprecated and will be removed in a future version.\n",
      "Instructions for updating:\n",
      "Call initializer instance with the dtype argument instead of passing it to the constructor\n",
      "W1020 16:26:28.352567 46912496621376 deprecation.py:506] From /global/cscratch1/sd/sfarrell/conda/tensorflow/v1.14.0/lib/python3.6/site-packages/tensorflow/python/ops/init_ops.py:1251: calling VarianceScaling.__init__ (from tensorflow.python.ops.init_ops) with dtype is deprecated and will be removed in a future version.\n",
      "Instructions for updating:\n",
      "Call initializer instance with the dtype argument instead of passing it to the constructor\n",
      "W1020 16:26:28.364710 46912496621376 deprecation.py:506] From /global/cscratch1/sd/sfarrell/conda/tensorflow/v1.14.0/lib/python3.6/site-packages/tensorflow/python/ops/init_ops.py:97: calling Zeros.__init__ (from tensorflow.python.ops.init_ops) with dtype is deprecated and will be removed in a future version.\n",
      "Instructions for updating:\n",
      "Call initializer instance with the dtype argument instead of passing it to the constructor\n"
     ]
    },
    {
     "name": "stdout",
     "output_type": "stream",
     "text": [
      "Model: \"sequential\"\n",
      "_________________________________________________________________\n",
      "Layer (type)                 Output Shape              Param #   \n",
      "=================================================================\n",
      "conv3d (Conv3D)              (None, 127, 127, 127, 16) 528       \n",
      "_________________________________________________________________\n",
      "leaky_re_lu (LeakyReLU)      (None, 127, 127, 127, 16) 0         \n",
      "_________________________________________________________________\n",
      "max_pooling3d (MaxPooling3D) (None, 63, 63, 63, 16)    0         \n",
      "_________________________________________________________________\n",
      "conv3d_1 (Conv3D)            (None, 62, 62, 62, 16)    2064      \n",
      "_________________________________________________________________\n",
      "leaky_re_lu_1 (LeakyReLU)    (None, 62, 62, 62, 16)    0         \n",
      "_________________________________________________________________\n",
      "max_pooling3d_1 (MaxPooling3 (None, 31, 31, 31, 16)    0         \n",
      "_________________________________________________________________\n",
      "conv3d_2 (Conv3D)            (None, 30, 30, 30, 16)    2064      \n",
      "_________________________________________________________________\n",
      "leaky_re_lu_2 (LeakyReLU)    (None, 30, 30, 30, 16)    0         \n",
      "_________________________________________________________________\n",
      "max_pooling3d_2 (MaxPooling3 (None, 15, 15, 15, 16)    0         \n",
      "_________________________________________________________________\n",
      "conv3d_3 (Conv3D)            (None, 14, 14, 14, 16)    2064      \n",
      "_________________________________________________________________\n",
      "leaky_re_lu_3 (LeakyReLU)    (None, 14, 14, 14, 16)    0         \n",
      "_________________________________________________________________\n",
      "max_pooling3d_3 (MaxPooling3 (None, 7, 7, 7, 16)       0         \n",
      "_________________________________________________________________\n",
      "conv3d_4 (Conv3D)            (None, 6, 6, 6, 16)       2064      \n",
      "_________________________________________________________________\n",
      "leaky_re_lu_4 (LeakyReLU)    (None, 6, 6, 6, 16)       0         \n",
      "_________________________________________________________________\n",
      "max_pooling3d_4 (MaxPooling3 (None, 3, 3, 3, 16)       0         \n",
      "_________________________________________________________________\n",
      "flatten (Flatten)            (None, 432)               0         \n",
      "_________________________________________________________________\n",
      "dropout (Dropout)            (None, 432)               0         \n",
      "_________________________________________________________________\n",
      "dense (Dense)                (None, 128)               55424     \n",
      "_________________________________________________________________\n",
      "leaky_re_lu_5 (LeakyReLU)    (None, 128)               0         \n",
      "_________________________________________________________________\n",
      "dropout_1 (Dropout)          (None, 128)               0         \n",
      "_________________________________________________________________\n",
      "dense_1 (Dense)              (None, 64)                8256      \n",
      "_________________________________________________________________\n",
      "leaky_re_lu_6 (LeakyReLU)    (None, 64)                0         \n",
      "_________________________________________________________________\n",
      "dropout_2 (Dropout)          (None, 64)                0         \n",
      "_________________________________________________________________\n",
      "dense_2 (Dense)              (None, 4)                 260       \n",
      "_________________________________________________________________\n",
      "lambda (Lambda)              (None, 4)                 0         \n",
      "=================================================================\n",
      "Total params: 72,724\n",
      "Trainable params: 72,724\n",
      "Non-trainable params: 0\n",
      "_________________________________________________________________\n"
     ]
    }
   ],
   "source": [
    "import models.cosmoflow\n",
    "\n",
    "# Load the model checkpoint\n",
    "checkpoint = os.path.join(result_dir, 'checkpoint-{epoch:03d}.h5'.format(epoch=best_epoch+1))\n",
    "model = tf.keras.models.load_model(checkpoint)\n",
    "model.summary()"
   ]
  },
  {
   "cell_type": "raw",
   "metadata": {},
   "source": [
    "checkpoint = tf.train.latest_checkpoint(result_dir)\n",
    "\n",
    "model = get_model(**config['model'])\n",
    "opt = get_optimizer(**config['optimizer'])\n",
    "train_config = config['train']\n",
    "model.compile(optimizer=opt, loss=train_config['loss'],\n",
    "              metrics=train_config['metrics'])\n",
    "model.load_weights(checkpoint)\n",
    "model.summary()"
   ]
  },
  {
   "cell_type": "markdown",
   "metadata": {},
   "source": [
    "## Evaluate the model on a test set"
   ]
  },
  {
   "cell_type": "code",
   "execution_count": 19,
   "metadata": {},
   "outputs": [],
   "source": [
    "def convert_data_to_np(dataset, n_steps):\n",
    "    iter_next = dataset.make_one_shot_iterator().get_next()\n",
    "    with tf.Session() as sess:\n",
    "        converted_data = [sess.run(iter_next) for i in range(n_steps)]\n",
    "        return map(np.concatenate, zip(*converted_data))\n",
    "\n",
    "def convert_labels_to_np(dataset, n_steps):\n",
    "    iter_next = dataset.make_one_shot_iterator().get_next()\n",
    "    with tf.Session() as sess:\n",
    "        return np.concatenate([sess.run(iter_next)[1] for i in range(n_steps)])"
   ]
  },
  {
   "cell_type": "code",
   "execution_count": 20,
   "metadata": {},
   "outputs": [],
   "source": [
    "n_test_files = 16\n",
    "data_config = config['data']\n",
    "batch_size = 8 #data_config['batch_size']\n",
    "data_dir = data_config['data_dir']\n",
    "n_test = n_test_files * data_config['samples_per_file']\n",
    "n_test_steps = n_test // batch_size"
   ]
  },
  {
   "cell_type": "code",
   "execution_count": 21,
   "metadata": {},
   "outputs": [],
   "source": [
    "all_files = [os.path.join(data_dir, f) for f in os.listdir(data_dir)\n",
    "             if f.endswith('tfrecords')]\n",
    "test_files = all_files[-n_test_files:]"
   ]
  },
  {
   "cell_type": "code",
   "execution_count": 22,
   "metadata": {},
   "outputs": [
    {
     "name": "stderr",
     "output_type": "stream",
     "text": [
      "W1020 16:26:36.312008 46912496621376 deprecation_wrapper.py:119] From ../data/cosmo.py:11: The name tf.parse_single_example is deprecated. Please use tf.io.parse_single_example instead.\n",
      "\n",
      "W1020 16:26:36.336954 46912496621376 deprecation_wrapper.py:119] From ../data/cosmo.py:13: The name tf.FixedLenFeature is deprecated. Please use tf.io.FixedLenFeature instead.\n",
      "\n"
     ]
    }
   ],
   "source": [
    "# Construct the test dataset\n",
    "test_data = construct_dataset(test_files, batch_size=batch_size, n_epochs=1,\n",
    "                              sample_shape=[128, 128, 128, 4])"
   ]
  },
  {
   "cell_type": "code",
   "execution_count": 23,
   "metadata": {},
   "outputs": [
    {
     "name": "stdout",
     "output_type": "stream",
     "text": [
      "128/128 [==============================] - 520s 4s/step\n"
     ]
    }
   ],
   "source": [
    "# Apply the model to the test set\n",
    "test_pred = model.predict(test_data, steps=n_test_steps, verbose=1)"
   ]
  },
  {
   "cell_type": "code",
   "execution_count": 24,
   "metadata": {},
   "outputs": [
    {
     "name": "stderr",
     "output_type": "stream",
     "text": [
      "W1020 16:35:18.017995 46912496621376 deprecation.py:323] From <ipython-input-19-d37edfc9df4e>:8: DatasetV1.make_one_shot_iterator (from tensorflow.python.data.ops.dataset_ops) is deprecated and will be removed in a future version.\n",
      "Instructions for updating:\n",
      "Use `for ... in dataset:` to iterate over a dataset. If using `tf.estimator`, return the `Dataset` object directly from your input function. As a last resort, you can use `tf.compat.v1.data.make_one_shot_iterator(dataset)`.\n"
     ]
    }
   ],
   "source": [
    "test_y = convert_labels_to_np(test_data, n_test_steps)"
   ]
  },
  {
   "cell_type": "raw",
   "metadata": {},
   "source": [
    "test_x, test_y = convert_data_to_np(test_data, n_test_steps)\n",
    "\n",
    "test_x.shape, test_y.shape, test_pred.shape"
   ]
  },
  {
   "cell_type": "markdown",
   "metadata": {},
   "source": [
    "## Model analysis\n",
    "\n",
    "Let's make some detailed plots to understand the performance of the model"
   ]
  },
  {
   "cell_type": "code",
   "execution_count": 25,
   "metadata": {},
   "outputs": [],
   "source": [
    "# Small sample of the test set for plotting input data distributions\n",
    "n_sample_steps = 2\n",
    "sample_x, sample_y = convert_data_to_np(test_data, n_sample_steps)"
   ]
  },
  {
   "cell_type": "code",
   "execution_count": 26,
   "metadata": {},
   "outputs": [
    {
     "data": {
      "image/png": "[encoded data removed]",
      "text/plain": [
       "<Figure size 864x360 with 2 Axes>"
      ]
     },
     "metadata": {
      "needs_background": "light"
     },
     "output_type": "display_data"
    }
   ],
   "source": [
    "# Voxel value distributions\n",
    "fig, (ax0, ax1) = plt.subplots(ncols=2, figsize=(12, 5))\n",
    "\n",
    "# Voxel value\n",
    "ax0.hist(sample_x.flatten(), log=True, bins=50)\n",
    "ax0.set_xlabel('Voxel values')\n",
    "\n",
    "# Maximum voxel value\n",
    "ax1.hist(sample_x.reshape(n_test, -1).max(axis=1))\n",
    "ax1.set_xlabel('Maximum voxel value')\n",
    "\n",
    "plt.tight_layout()"
   ]
  },
  {
   "cell_type": "code",
   "execution_count": 27,
   "metadata": {},
   "outputs": [
    {
     "data": {
      "image/png": "[encoded data removed]",
      "text/plain": [
       "<Figure size 1152x288 with 4 Axes>"
      ]
     },
     "metadata": {
      "needs_background": "light"
     },
     "output_type": "display_data"
    }
   ],
   "source": [
    "# 1D Distributions of cosmo params\n",
    "fig, (ax0, ax1, ax2, ax3) = plt.subplots(ncols=4, figsize=(16, 4))\n",
    "\n",
    "hist_args = dict(bins=10, range=(-1,1), alpha=0.6)\n",
    "ax0.hist(test_y[:,0], label='target', **hist_args)\n",
    "ax0.hist(test_pred[:,0], label='predicted', **hist_args)\n",
    "ax0.legend(loc=0)\n",
    "ax1.hist(test_y[:,1], label='target', **hist_args)\n",
    "ax1.hist(test_pred[:,1], label='predicted', **hist_args)\n",
    "ax1.legend(loc=0)\n",
    "ax2.hist(test_y[:,2], label='target', **hist_args)\n",
    "ax2.hist(test_pred[:,2], label='predicted', **hist_args)\n",
    "ax2.legend(loc=0)\n",
    "ax3.hist(test_y[:,3], label='target', **hist_args)\n",
    "ax3.hist(test_pred[:,3], label='predicted', **hist_args)\n",
    "ax3.legend(loc=0)\n",
    "plt.tight_layout()"
   ]
  },
  {
   "cell_type": "code",
   "execution_count": 28,
   "metadata": {},
   "outputs": [
    {
     "data": {
      "text/plain": [
       "[<matplotlib.lines.Line2D at 0x2aabc2957940>]"
      ]
     },
     "execution_count": 28,
     "metadata": {},
     "output_type": "execute_result"
    },
    {
     "data": {
      "image/png": "[encoded data removed]",
      "text/plain": [
       "<Figure size 1152x288 with 4 Axes>"
      ]
     },
     "metadata": {
      "needs_background": "light"
     },
     "output_type": "display_data"
    }
   ],
   "source": [
    "fig, (ax0, ax1, ax2, ax3) = plt.subplots(ncols=4, figsize=(16, 4))\n",
    "\n",
    "ax0.scatter(test_pred[:,0], test_y[:,0])\n",
    "ax0.plot([-1, 1], [-1, 1], 'r--')\n",
    "ax1.scatter(test_pred[:,1], test_y[:,1])\n",
    "ax1.plot([-1, 1], [-1, 1], 'r--')\n",
    "ax2.scatter(test_pred[:,2], test_y[:,2])\n",
    "ax2.plot([-1, 1], [-1, 1], 'r--')\n",
    "ax3.scatter(test_pred[:,3], test_y[:,3])\n",
    "ax3.plot([-1, 1], [-1, 1], 'r--')"
   ]
  },
  {
   "cell_type": "code",
   "execution_count": 29,
   "metadata": {},
   "outputs": [
    {
     "data": {
      "image/png": "[encoded data removed]",
      "text/plain": [
       "<Figure size 1152x288 with 4 Axes>"
      ]
     },
     "metadata": {
      "needs_background": "light"
     },
     "output_type": "display_data"
    }
   ],
   "source": [
    "fig, (ax0, ax1, ax2, ax3) = plt.subplots(ncols=4, figsize=(16, 4))\n",
    "\n",
    "ax0.hist2d(test_pred[:,0], test_y[:,0], bins=10, range=[[-1,1],[-1,1]])\n",
    "ax0.plot([-1, 1], [-1, 1], 'r--')\n",
    "ax1.hist2d(test_pred[:,1], test_y[:,1], bins=10, range=[[-1,1],[-1,1]])\n",
    "ax1.plot([-1, 1], [-1, 1], 'r--')\n",
    "ax2.hist2d(test_pred[:,2], test_y[:,2], bins=10, range=[[-1,1],[-1,1]])\n",
    "ax2.plot([-1, 1], [-1, 1], 'r--')\n",
    "ax3.hist2d(test_pred[:,3], test_y[:,3], bins=10, range=[[-1,1],[-1,1]])\n",
    "ax3.plot([-1, 1], [-1, 1], 'r--');"
   ]
  },
  {
   "cell_type": "markdown",
   "metadata": {},
   "source": [
    "## Discussion\n",
    "\n",
    "This model is performing better in some parameters than others, but it is certainly converging."
   ]
  }
 ],
 "metadata": {
  "kernelspec": {
   "display_name": "Python [conda env:v1.14.0-2]",
   "language": "python",
   "name": "conda-env-v1.14.0-2-py"
  },
  "language_info": {
   "codemirror_mode": {
    "name": "ipython",
    "version": 3
   },
   "file_extension": ".py",
   "mimetype": "text/x-python",
   "name": "python",
   "nbconvert_exporter": "python",
   "pygments_lexer": "ipython3",
   "version": "3.6.9"
  }
 },
 "nbformat": 4,
 "nbformat_minor": 4
}
