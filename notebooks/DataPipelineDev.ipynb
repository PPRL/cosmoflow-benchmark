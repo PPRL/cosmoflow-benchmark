{
 "cells": [
  {
   "cell_type": "markdown",
   "metadata": {},
   "source": [
    "## Testing the TF data pipeline\n",
    "\n",
    "I updated the data loading code, but there is something very slow, so let's do some tests here."
   ]
  },
  {
   "cell_type": "code",
   "execution_count": 1,
   "metadata": {},
   "outputs": [],
   "source": [
    "import os\n",
    "from functools import partial\n",
    "\n",
    "import numpy as np\n",
    "import tensorflow as tf"
   ]
  },
  {
   "cell_type": "raw",
   "metadata": {},
   "source": [
    "sess = tf.InteractiveSession()"
   ]
  },
  {
   "cell_type": "code",
   "execution_count": 102,
   "metadata": {},
   "outputs": [],
   "source": [
    "def _parse_data(sample_proto, shape):\n",
    "    parsed_example = tf.parse_single_example(\n",
    "        sample_proto,\n",
    "        features = dict(x=tf.FixedLenFeature(shape, tf.float32),\n",
    "                        y=tf.FixedLenFeature([4], tf.float32))\n",
    "    )\n",
    "    # Decode the data and normalize\n",
    "    x, y = parsed_example['x'], parsed_example['y']\n",
    "    x /= (tf.reduce_sum(x) / np.prod(shape))\n",
    "    return x, y\n",
    "\n",
    "def construct_dataset(filenames, batch_size, n_epochs, sample_shape,\n",
    "                      rank=0, n_ranks=1, shard=False, shuffle=False):\n",
    "                      \n",
    "    # Define the dataset from the list of files\n",
    "    data = tf.data.Dataset.from_tensor_slices(filenames)\n",
    "    if shard:\n",
    "        data = data.shard(num_shards=n_ranks, index=rank)\n",
    "    if shuffle:\n",
    "        data = data.shuffle(len(filenames), reshuffle_each_iteration=True)\n",
    "    # Parse TFRecords\n",
    "    parse_data = partial(_parse_data, shape=sample_shape)\n",
    "    data = data.apply(tf.data.TFRecordDataset).map(parse_data, num_parallel_calls=4)\n",
    "    data = data.repeat(n_epochs)\n",
    "    data = data.batch(batch_size, drop_remainder=True)\n",
    "    return data.prefetch(4)"
   ]
  },
  {
   "cell_type": "code",
   "execution_count": 103,
   "metadata": {},
   "outputs": [],
   "source": [
    "data_dir = os.path.expandvars('$SCRATCH/cosmoflow-benchmark/data/cosmoUniverse_2019_05_4parE_tf')\n",
    "n_train = 64\n",
    "batch_size = 1\n",
    "n_epochs = 1\n",
    "sample_shape = (128, 128, 128, 4)"
   ]
  },
  {
   "cell_type": "code",
   "execution_count": 104,
   "metadata": {},
   "outputs": [],
   "source": [
    "all_files = sorted([os.path.join(data_dir, f) for f in os.listdir(data_dir)\n",
    "                    if f.endswith('.tfrecord')])\n",
    "train_files = all_files[:n_train]"
   ]
  },
  {
   "cell_type": "raw",
   "metadata": {},
   "source": [
    "train_files"
   ]
  },
  {
   "cell_type": "code",
   "execution_count": 106,
   "metadata": {},
   "outputs": [],
   "source": [
    "train_dataset = construct_dataset(train_files, batch_size=batch_size, n_epochs=n_epochs, sample_shape=sample_shape)\n",
    "train_iter = train_dataset.make_one_shot_iterator()\n",
    "train_batch = train_iter.get_next()"
   ]
  },
  {
   "cell_type": "code",
   "execution_count": 109,
   "metadata": {},
   "outputs": [
    {
     "name": "stdout",
     "output_type": "stream",
     "text": [
      "CPU times: user 362 ms, sys: 55.7 ms, total: 418 ms\n",
      "Wall time: 164 ms\n"
     ]
    }
   ],
   "source": [
    "%%time\n",
    "\n",
    "with tf.Session() as sess:\n",
    "    x, y = sess.run(train_batch)"
   ]
  },
  {
   "cell_type": "code",
   "execution_count": 110,
   "metadata": {},
   "outputs": [
    {
     "data": {
      "text/plain": [
       "array([[-0.0219778, -0.9541416, -0.4267502, -0.7982607]], dtype=float32)"
      ]
     },
     "execution_count": 110,
     "metadata": {},
     "output_type": "execute_result"
    }
   ],
   "source": [
    "y"
   ]
  }
 ],
 "metadata": {
  "kernelspec": {
   "display_name": "Python [conda env:v1.14.0-2]",
   "language": "python",
   "name": "conda-env-v1.14.0-2-py"
  },
  "language_info": {
   "codemirror_mode": {
    "name": "ipython",
    "version": 3
   },
   "file_extension": ".py",
   "mimetype": "text/x-python",
   "name": "python",
   "nbconvert_exporter": "python",
   "pygments_lexer": "ipython3",
   "version": "3.6.9"
  }
 },
 "nbformat": 4,
 "nbformat_minor": 4
}
