{
 "cells": [
  {
   "cell_type": "markdown",
   "metadata": {},
   "source": [
    "# Evaluation of CosmoFlow training"
   ]
  },
  {
   "cell_type": "code",
   "execution_count": 2,
   "metadata": {},
   "outputs": [],
   "source": [
    "import os\n",
    "import sys\n",
    "import yaml\n",
    "\n",
    "sys.path.append('..')"
   ]
  },
  {
   "cell_type": "code",
   "execution_count": 3,
   "metadata": {},
   "outputs": [],
   "source": [
    "import numpy as np\n",
    "import pandas as pd\n",
    "\n",
    "import tensorflow as tf\n",
    "\n",
    "import matplotlib.pyplot as plt\n",
    "plt.rcParams.update({'font.size': 14})"
   ]
  },
  {
   "cell_type": "code",
   "execution_count": 4,
   "metadata": {},
   "outputs": [],
   "source": [
    "from models import get_model\n",
    "from data.cosmo import construct_dataset\n",
    "from utils.optimizers import get_optimizer"
   ]
  },
  {
   "cell_type": "code",
   "execution_count": 5,
   "metadata": {},
   "outputs": [],
   "source": [
    "%matplotlib inline"
   ]
  },
  {
   "cell_type": "markdown",
   "metadata": {},
   "source": [
    "## Load configuration"
   ]
  },
  {
   "cell_type": "code",
   "execution_count": 6,
   "metadata": {},
   "outputs": [],
   "source": [
    "def load_config(config_file):\n",
    "    \"\"\"Reads the YAML config file and returns a config dictionary\"\"\"\n",
    "    with open(config_file) as f:\n",
    "        return yaml.load(f, Loader=yaml.FullLoader)"
   ]
  },
  {
   "cell_type": "code",
   "execution_count": 7,
   "metadata": {},
   "outputs": [],
   "source": [
    "config_file = '../configs/cosmo.yaml'"
   ]
  },
  {
   "cell_type": "code",
   "execution_count": 8,
   "metadata": {},
   "outputs": [],
   "source": [
    "config = load_config(config_file)"
   ]
  },
  {
   "cell_type": "code",
   "execution_count": 9,
   "metadata": {},
   "outputs": [
    {
     "data": {
      "text/plain": [
       "{'output_dir': '$SCRATCH/cosmoflow-benchmark/cosmoflow-19-06-12',\n",
       " 'data': {'name': 'cosmo',\n",
       "  'data_dir': '/project/projectdirs/m3363/www/cosmoUniverse_2018_10_3parA/dim128_cube',\n",
       "  'n_train_files': 3000,\n",
       "  'n_valid_files': 1000,\n",
       "  'samples_per_file': 16,\n",
       "  'batch_size': 4,\n",
       "  'n_epochs': 32},\n",
       " 'model': {'name': 'cosmoflow',\n",
       "  'input_shape': [128, 128, 128, 1],\n",
       "  'target_size': 3,\n",
       "  'dropout': 0.2},\n",
       " 'optimizer': {'name': 'Adadelta', 'lr': 0.001},\n",
       " 'train': {'loss': 'mse', 'metrics': ['mae']}}"
      ]
     },
     "execution_count": 9,
     "metadata": {},
     "output_type": "execute_result"
    }
   ],
   "source": [
    "config"
   ]
  },
  {
   "cell_type": "markdown",
   "metadata": {},
   "source": [
    "## View training history"
   ]
  },
  {
   "cell_type": "code",
   "execution_count": 10,
   "metadata": {},
   "outputs": [],
   "source": [
    "def load_history(result_dir):\n",
    "    return pd.read_csv(os.path.join(result_dir, 'history.csv'))"
   ]
  },
  {
   "cell_type": "code",
   "execution_count": 13,
   "metadata": {},
   "outputs": [
    {
     "name": "stdout",
     "output_type": "stream",
     "text": [
      "\u001b[0m\u001b[01;34mcosmoflow-154846\u001b[0m/  \u001b[01;34mcosmoflow-156746\u001b[0m/  \u001b[01;34mcosmoflow-158215\u001b[0m/    \u001b[01;34mcosmoflow-19-06-12\u001b[0m/\n",
      "\u001b[01;34mcosmoflow-154858\u001b[0m/  \u001b[01;34mcosmoflow-157761\u001b[0m/  \u001b[01;34mcosmoflow-158230\u001b[0m/    \u001b[01;34mcosmoflow-hvd\u001b[0m/\n",
      "\u001b[01;34mcosmoflow-154996\u001b[0m/  \u001b[01;34mcosmoflow-158072\u001b[0m/  \u001b[01;34mcosmoflow-158235\u001b[0m/    \u001b[01;34mcosmoflow-test\u001b[0m/\n",
      "\u001b[01;34mcosmoflow-155912\u001b[0m/  \u001b[01;34mcosmoflow-158127\u001b[0m/  \u001b[01;34mcosmoflow-158333\u001b[0m/\n",
      "\u001b[01;34mcosmoflow-155987\u001b[0m/  \u001b[01;34mcosmoflow-158130\u001b[0m/  \u001b[01;34mcosmoflow-19-06-11\u001b[0m/\n"
     ]
    }
   ],
   "source": [
    "ls /global/cscratch1/sd/sfarrell/cosmoflow-benchmark"
   ]
  },
  {
   "cell_type": "code",
   "execution_count": 18,
   "metadata": {},
   "outputs": [],
   "source": [
    "result_dir = '/global/cscratch1/sd/sfarrell/cosmoflow-benchmark/cosmoflow-19-06-12'"
   ]
  },
  {
   "cell_type": "code",
   "execution_count": 19,
   "metadata": {},
   "outputs": [
    {
     "name": "stdout",
     "output_type": "stream",
     "text": [
      "total 42524\n",
      "-rw-rw---- 1 sfarrell sfarrell 2071640 Jun 12 21:44 checkpoint-001.h5\n",
      "-rw-rw---- 1 sfarrell sfarrell 2071640 Jun 12 22:06 checkpoint-002.h5\n",
      "-rw-rw---- 1 sfarrell sfarrell 2071640 Jun 12 22:28 checkpoint-003.h5\n",
      "-rw-rw---- 1 sfarrell sfarrell 2071640 Jun 12 22:50 checkpoint-004.h5\n",
      "-rw-rw---- 1 sfarrell sfarrell 2071640 Jun 12 23:12 checkpoint-005.h5\n",
      "-rw-rw---- 1 sfarrell sfarrell 2071640 Jun 12 23:34 checkpoint-006.h5\n",
      "-rw-rw---- 1 sfarrell sfarrell 2071640 Jun 12 23:57 checkpoint-007.h5\n",
      "-rw-rw---- 1 sfarrell sfarrell 2071640 Jun 13 00:19 checkpoint-008.h5\n",
      "-rw-rw---- 1 sfarrell sfarrell 2071640 Jun 13 00:41 checkpoint-009.h5\n",
      "-rw-rw---- 1 sfarrell sfarrell 2071640 Jun 13 01:03 checkpoint-010.h5\n",
      "-rw-rw---- 1 sfarrell sfarrell 2071640 Jun 13 01:25 checkpoint-011.h5\n",
      "-rw-rw---- 1 sfarrell sfarrell 2071640 Jun 13 01:48 checkpoint-012.h5\n",
      "-rw-rw---- 1 sfarrell sfarrell 2071640 Jun 13 02:10 checkpoint-013.h5\n",
      "-rw-rw---- 1 sfarrell sfarrell 2071640 Jun 13 02:33 checkpoint-014.h5\n",
      "-rw-rw---- 1 sfarrell sfarrell 2071640 Jun 13 02:55 checkpoint-015.h5\n",
      "-rw-rw---- 1 sfarrell sfarrell 2071640 Jun 13 03:17 checkpoint-016.h5\n",
      "-rw-rw---- 1 sfarrell sfarrell 2071640 Jun 13 03:39 checkpoint-017.h5\n",
      "-rw-rw---- 1 sfarrell sfarrell 2071640 Jun 13 04:02 checkpoint-018.h5\n",
      "-rw-rw---- 1 sfarrell sfarrell 2071640 Jun 13 04:24 checkpoint-019.h5\n",
      "-rw-rw---- 1 sfarrell sfarrell 2071640 Jun 13 04:47 checkpoint-020.h5\n",
      "-rw-rw---- 1 sfarrell sfarrell 2071640 Jun 13 05:09 checkpoint-021.h5\n",
      "-rw-rw---- 1 sfarrell sfarrell    1392 Jun 13 05:09 history.csv\n"
     ]
    }
   ],
   "source": [
    "ls -l $result_dir"
   ]
  },
  {
   "cell_type": "code",
   "execution_count": 20,
   "metadata": {},
   "outputs": [],
   "source": [
    "train_history = load_history(result_dir)"
   ]
  },
  {
   "cell_type": "code",
   "execution_count": 21,
   "metadata": {},
   "outputs": [
    {
     "data": {
      "text/html": [
       "<div>\n",
       "<style scoped>\n",
       "    .dataframe tbody tr th:only-of-type {\n",
       "        vertical-align: middle;\n",
       "    }\n",
       "\n",
       "    .dataframe tbody tr th {\n",
       "        vertical-align: top;\n",
       "    }\n",
       "\n",
       "    .dataframe thead th {\n",
       "        text-align: right;\n",
       "    }\n",
       "</style>\n",
       "<table border=\"1\" class=\"dataframe\">\n",
       "  <thead>\n",
       "    <tr style=\"text-align: right;\">\n",
       "      <th></th>\n",
       "      <th>epoch</th>\n",
       "      <th>loss</th>\n",
       "      <th>mean_absolute_error</th>\n",
       "      <th>val_loss</th>\n",
       "      <th>val_mean_absolute_error</th>\n",
       "    </tr>\n",
       "  </thead>\n",
       "  <tbody>\n",
       "    <tr>\n",
       "      <th>0</th>\n",
       "      <td>0</td>\n",
       "      <td>5.694853</td>\n",
       "      <td>1.431336</td>\n",
       "      <td>0.389631</td>\n",
       "      <td>0.524221</td>\n",
       "    </tr>\n",
       "    <tr>\n",
       "      <th>1</th>\n",
       "      <td>1</td>\n",
       "      <td>0.398640</td>\n",
       "      <td>0.529001</td>\n",
       "      <td>0.336519</td>\n",
       "      <td>0.496794</td>\n",
       "    </tr>\n",
       "    <tr>\n",
       "      <th>2</th>\n",
       "      <td>2</td>\n",
       "      <td>0.345390</td>\n",
       "      <td>0.501173</td>\n",
       "      <td>0.328051</td>\n",
       "      <td>0.492427</td>\n",
       "    </tr>\n",
       "    <tr>\n",
       "      <th>3</th>\n",
       "      <td>3</td>\n",
       "      <td>0.332574</td>\n",
       "      <td>0.494503</td>\n",
       "      <td>0.324755</td>\n",
       "      <td>0.490454</td>\n",
       "    </tr>\n",
       "    <tr>\n",
       "      <th>4</th>\n",
       "      <td>4</td>\n",
       "      <td>0.327125</td>\n",
       "      <td>0.491494</td>\n",
       "      <td>0.323017</td>\n",
       "      <td>0.489565</td>\n",
       "    </tr>\n",
       "    <tr>\n",
       "      <th>5</th>\n",
       "      <td>5</td>\n",
       "      <td>0.324142</td>\n",
       "      <td>0.490041</td>\n",
       "      <td>0.322373</td>\n",
       "      <td>0.489347</td>\n",
       "    </tr>\n",
       "    <tr>\n",
       "      <th>6</th>\n",
       "      <td>6</td>\n",
       "      <td>0.322519</td>\n",
       "      <td>0.489052</td>\n",
       "      <td>0.321445</td>\n",
       "      <td>0.488696</td>\n",
       "    </tr>\n",
       "    <tr>\n",
       "      <th>7</th>\n",
       "      <td>7</td>\n",
       "      <td>0.321324</td>\n",
       "      <td>0.488383</td>\n",
       "      <td>0.321196</td>\n",
       "      <td>0.488700</td>\n",
       "    </tr>\n",
       "    <tr>\n",
       "      <th>8</th>\n",
       "      <td>8</td>\n",
       "      <td>0.320577</td>\n",
       "      <td>0.487906</td>\n",
       "      <td>0.320516</td>\n",
       "      <td>0.488066</td>\n",
       "    </tr>\n",
       "    <tr>\n",
       "      <th>9</th>\n",
       "      <td>9</td>\n",
       "      <td>0.320043</td>\n",
       "      <td>0.487519</td>\n",
       "      <td>0.321070</td>\n",
       "      <td>0.488693</td>\n",
       "    </tr>\n",
       "    <tr>\n",
       "      <th>10</th>\n",
       "      <td>10</td>\n",
       "      <td>0.319516</td>\n",
       "      <td>0.487126</td>\n",
       "      <td>0.320272</td>\n",
       "      <td>0.487995</td>\n",
       "    </tr>\n",
       "    <tr>\n",
       "      <th>11</th>\n",
       "      <td>11</td>\n",
       "      <td>0.319131</td>\n",
       "      <td>0.486955</td>\n",
       "      <td>0.320630</td>\n",
       "      <td>0.488210</td>\n",
       "    </tr>\n",
       "    <tr>\n",
       "      <th>12</th>\n",
       "      <td>12</td>\n",
       "      <td>0.319218</td>\n",
       "      <td>0.487003</td>\n",
       "      <td>0.320010</td>\n",
       "      <td>0.487712</td>\n",
       "    </tr>\n",
       "    <tr>\n",
       "      <th>13</th>\n",
       "      <td>13</td>\n",
       "      <td>0.318822</td>\n",
       "      <td>0.486714</td>\n",
       "      <td>0.320225</td>\n",
       "      <td>0.487929</td>\n",
       "    </tr>\n",
       "    <tr>\n",
       "      <th>14</th>\n",
       "      <td>14</td>\n",
       "      <td>0.318370</td>\n",
       "      <td>0.486393</td>\n",
       "      <td>0.320260</td>\n",
       "      <td>0.487968</td>\n",
       "    </tr>\n",
       "    <tr>\n",
       "      <th>15</th>\n",
       "      <td>15</td>\n",
       "      <td>0.318146</td>\n",
       "      <td>0.486167</td>\n",
       "      <td>0.319749</td>\n",
       "      <td>0.487486</td>\n",
       "    </tr>\n",
       "    <tr>\n",
       "      <th>16</th>\n",
       "      <td>16</td>\n",
       "      <td>0.318078</td>\n",
       "      <td>0.486044</td>\n",
       "      <td>0.319512</td>\n",
       "      <td>0.487271</td>\n",
       "    </tr>\n",
       "    <tr>\n",
       "      <th>17</th>\n",
       "      <td>17</td>\n",
       "      <td>0.317567</td>\n",
       "      <td>0.485769</td>\n",
       "      <td>0.319635</td>\n",
       "      <td>0.487419</td>\n",
       "    </tr>\n",
       "    <tr>\n",
       "      <th>18</th>\n",
       "      <td>18</td>\n",
       "      <td>0.317577</td>\n",
       "      <td>0.485755</td>\n",
       "      <td>0.319557</td>\n",
       "      <td>0.487322</td>\n",
       "    </tr>\n",
       "    <tr>\n",
       "      <th>19</th>\n",
       "      <td>19</td>\n",
       "      <td>0.317212</td>\n",
       "      <td>0.485423</td>\n",
       "      <td>0.319226</td>\n",
       "      <td>0.487110</td>\n",
       "    </tr>\n",
       "    <tr>\n",
       "      <th>20</th>\n",
       "      <td>20</td>\n",
       "      <td>0.317061</td>\n",
       "      <td>0.485312</td>\n",
       "      <td>0.319003</td>\n",
       "      <td>0.486842</td>\n",
       "    </tr>\n",
       "  </tbody>\n",
       "</table>\n",
       "</div>"
      ],
      "text/plain": [
       "    epoch      loss  mean_absolute_error  val_loss  val_mean_absolute_error\n",
       "0       0  5.694853             1.431336  0.389631                 0.524221\n",
       "1       1  0.398640             0.529001  0.336519                 0.496794\n",
       "2       2  0.345390             0.501173  0.328051                 0.492427\n",
       "3       3  0.332574             0.494503  0.324755                 0.490454\n",
       "4       4  0.327125             0.491494  0.323017                 0.489565\n",
       "5       5  0.324142             0.490041  0.322373                 0.489347\n",
       "6       6  0.322519             0.489052  0.321445                 0.488696\n",
       "7       7  0.321324             0.488383  0.321196                 0.488700\n",
       "8       8  0.320577             0.487906  0.320516                 0.488066\n",
       "9       9  0.320043             0.487519  0.321070                 0.488693\n",
       "10     10  0.319516             0.487126  0.320272                 0.487995\n",
       "11     11  0.319131             0.486955  0.320630                 0.488210\n",
       "12     12  0.319218             0.487003  0.320010                 0.487712\n",
       "13     13  0.318822             0.486714  0.320225                 0.487929\n",
       "14     14  0.318370             0.486393  0.320260                 0.487968\n",
       "15     15  0.318146             0.486167  0.319749                 0.487486\n",
       "16     16  0.318078             0.486044  0.319512                 0.487271\n",
       "17     17  0.317567             0.485769  0.319635                 0.487419\n",
       "18     18  0.317577             0.485755  0.319557                 0.487322\n",
       "19     19  0.317212             0.485423  0.319226                 0.487110\n",
       "20     20  0.317061             0.485312  0.319003                 0.486842"
      ]
     },
     "execution_count": 21,
     "metadata": {},
     "output_type": "execute_result"
    }
   ],
   "source": [
    "train_history"
   ]
  },
  {
   "cell_type": "code",
   "execution_count": 22,
   "metadata": {},
   "outputs": [
    {
     "data": {
      "image/png": "[encoded data removed]",
      "text/plain": [
       "<Figure size 1008x432 with 2 Axes>"
      ]
     },
     "metadata": {
      "needs_background": "light"
     },
     "output_type": "display_data"
    }
   ],
   "source": [
    "fig, (ax0, ax1) = plt.subplots(ncols=2, figsize=(14, 6))\n",
    "\n",
    "ax0.plot(train_history.loss, label='train')\n",
    "ax0.plot(train_history.val_loss, label='validation')\n",
    "ax0.set_xlabel('Epoch')\n",
    "ax0.set_ylabel('Loss')\n",
    "ax0.legend(loc=0)\n",
    "\n",
    "ax1.plot(train_history.mean_absolute_error, label='train')\n",
    "ax1.plot(train_history.val_mean_absolute_error, label='validation')\n",
    "ax1.set_xlabel('Epoch')\n",
    "ax1.set_ylabel('Mean absolute error')\n",
    "ax1.legend(loc=0)\n",
    "\n",
    "plt.tight_layout()"
   ]
  },
  {
   "cell_type": "markdown",
   "metadata": {},
   "source": [
    "## Reload the model"
   ]
  },
  {
   "cell_type": "code",
   "execution_count": 23,
   "metadata": {},
   "outputs": [
    {
     "name": "stdout",
     "output_type": "stream",
     "text": [
      "Best epoch: 20\n"
     ]
    }
   ],
   "source": [
    "# Choose best epoch based on validation loss\n",
    "best_epoch = train_history.epoch.loc[train_history.val_loss.idxmin()]\n",
    "print('Best epoch:', best_epoch)"
   ]
  },
  {
   "cell_type": "code",
   "execution_count": 24,
   "metadata": {},
   "outputs": [
    {
     "name": "stdout",
     "output_type": "stream",
     "text": [
      "WARNING:tensorflow:From /usr/common/software/tensorflow/intel-tensorflow/1.13.1-py36/lib/python3.6/site-packages/tensorflow/python/ops/resource_variable_ops.py:435: colocate_with (from tensorflow.python.framework.ops) is deprecated and will be removed in a future version.\n",
      "Instructions for updating:\n",
      "Colocations handled automatically by placer.\n",
      "WARNING:tensorflow:From /usr/common/software/tensorflow/intel-tensorflow/1.13.1-py36/lib/python3.6/site-packages/tensorflow/python/keras/layers/core.py:143: calling dropout (from tensorflow.python.ops.nn_ops) with keep_prob is deprecated and will be removed in a future version.\n",
      "Instructions for updating:\n",
      "Please use `rate` instead of `keep_prob`. Rate should be set to `rate = 1 - keep_prob`.\n",
      "WARNING:tensorflow:From /usr/common/software/tensorflow/intel-tensorflow/1.13.1-py36/lib/python3.6/site-packages/tensorflow/python/keras/utils/losses_utils.py:170: to_float (from tensorflow.python.ops.math_ops) is deprecated and will be removed in a future version.\n",
      "Instructions for updating:\n",
      "Use tf.cast instead.\n",
      "WARNING:tensorflow:From /usr/common/software/tensorflow/intel-tensorflow/1.13.1-py36/lib/python3.6/site-packages/tensorflow/python/ops/math_ops.py:3066: to_int32 (from tensorflow.python.ops.math_ops) is deprecated and will be removed in a future version.\n",
      "Instructions for updating:\n",
      "Use tf.cast instead.\n"
     ]
    }
   ],
   "source": [
    "# Load the model checkpoint\n",
    "checkpoint = os.path.join(result_dir, 'checkpoint-{epoch:03d}.h5'.format(epoch=best_epoch+1))\n",
    "model = tf.keras.models.load_model(checkpoint)"
   ]
  },
  {
   "cell_type": "code",
   "execution_count": 25,
   "metadata": {},
   "outputs": [
    {
     "name": "stdout",
     "output_type": "stream",
     "text": [
      "_________________________________________________________________\n",
      "Layer (type)                 Output Shape              Param #   \n",
      "=================================================================\n",
      "conv3d (Conv3D)              (None, 128, 128, 128, 16) 448       \n",
      "_________________________________________________________________\n",
      "max_pooling3d (MaxPooling3D) (None, 64, 64, 64, 16)    0         \n",
      "_________________________________________________________________\n",
      "conv3d_1 (Conv3D)            (None, 64, 64, 64, 16)    6928      \n",
      "_________________________________________________________________\n",
      "max_pooling3d_1 (MaxPooling3 (None, 32, 32, 32, 16)    0         \n",
      "_________________________________________________________________\n",
      "conv3d_2 (Conv3D)            (None, 32, 32, 32, 16)    6928      \n",
      "_________________________________________________________________\n",
      "max_pooling3d_2 (MaxPooling3 (None, 16, 16, 16, 16)    0         \n",
      "_________________________________________________________________\n",
      "conv3d_3 (Conv3D)            (None, 16, 16, 16, 16)    6928      \n",
      "_________________________________________________________________\n",
      "max_pooling3d_3 (MaxPooling3 (None, 8, 8, 8, 16)       0         \n",
      "_________________________________________________________________\n",
      "conv3d_4 (Conv3D)            (None, 8, 8, 8, 16)       6928      \n",
      "_________________________________________________________________\n",
      "max_pooling3d_4 (MaxPooling3 (None, 4, 4, 4, 16)       0         \n",
      "_________________________________________________________________\n",
      "flatten (Flatten)            (None, 1024)              0         \n",
      "_________________________________________________________________\n",
      "dense (Dense)                (None, 128)               131200    \n",
      "_________________________________________________________________\n",
      "dropout (Dropout)            (None, 128)               0         \n",
      "_________________________________________________________________\n",
      "dense_1 (Dense)              (None, 64)                8256      \n",
      "_________________________________________________________________\n",
      "dropout_1 (Dropout)          (None, 64)                0         \n",
      "_________________________________________________________________\n",
      "dense_2 (Dense)              (None, 3)                 195       \n",
      "=================================================================\n",
      "Total params: 167,811\n",
      "Trainable params: 167,811\n",
      "Non-trainable params: 0\n",
      "_________________________________________________________________\n"
     ]
    }
   ],
   "source": [
    "model.summary()"
   ]
  },
  {
   "cell_type": "raw",
   "metadata": {},
   "source": [
    "checkpoint = tf.train.latest_checkpoint(result_dir)\n",
    "\n",
    "model = get_model(**config['model'])\n",
    "opt = get_optimizer(**config['optimizer'])\n",
    "train_config = config['train']\n",
    "model.compile(optimizer=opt, loss=train_config['loss'],\n",
    "              metrics=train_config['metrics'])\n",
    "model.load_weights(checkpoint)\n",
    "model.summary()"
   ]
  },
  {
   "cell_type": "markdown",
   "metadata": {},
   "source": [
    "## Evaluate the model on a test set"
   ]
  },
  {
   "cell_type": "code",
   "execution_count": 26,
   "metadata": {},
   "outputs": [],
   "source": [
    "def convert_data_to_np(dataset, n_steps):\n",
    "    iter_next = dataset.make_one_shot_iterator().get_next()\n",
    "    with tf.Session() as sess:\n",
    "        converted_data = [sess.run(iter_next) for i in range(n_steps)]\n",
    "        return map(np.concatenate, zip(*converted_data))"
   ]
  },
  {
   "cell_type": "code",
   "execution_count": 27,
   "metadata": {},
   "outputs": [],
   "source": [
    "n_test_files = 16\n",
    "data_config = config['data']\n",
    "batch_size = data_config['batch_size']\n",
    "data_dir = data_config['data_dir']\n",
    "n_test = n_test_files * data_config['samples_per_file']\n",
    "n_test_steps = n_test // batch_size"
   ]
  },
  {
   "cell_type": "code",
   "execution_count": 28,
   "metadata": {},
   "outputs": [],
   "source": [
    "all_files = [os.path.join(data_dir, f) for f in os.listdir(data_dir)\n",
    "             if f.endswith('tfrecords')]\n",
    "test_files = all_files[-n_test_files:]"
   ]
  },
  {
   "cell_type": "code",
   "execution_count": 29,
   "metadata": {},
   "outputs": [],
   "source": [
    "# Construct the test dataset\n",
    "test_data = construct_dataset(test_files, batch_size=batch_size, n_epochs=1)"
   ]
  },
  {
   "cell_type": "code",
   "execution_count": 30,
   "metadata": {},
   "outputs": [
    {
     "name": "stdout",
     "output_type": "stream",
     "text": [
      "64/64 [==============================] - 127s 2s/step\n"
     ]
    }
   ],
   "source": [
    "# Apply the model to the test set\n",
    "test_pred = model.predict(test_data, steps=n_test_steps, verbose=1)"
   ]
  },
  {
   "cell_type": "code",
   "execution_count": 31,
   "metadata": {},
   "outputs": [],
   "source": [
    "test_x, test_y = convert_data_to_np(test_data, n_test_steps)"
   ]
  },
  {
   "cell_type": "code",
   "execution_count": 32,
   "metadata": {},
   "outputs": [
    {
     "data": {
      "text/plain": [
       "((256, 128, 128, 128, 1), (256, 3), (256, 3))"
      ]
     },
     "execution_count": 32,
     "metadata": {},
     "output_type": "execute_result"
    }
   ],
   "source": [
    "test_x.shape, test_y.shape, test_pred.shape"
   ]
  },
  {
   "cell_type": "raw",
   "metadata": {},
   "source": [
    "test_loss, test_mae = model.evaluate(test_data, steps=n_test)\n",
    "\n",
    "print('Loss: %.4f' % test_loss)\n",
    "print('MAE: %.4f' % test_mae)"
   ]
  },
  {
   "cell_type": "markdown",
   "metadata": {},
   "source": [
    "## Model analysis\n",
    "\n",
    "Let's make some detailed plots to understand the performance of the model"
   ]
  },
  {
   "cell_type": "code",
   "execution_count": 33,
   "metadata": {},
   "outputs": [
    {
     "data": {
      "image/png": "[encoded data removed]",
      "text/plain": [
       "<Figure size 864x360 with 2 Axes>"
      ]
     },
     "metadata": {
      "needs_background": "light"
     },
     "output_type": "display_data"
    }
   ],
   "source": [
    "# Voxel value distributions\n",
    "fig, (ax0, ax1) = plt.subplots(ncols=2, figsize=(12, 5))\n",
    "\n",
    "# Voxel value\n",
    "ax0.hist(test_x.flatten(), log=True, bins=50)\n",
    "ax0.set_xlabel('Voxel values')\n",
    "\n",
    "# Maximum voxel value\n",
    "ax1.hist(test_x.reshape(n_test, -1).max(axis=1))\n",
    "ax1.set_xlabel('Maximum voxel value')\n",
    "\n",
    "plt.tight_layout()"
   ]
  },
  {
   "cell_type": "code",
   "execution_count": 34,
   "metadata": {},
   "outputs": [
    {
     "data": {
      "image/png": "[encoded data removed]",
      "text/plain": [
       "<Figure size 1152x360 with 3 Axes>"
      ]
     },
     "metadata": {
      "needs_background": "light"
     },
     "output_type": "display_data"
    }
   ],
   "source": [
    "# 1D Distributions of cosmo params\n",
    "fig, (ax0, ax1, ax2) = plt.subplots(ncols=3, figsize=(16, 5))\n",
    "\n",
    "hist_args = dict(bins=10, range=(-1,1), alpha=0.6)\n",
    "ax0.hist(test_y[:,0], label='target', **hist_args)\n",
    "ax0.hist(test_pred[:,0], label='predicted', **hist_args)\n",
    "ax0.legend(loc=0)\n",
    "ax1.hist(test_y[:,1], label='target', **hist_args)\n",
    "ax1.hist(test_pred[:,1], label='predicted', **hist_args)\n",
    "ax1.legend(loc=0)\n",
    "ax2.hist(test_y[:,2], label='target', **hist_args)\n",
    "ax2.hist(test_pred[:,2], label='predicted', **hist_args)\n",
    "ax2.legend(loc=0)\n",
    "\n",
    "plt.tight_layout()"
   ]
  },
  {
   "cell_type": "code",
   "execution_count": 35,
   "metadata": {},
   "outputs": [
    {
     "data": {
      "text/plain": [
       "[<matplotlib.lines.Line2D at 0x2aab33f89c50>]"
      ]
     },
     "execution_count": 35,
     "metadata": {},
     "output_type": "execute_result"
    },
    {
     "data": {
      "image/png": "[encoded data removed]",
      "text/plain": [
       "<Figure size 1152x360 with 3 Axes>"
      ]
     },
     "metadata": {
      "needs_background": "light"
     },
     "output_type": "display_data"
    }
   ],
   "source": [
    "fig, (ax0, ax1, ax2) = plt.subplots(ncols=3, figsize=(16, 5))\n",
    "\n",
    "ax0.scatter(test_pred[:,0], test_y[:,0])\n",
    "ax0.plot([-1, 1], [-1, 1], 'r--')\n",
    "ax1.scatter(test_pred[:,1], test_y[:,1])\n",
    "ax1.plot([-1, 1], [-1, 1], 'r--')\n",
    "ax2.scatter(test_pred[:,2], test_y[:,2])\n",
    "ax2.plot([-1, 1], [-1, 1], 'r--')"
   ]
  },
  {
   "cell_type": "markdown",
   "metadata": {},
   "source": [
    "## Discussion\n",
    "\n",
    "This model is training, but not yet doing very well."
   ]
  }
 ],
 "metadata": {
  "kernelspec": {
   "display_name": "tensorflow-intel(cpu)/1.13.1-py36",
   "language": "python",
   "name": "tensorflow_intel_1.13.1_py36"
  },
  "language_info": {
   "codemirror_mode": {
    "name": "ipython",
    "version": 3
   },
   "file_extension": ".py",
   "mimetype": "text/x-python",
   "name": "python",
   "nbconvert_exporter": "python",
   "pygments_lexer": "ipython3",
   "version": "3.6.8"
  }
 },
 "nbformat": 4,
 "nbformat_minor": 2
}
