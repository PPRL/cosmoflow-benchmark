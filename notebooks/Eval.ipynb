{
 "cells": [
  {
   "cell_type": "markdown",
   "metadata": {},
   "source": [
    "# Evaluation of CosmoFlow training"
   ]
  },
  {
   "cell_type": "code",
   "execution_count": 1,
   "metadata": {},
   "outputs": [],
   "source": [
    "import os\n",
    "import sys\n",
    "import yaml\n",
    "\n",
    "sys.path.append('..')"
   ]
  },
  {
   "cell_type": "code",
   "execution_count": 2,
   "metadata": {},
   "outputs": [],
   "source": [
    "import numpy as np\n",
    "import pandas as pd\n",
    "\n",
    "import tensorflow as tf\n",
    "\n",
    "import matplotlib.pyplot as plt\n",
    "plt.rcParams.update({'font.size': 14})"
   ]
  },
  {
   "cell_type": "code",
   "execution_count": 3,
   "metadata": {},
   "outputs": [],
   "source": [
    "from models import get_model\n",
    "from data.cosmo import construct_dataset\n",
    "from utils.optimizers import get_optimizer"
   ]
  },
  {
   "cell_type": "code",
   "execution_count": 4,
   "metadata": {},
   "outputs": [],
   "source": [
    "%matplotlib inline"
   ]
  },
  {
   "cell_type": "markdown",
   "metadata": {},
   "source": [
    "## Load configuration"
   ]
  },
  {
   "cell_type": "code",
   "execution_count": 5,
   "metadata": {},
   "outputs": [],
   "source": [
    "def load_config(config_file):\n",
    "    \"\"\"Reads the YAML config file and returns a config dictionary\"\"\"\n",
    "    with open(config_file) as f:\n",
    "        return yaml.load(f, Loader=yaml.FullLoader)"
   ]
  },
  {
   "cell_type": "code",
   "execution_count": 6,
   "metadata": {},
   "outputs": [],
   "source": [
    "config_file = '../configs/cosmo.yaml'"
   ]
  },
  {
   "cell_type": "code",
   "execution_count": 7,
   "metadata": {},
   "outputs": [],
   "source": [
    "config = load_config(config_file)"
   ]
  },
  {
   "cell_type": "code",
   "execution_count": 8,
   "metadata": {},
   "outputs": [
    {
     "data": {
      "text/plain": [
       "{'output_dir': '$SCRATCH/cosmoflow-benchmark/cosmoflow-19-06-17',\n",
       " 'data': {'name': 'cosmo',\n",
       "  'data_dir': '/project/projectdirs/m3363/www/cosmoUniverse_2019_02_4parE/dim128_cube_nT4',\n",
       "  'n_train_files': 512,\n",
       "  'n_valid_files': 256,\n",
       "  'samples_per_file': 64,\n",
       "  'sample_shape': [128, 128, 128, 4],\n",
       "  'batch_size': 8,\n",
       "  'n_epochs': 32},\n",
       " 'model': {'name': 'cosmojan',\n",
       "  'input_shape': [128, 128, 128, 4],\n",
       "  'target_size': 4,\n",
       "  'dropout': 0.2},\n",
       " 'optimizer': {'name': 'Adadelta', 'lr': 0.5},\n",
       " 'train': {'loss': 'mse', 'metrics': ['mae']}}"
      ]
     },
     "execution_count": 8,
     "metadata": {},
     "output_type": "execute_result"
    }
   ],
   "source": [
    "config"
   ]
  },
  {
   "cell_type": "markdown",
   "metadata": {},
   "source": [
    "## View training history"
   ]
  },
  {
   "cell_type": "code",
   "execution_count": 9,
   "metadata": {},
   "outputs": [],
   "source": [
    "def load_history(result_dir):\n",
    "    return pd.read_csv(os.path.join(result_dir, 'history.csv'))"
   ]
  },
  {
   "cell_type": "code",
   "execution_count": 10,
   "metadata": {},
   "outputs": [
    {
     "name": "stdout",
     "output_type": "stream",
     "text": [
      "\u001b[0m\u001b[01;34mcosmoflow-154846\u001b[0m/  \u001b[01;34mcosmoflow-157761\u001b[0m/  \u001b[01;34mcosmoflow-158235\u001b[0m/    \u001b[01;34mcosmoflow-hvd\u001b[0m/\n",
      "\u001b[01;34mcosmoflow-154858\u001b[0m/  \u001b[01;34mcosmoflow-158072\u001b[0m/  \u001b[01;34mcosmoflow-158333\u001b[0m/    \u001b[01;34mcosmoflow-test\u001b[0m/\n",
      "\u001b[01;34mcosmoflow-154996\u001b[0m/  \u001b[01;34mcosmoflow-158127\u001b[0m/  \u001b[01;34mcosmoflow-19-06-11\u001b[0m/  \u001b[01;34mdata\u001b[0m/\n",
      "\u001b[01;34mcosmoflow-155912\u001b[0m/  \u001b[01;34mcosmoflow-158130\u001b[0m/  \u001b[01;34mcosmoflow-19-06-12\u001b[0m/\n",
      "\u001b[01;34mcosmoflow-155987\u001b[0m/  \u001b[01;34mcosmoflow-158215\u001b[0m/  \u001b[01;34mcosmoflow-19-06-13\u001b[0m/\n",
      "\u001b[01;34mcosmoflow-156746\u001b[0m/  \u001b[01;34mcosmoflow-158230\u001b[0m/  \u001b[01;34mcosmoflow-19-06-17\u001b[0m/\n"
     ]
    }
   ],
   "source": [
    "ls /global/cscratch1/sd/sfarrell/cosmoflow-benchmark"
   ]
  },
  {
   "cell_type": "code",
   "execution_count": 11,
   "metadata": {},
   "outputs": [],
   "source": [
    "result_dir = '/global/cscratch1/sd/sfarrell/cosmoflow-benchmark/cosmoflow-19-06-17'"
   ]
  },
  {
   "cell_type": "code",
   "execution_count": 12,
   "metadata": {},
   "outputs": [
    {
     "name": "stdout",
     "output_type": "stream",
     "text": [
      "total 10140\n",
      "-rw-rw---- 1 sfarrell sfarrell 939056 Jun 17 09:23 checkpoint-001.h5\n",
      "-rw-rw---- 1 sfarrell sfarrell 939056 Jun 17 10:07 checkpoint-002.h5\n",
      "-rw-rw---- 1 sfarrell sfarrell 939056 Jun 17 10:51 checkpoint-003.h5\n",
      "-rw-rw---- 1 sfarrell sfarrell 939056 Jun 17 11:34 checkpoint-004.h5\n",
      "-rw-rw---- 1 sfarrell sfarrell 939056 Jun 17 12:18 checkpoint-005.h5\n",
      "-rw-rw---- 1 sfarrell sfarrell 939056 Jun 17 13:02 checkpoint-006.h5\n",
      "-rw-rw---- 1 sfarrell sfarrell 939056 Jun 17 13:46 checkpoint-007.h5\n",
      "-rw-rw---- 1 sfarrell sfarrell 939056 Jun 17 14:30 checkpoint-008.h5\n",
      "-rw-rw---- 1 sfarrell sfarrell 939056 Jun 17 15:14 checkpoint-009.h5\n",
      "-rw-rw---- 1 sfarrell sfarrell 939056 Jun 17 15:58 checkpoint-010.h5\n",
      "-rw-rw---- 1 sfarrell sfarrell 939120 Jun 18 01:16 checkpoint-011.h5\n",
      "-rw-rw---- 1 sfarrell sfarrell    764 Jun 18 01:16 history.csv\n"
     ]
    }
   ],
   "source": [
    "ls -l $result_dir"
   ]
  },
  {
   "cell_type": "code",
   "execution_count": 13,
   "metadata": {},
   "outputs": [],
   "source": [
    "train_history = load_history(result_dir)"
   ]
  },
  {
   "cell_type": "code",
   "execution_count": 14,
   "metadata": {},
   "outputs": [
    {
     "data": {
      "text/html": [
       "<div>\n",
       "<style scoped>\n",
       "    .dataframe tbody tr th:only-of-type {\n",
       "        vertical-align: middle;\n",
       "    }\n",
       "\n",
       "    .dataframe tbody tr th {\n",
       "        vertical-align: top;\n",
       "    }\n",
       "\n",
       "    .dataframe thead th {\n",
       "        text-align: right;\n",
       "    }\n",
       "</style>\n",
       "<table border=\"1\" class=\"dataframe\">\n",
       "  <thead>\n",
       "    <tr style=\"text-align: right;\">\n",
       "      <th></th>\n",
       "      <th>epoch</th>\n",
       "      <th>loss</th>\n",
       "      <th>mean_absolute_error</th>\n",
       "      <th>val_loss</th>\n",
       "      <th>val_mean_absolute_error</th>\n",
       "    </tr>\n",
       "  </thead>\n",
       "  <tbody>\n",
       "    <tr>\n",
       "      <th>0</th>\n",
       "      <td>0</td>\n",
       "      <td>1.721807</td>\n",
       "      <td>1.178837</td>\n",
       "      <td>0.317471</td>\n",
       "      <td>0.465719</td>\n",
       "    </tr>\n",
       "    <tr>\n",
       "      <th>1</th>\n",
       "      <td>1</td>\n",
       "      <td>0.196923</td>\n",
       "      <td>0.356947</td>\n",
       "      <td>0.169153</td>\n",
       "      <td>0.329763</td>\n",
       "    </tr>\n",
       "    <tr>\n",
       "      <th>2</th>\n",
       "      <td>2</td>\n",
       "      <td>0.151829</td>\n",
       "      <td>0.309871</td>\n",
       "      <td>0.113909</td>\n",
       "      <td>0.268762</td>\n",
       "    </tr>\n",
       "    <tr>\n",
       "      <th>3</th>\n",
       "      <td>3</td>\n",
       "      <td>0.122356</td>\n",
       "      <td>0.277260</td>\n",
       "      <td>0.157314</td>\n",
       "      <td>0.312476</td>\n",
       "    </tr>\n",
       "    <tr>\n",
       "      <th>4</th>\n",
       "      <td>4</td>\n",
       "      <td>0.109361</td>\n",
       "      <td>0.261034</td>\n",
       "      <td>0.105841</td>\n",
       "      <td>0.257407</td>\n",
       "    </tr>\n",
       "    <tr>\n",
       "      <th>5</th>\n",
       "      <td>5</td>\n",
       "      <td>0.100398</td>\n",
       "      <td>0.249758</td>\n",
       "      <td>0.072994</td>\n",
       "      <td>0.211578</td>\n",
       "    </tr>\n",
       "    <tr>\n",
       "      <th>6</th>\n",
       "      <td>6</td>\n",
       "      <td>0.093304</td>\n",
       "      <td>0.240191</td>\n",
       "      <td>0.080612</td>\n",
       "      <td>0.226321</td>\n",
       "    </tr>\n",
       "    <tr>\n",
       "      <th>7</th>\n",
       "      <td>7</td>\n",
       "      <td>0.089689</td>\n",
       "      <td>0.235152</td>\n",
       "      <td>0.087472</td>\n",
       "      <td>0.231754</td>\n",
       "    </tr>\n",
       "    <tr>\n",
       "      <th>8</th>\n",
       "      <td>8</td>\n",
       "      <td>0.086029</td>\n",
       "      <td>0.229902</td>\n",
       "      <td>0.091954</td>\n",
       "      <td>0.236893</td>\n",
       "    </tr>\n",
       "    <tr>\n",
       "      <th>9</th>\n",
       "      <td>9</td>\n",
       "      <td>0.083486</td>\n",
       "      <td>0.225987</td>\n",
       "      <td>0.068430</td>\n",
       "      <td>0.202226</td>\n",
       "    </tr>\n",
       "    <tr>\n",
       "      <th>10</th>\n",
       "      <td>10</td>\n",
       "      <td>0.081287</td>\n",
       "      <td>0.222662</td>\n",
       "      <td>0.067177</td>\n",
       "      <td>0.199691</td>\n",
       "    </tr>\n",
       "  </tbody>\n",
       "</table>\n",
       "</div>"
      ],
      "text/plain": [
       "    epoch      loss  mean_absolute_error  val_loss  val_mean_absolute_error\n",
       "0       0  1.721807             1.178837  0.317471                 0.465719\n",
       "1       1  0.196923             0.356947  0.169153                 0.329763\n",
       "2       2  0.151829             0.309871  0.113909                 0.268762\n",
       "3       3  0.122356             0.277260  0.157314                 0.312476\n",
       "4       4  0.109361             0.261034  0.105841                 0.257407\n",
       "5       5  0.100398             0.249758  0.072994                 0.211578\n",
       "6       6  0.093304             0.240191  0.080612                 0.226321\n",
       "7       7  0.089689             0.235152  0.087472                 0.231754\n",
       "8       8  0.086029             0.229902  0.091954                 0.236893\n",
       "9       9  0.083486             0.225987  0.068430                 0.202226\n",
       "10     10  0.081287             0.222662  0.067177                 0.199691"
      ]
     },
     "execution_count": 14,
     "metadata": {},
     "output_type": "execute_result"
    }
   ],
   "source": [
    "train_history"
   ]
  },
  {
   "cell_type": "code",
   "execution_count": 15,
   "metadata": {},
   "outputs": [
    {
     "data": {
      "image/png": "[encoded data removed]",
      "text/plain": [
       "<Figure size 1008x432 with 2 Axes>"
      ]
     },
     "metadata": {
      "needs_background": "light"
     },
     "output_type": "display_data"
    }
   ],
   "source": [
    "fig, (ax0, ax1) = plt.subplots(ncols=2, figsize=(14, 6))\n",
    "\n",
    "ax0.plot(train_history.loss, label='train')\n",
    "ax0.plot(train_history.val_loss, label='validation')\n",
    "ax0.set_xlabel('Epoch')\n",
    "ax0.set_ylabel('Loss')\n",
    "ax0.legend(loc=0)\n",
    "\n",
    "ax1.plot(train_history.mean_absolute_error, label='train')\n",
    "ax1.plot(train_history.val_mean_absolute_error, label='validation')\n",
    "ax1.set_xlabel('Epoch')\n",
    "ax1.set_ylabel('Mean absolute error')\n",
    "ax1.legend(loc=0)\n",
    "\n",
    "plt.tight_layout()"
   ]
  },
  {
   "cell_type": "markdown",
   "metadata": {},
   "source": [
    "## Reload the model"
   ]
  },
  {
   "cell_type": "code",
   "execution_count": 16,
   "metadata": {},
   "outputs": [
    {
     "name": "stdout",
     "output_type": "stream",
     "text": [
      "Best epoch: 10\n"
     ]
    }
   ],
   "source": [
    "# Choose best epoch based on validation loss\n",
    "best_epoch = train_history.epoch.loc[train_history.val_loss.idxmin()]\n",
    "print('Best epoch:', best_epoch)"
   ]
  },
  {
   "cell_type": "code",
   "execution_count": 17,
   "metadata": {},
   "outputs": [
    {
     "name": "stdout",
     "output_type": "stream",
     "text": [
      "WARNING:tensorflow:From /usr/common/software/tensorflow/intel-tensorflow/1.13.1-py36/lib/python3.6/site-packages/tensorflow/python/ops/resource_variable_ops.py:435: colocate_with (from tensorflow.python.framework.ops) is deprecated and will be removed in a future version.\n",
      "Instructions for updating:\n",
      "Colocations handled automatically by placer.\n",
      "WARNING:tensorflow:From /usr/common/software/tensorflow/intel-tensorflow/1.13.1-py36/lib/python3.6/site-packages/tensorflow/python/keras/layers/core.py:143: calling dropout (from tensorflow.python.ops.nn_ops) with keep_prob is deprecated and will be removed in a future version.\n",
      "Instructions for updating:\n",
      "Please use `rate` instead of `keep_prob`. Rate should be set to `rate = 1 - keep_prob`.\n",
      "WARNING:tensorflow:From /usr/common/software/tensorflow/intel-tensorflow/1.13.1-py36/lib/python3.6/site-packages/tensorflow/python/keras/utils/losses_utils.py:170: to_float (from tensorflow.python.ops.math_ops) is deprecated and will be removed in a future version.\n",
      "Instructions for updating:\n",
      "Use tf.cast instead.\n",
      "WARNING:tensorflow:From /usr/common/software/tensorflow/intel-tensorflow/1.13.1-py36/lib/python3.6/site-packages/tensorflow/python/ops/math_ops.py:3066: to_int32 (from tensorflow.python.ops.math_ops) is deprecated and will be removed in a future version.\n",
      "Instructions for updating:\n",
      "Use tf.cast instead.\n"
     ]
    }
   ],
   "source": [
    "# Load the model checkpoint\n",
    "checkpoint = os.path.join(result_dir, 'checkpoint-{epoch:03d}.h5'.format(epoch=best_epoch+1))\n",
    "model = tf.keras.models.load_model(checkpoint)"
   ]
  },
  {
   "cell_type": "code",
   "execution_count": 18,
   "metadata": {},
   "outputs": [
    {
     "name": "stdout",
     "output_type": "stream",
     "text": [
      "_________________________________________________________________\n",
      "Layer (type)                 Output Shape              Param #   \n",
      "=================================================================\n",
      "conv3d (Conv3D)              (None, 127, 127, 127, 16) 528       \n",
      "_________________________________________________________________\n",
      "leaky_re_lu (LeakyReLU)      (None, 127, 127, 127, 16) 0         \n",
      "_________________________________________________________________\n",
      "max_pooling3d (MaxPooling3D) (None, 63, 63, 63, 16)    0         \n",
      "_________________________________________________________________\n",
      "conv3d_1 (Conv3D)            (None, 62, 62, 62, 16)    2064      \n",
      "_________________________________________________________________\n",
      "leaky_re_lu_1 (LeakyReLU)    (None, 62, 62, 62, 16)    0         \n",
      "_________________________________________________________________\n",
      "max_pooling3d_1 (MaxPooling3 (None, 31, 31, 31, 16)    0         \n",
      "_________________________________________________________________\n",
      "conv3d_2 (Conv3D)            (None, 30, 30, 30, 16)    2064      \n",
      "_________________________________________________________________\n",
      "leaky_re_lu_2 (LeakyReLU)    (None, 30, 30, 30, 16)    0         \n",
      "_________________________________________________________________\n",
      "max_pooling3d_2 (MaxPooling3 (None, 15, 15, 15, 16)    0         \n",
      "_________________________________________________________________\n",
      "conv3d_3 (Conv3D)            (None, 14, 14, 14, 16)    2064      \n",
      "_________________________________________________________________\n",
      "leaky_re_lu_3 (LeakyReLU)    (None, 14, 14, 14, 16)    0         \n",
      "_________________________________________________________________\n",
      "max_pooling3d_3 (MaxPooling3 (None, 7, 7, 7, 16)       0         \n",
      "_________________________________________________________________\n",
      "conv3d_4 (Conv3D)            (None, 6, 6, 6, 16)       2064      \n",
      "_________________________________________________________________\n",
      "leaky_re_lu_4 (LeakyReLU)    (None, 6, 6, 6, 16)       0         \n",
      "_________________________________________________________________\n",
      "max_pooling3d_4 (MaxPooling3 (None, 3, 3, 3, 16)       0         \n",
      "_________________________________________________________________\n",
      "flatten (Flatten)            (None, 432)               0         \n",
      "_________________________________________________________________\n",
      "dropout (Dropout)            (None, 432)               0         \n",
      "_________________________________________________________________\n",
      "dense (Dense)                (None, 128)               55424     \n",
      "_________________________________________________________________\n",
      "leaky_re_lu_5 (LeakyReLU)    (None, 128)               0         \n",
      "_________________________________________________________________\n",
      "dropout_1 (Dropout)          (None, 128)               0         \n",
      "_________________________________________________________________\n",
      "dense_1 (Dense)              (None, 64)                8256      \n",
      "_________________________________________________________________\n",
      "leaky_re_lu_6 (LeakyReLU)    (None, 64)                0         \n",
      "_________________________________________________________________\n",
      "dropout_2 (Dropout)          (None, 64)                0         \n",
      "_________________________________________________________________\n",
      "dense_2 (Dense)              (None, 4)                 260       \n",
      "_________________________________________________________________\n",
      "lambda (Lambda)              (None, 4)                 0         \n",
      "=================================================================\n",
      "Total params: 72,724\n",
      "Trainable params: 72,724\n",
      "Non-trainable params: 0\n",
      "_________________________________________________________________\n"
     ]
    }
   ],
   "source": [
    "model.summary()"
   ]
  },
  {
   "cell_type": "raw",
   "metadata": {},
   "source": [
    "checkpoint = tf.train.latest_checkpoint(result_dir)\n",
    "\n",
    "model = get_model(**config['model'])\n",
    "opt = get_optimizer(**config['optimizer'])\n",
    "train_config = config['train']\n",
    "model.compile(optimizer=opt, loss=train_config['loss'],\n",
    "              metrics=train_config['metrics'])\n",
    "model.load_weights(checkpoint)\n",
    "model.summary()"
   ]
  },
  {
   "cell_type": "markdown",
   "metadata": {},
   "source": [
    "## Evaluate the model on a test set"
   ]
  },
  {
   "cell_type": "code",
   "execution_count": 19,
   "metadata": {},
   "outputs": [],
   "source": [
    "def convert_data_to_np(dataset, n_steps):\n",
    "    iter_next = dataset.make_one_shot_iterator().get_next()\n",
    "    with tf.Session() as sess:\n",
    "        converted_data = [sess.run(iter_next) for i in range(n_steps)]\n",
    "        return map(np.concatenate, zip(*converted_data))"
   ]
  },
  {
   "cell_type": "code",
   "execution_count": 20,
   "metadata": {},
   "outputs": [],
   "source": [
    "n_test_files = 1\n",
    "data_config = config['data']\n",
    "batch_size = data_config['batch_size']\n",
    "data_dir = data_config['data_dir']\n",
    "n_test = n_test_files * data_config['samples_per_file']\n",
    "n_test_steps = n_test // batch_size"
   ]
  },
  {
   "cell_type": "code",
   "execution_count": 21,
   "metadata": {},
   "outputs": [],
   "source": [
    "all_files = [os.path.join(data_dir, f) for f in os.listdir(data_dir)\n",
    "             if f.endswith('tfrecords')]\n",
    "test_files = all_files[-n_test_files:]"
   ]
  },
  {
   "cell_type": "code",
   "execution_count": 22,
   "metadata": {},
   "outputs": [],
   "source": [
    "# Construct the test dataset\n",
    "test_data = construct_dataset(test_files, batch_size=batch_size, n_epochs=1, sample_shape=[128, 128, 128, 4])"
   ]
  },
  {
   "cell_type": "code",
   "execution_count": 23,
   "metadata": {},
   "outputs": [
    {
     "name": "stdout",
     "output_type": "stream",
     "text": [
      "8/8 [==============================] - 29s 4s/step\n"
     ]
    }
   ],
   "source": [
    "# Apply the model to the test set\n",
    "test_pred = model.predict(test_data, steps=n_test_steps, verbose=1)"
   ]
  },
  {
   "cell_type": "code",
   "execution_count": 24,
   "metadata": {},
   "outputs": [],
   "source": [
    "test_x, test_y = convert_data_to_np(test_data, n_test_steps)"
   ]
  },
  {
   "cell_type": "code",
   "execution_count": 25,
   "metadata": {},
   "outputs": [
    {
     "data": {
      "text/plain": [
       "((64, 128, 128, 128, 4), (64, 4), (64, 4))"
      ]
     },
     "execution_count": 25,
     "metadata": {},
     "output_type": "execute_result"
    }
   ],
   "source": [
    "test_x.shape, test_y.shape, test_pred.shape"
   ]
  },
  {
   "cell_type": "markdown",
   "metadata": {},
   "source": [
    "## Model analysis\n",
    "\n",
    "Let's make some detailed plots to understand the performance of the model"
   ]
  },
  {
   "cell_type": "code",
   "execution_count": 26,
   "metadata": {},
   "outputs": [
    {
     "data": {
      "image/png": "[encoded data removed]",
      "text/plain": [
       "<Figure size 864x360 with 2 Axes>"
      ]
     },
     "metadata": {
      "needs_background": "light"
     },
     "output_type": "display_data"
    }
   ],
   "source": [
    "# Voxel value distributions\n",
    "fig, (ax0, ax1) = plt.subplots(ncols=2, figsize=(12, 5))\n",
    "\n",
    "# Voxel value\n",
    "ax0.hist(test_x.flatten(), log=True, bins=50)\n",
    "ax0.set_xlabel('Voxel values')\n",
    "\n",
    "# Maximum voxel value\n",
    "ax1.hist(test_x.reshape(n_test, -1).max(axis=1))\n",
    "ax1.set_xlabel('Maximum voxel value')\n",
    "\n",
    "plt.tight_layout()"
   ]
  },
  {
   "cell_type": "code",
   "execution_count": 27,
   "metadata": {},
   "outputs": [
    {
     "data": {
      "image/png": "[encoded data removed]",
      "text/plain": [
       "<Figure size 1152x360 with 3 Axes>"
      ]
     },
     "metadata": {
      "needs_background": "light"
     },
     "output_type": "display_data"
    }
   ],
   "source": [
    "# 1D Distributions of cosmo params\n",
    "fig, (ax0, ax1, ax2) = plt.subplots(ncols=3, figsize=(16, 5))\n",
    "\n",
    "hist_args = dict(bins=10, range=(-1,1), alpha=0.6)\n",
    "ax0.hist(test_y[:,0], label='target', **hist_args)\n",
    "ax0.hist(test_pred[:,0], label='predicted', **hist_args)\n",
    "ax0.legend(loc=0)\n",
    "ax1.hist(test_y[:,1], label='target', **hist_args)\n",
    "ax1.hist(test_pred[:,1], label='predicted', **hist_args)\n",
    "ax1.legend(loc=0)\n",
    "ax2.hist(test_y[:,2], label='target', **hist_args)\n",
    "ax2.hist(test_pred[:,2], label='predicted', **hist_args)\n",
    "ax2.legend(loc=0)\n",
    "\n",
    "plt.tight_layout()"
   ]
  },
  {
   "cell_type": "code",
   "execution_count": 28,
   "metadata": {},
   "outputs": [
    {
     "data": {
      "text/plain": [
       "[<matplotlib.lines.Line2D at 0x2aab3e6277b8>]"
      ]
     },
     "execution_count": 28,
     "metadata": {},
     "output_type": "execute_result"
    },
    {
     "data": {
      "image/png": "[encoded data removed]",
      "text/plain": [
       "<Figure size 1152x360 with 3 Axes>"
      ]
     },
     "metadata": {
      "needs_background": "light"
     },
     "output_type": "display_data"
    }
   ],
   "source": [
    "fig, (ax0, ax1, ax2) = plt.subplots(ncols=3, figsize=(16, 5))\n",
    "\n",
    "ax0.scatter(test_pred[:,0], test_y[:,0])\n",
    "ax0.plot([-1, 1], [-1, 1], 'r--')\n",
    "ax1.scatter(test_pred[:,1], test_y[:,1])\n",
    "ax1.plot([-1, 1], [-1, 1], 'r--')\n",
    "ax2.scatter(test_pred[:,2], test_y[:,2])\n",
    "ax2.plot([-1, 1], [-1, 1], 'r--')"
   ]
  },
  {
   "cell_type": "markdown",
   "metadata": {},
   "source": [
    "## Discussion\n",
    "\n",
    "This model is training, but not yet doing very well."
   ]
  }
 ],
 "metadata": {
  "kernelspec": {
   "display_name": "tensorflow-intel(cpu)/1.13.1-py36",
   "language": "python",
   "name": "tensorflow_intel_1.13.1_py36"
  },
  "language_info": {
   "codemirror_mode": {
    "name": "ipython",
    "version": 3
   },
   "file_extension": ".py",
   "mimetype": "text/x-python",
   "name": "python",
   "nbconvert_exporter": "python",
   "pygments_lexer": "ipython3",
   "version": "3.6.8"
  }
 },
 "nbformat": 4,
 "nbformat_minor": 2
}
