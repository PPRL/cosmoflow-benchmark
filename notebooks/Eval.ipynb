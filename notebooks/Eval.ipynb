{
 "cells": [
  {
   "cell_type": "markdown",
   "metadata": {},
   "source": [
    "# Evaluation of CosmoFlow training"
   ]
  },
  {
   "cell_type": "code",
   "execution_count": null,
   "metadata": {},
   "outputs": [],
   "source": [
    "import os\n",
    "import sys\n",
    "import yaml\n",
    "\n",
    "sys.path.append('..')"
   ]
  },
  {
   "cell_type": "code",
   "execution_count": 24,
   "metadata": {},
   "outputs": [],
   "source": [
    "import numpy as np\n",
    "\n",
    "import tensorflow as tf\n",
    "\n",
    "import matplotlib.pyplot as plt\n",
    "plt.rcParams.update({'font.size': 14})"
   ]
  },
  {
   "cell_type": "code",
   "execution_count": 25,
   "metadata": {},
   "outputs": [],
   "source": [
    "from models import get_model\n",
    "from data.cosmo import construct_dataset\n",
    "\n",
    "from utils.optimizers import get_optimizer"
   ]
  },
  {
   "cell_type": "code",
   "execution_count": 26,
   "metadata": {},
   "outputs": [],
   "source": [
    "%matplotlib inline"
   ]
  },
  {
   "cell_type": "markdown",
   "metadata": {},
   "source": [
    "## Load configuration"
   ]
  },
  {
   "cell_type": "code",
   "execution_count": 27,
   "metadata": {},
   "outputs": [],
   "source": [
    "def load_config(config_file):\n",
    "    \"\"\"Reads the YAML config file and returns a config dictionary\"\"\"\n",
    "    with open(config_file) as f:\n",
    "        return yaml.load(f, Loader=yaml.FullLoader)"
   ]
  },
  {
   "cell_type": "code",
   "execution_count": 28,
   "metadata": {},
   "outputs": [],
   "source": [
    "config_file = '../configs/cosmo.yaml'"
   ]
  },
  {
   "cell_type": "code",
   "execution_count": 29,
   "metadata": {},
   "outputs": [],
   "source": [
    "config = load_config(config_file)"
   ]
  },
  {
   "cell_type": "code",
   "execution_count": 30,
   "metadata": {},
   "outputs": [
    {
     "data": {
      "text/plain": [
       "{'output_dir': '$SCRATCH/cosmoflow-benchmark/cosmoflow-${SLURM_JOB_ID}',\n",
       " 'data': {'name': 'cosmo',\n",
       "  'data_dir': '/project/projectdirs/m3363/www/cosmoUniverse_2018_10_3parA/dim128_cube',\n",
       "  'n_train_files': 2048,\n",
       "  'n_valid_files': 1024,\n",
       "  'samples_per_file': 16,\n",
       "  'batch_size': 4,\n",
       "  'n_epochs': 16},\n",
       " 'model': {'name': 'cosmoflow',\n",
       "  'input_shape': [128, 128, 128, 1],\n",
       "  'target_size': 3,\n",
       "  'dropout': 0.2},\n",
       " 'optimizer': {'name': 'Adam', 'lr': 0.001},\n",
       " 'train': {'loss': 'mse', 'metrics': ['mae']}}"
      ]
     },
     "execution_count": 30,
     "metadata": {},
     "output_type": "execute_result"
    }
   ],
   "source": [
    "config"
   ]
  },
  {
   "cell_type": "markdown",
   "metadata": {},
   "source": [
    "## Reload the model"
   ]
  },
  {
   "cell_type": "code",
   "execution_count": 31,
   "metadata": {},
   "outputs": [],
   "source": [
    "def load_history(result_dir):\n",
    "    with np.load(os.path.join(result_dir, 'history.npz')) as f:\n",
    "        return dict(f.items())"
   ]
  },
  {
   "cell_type": "code",
   "execution_count": 32,
   "metadata": {},
   "outputs": [
    {
     "name": "stdout",
     "output_type": "stream",
     "text": [
      "\u001b[0m\u001b[01;34mcosmoflow-154846\u001b[0m/  \u001b[01;34mcosmoflow-155912\u001b[0m/  \u001b[01;34mcosmoflow-157761\u001b[0m/  \u001b[01;34mcosmoflow-158130\u001b[0m/\n",
      "\u001b[01;34mcosmoflow-154858\u001b[0m/  \u001b[01;34mcosmoflow-155987\u001b[0m/  \u001b[01;34mcosmoflow-158072\u001b[0m/\n",
      "\u001b[01;34mcosmoflow-154996\u001b[0m/  \u001b[01;34mcosmoflow-156746\u001b[0m/  \u001b[01;34mcosmoflow-158127\u001b[0m/\n"
     ]
    }
   ],
   "source": [
    "ls /global/cscratch1/sd/sfarrell/cosmoflow-benchmark"
   ]
  },
  {
   "cell_type": "code",
   "execution_count": 33,
   "metadata": {},
   "outputs": [
    {
     "name": "stdout",
     "output_type": "stream",
     "text": [
      "total 338056\n",
      "-rw-rw---- 1 sfarrell sfarrell      229 Jun 10 20:27 checkpoint\n",
      "-rw-rw---- 1 sfarrell sfarrell 21630571 Jun 10 16:44 checkpoint-001.ckpt.data-00000-of-00001\n",
      "-rw-rw---- 1 sfarrell sfarrell     2113 Jun 10 16:44 checkpoint-001.ckpt.index\n",
      "-rw-rw---- 1 sfarrell sfarrell 21630571 Jun 10 16:59 checkpoint-002.ckpt.data-00000-of-00001\n",
      "-rw-rw---- 1 sfarrell sfarrell     2113 Jun 10 16:59 checkpoint-002.ckpt.index\n",
      "-rw-rw---- 1 sfarrell sfarrell 21630571 Jun 10 17:14 checkpoint-003.ckpt.data-00000-of-00001\n",
      "-rw-rw---- 1 sfarrell sfarrell     2113 Jun 10 17:14 checkpoint-003.ckpt.index\n",
      "-rw-rw---- 1 sfarrell sfarrell 21630571 Jun 10 17:29 checkpoint-004.ckpt.data-00000-of-00001\n",
      "-rw-rw---- 1 sfarrell sfarrell     2113 Jun 10 17:29 checkpoint-004.ckpt.index\n",
      "-rw-rw---- 1 sfarrell sfarrell 21630571 Jun 10 17:44 checkpoint-005.ckpt.data-00000-of-00001\n",
      "-rw-rw---- 1 sfarrell sfarrell     2113 Jun 10 17:44 checkpoint-005.ckpt.index\n",
      "-rw-rw---- 1 sfarrell sfarrell 21630571 Jun 10 17:59 checkpoint-006.ckpt.data-00000-of-00001\n",
      "-rw-rw---- 1 sfarrell sfarrell     2113 Jun 10 17:59 checkpoint-006.ckpt.index\n",
      "-rw-rw---- 1 sfarrell sfarrell 21630571 Jun 10 18:14 checkpoint-007.ckpt.data-00000-of-00001\n",
      "-rw-rw---- 1 sfarrell sfarrell     2113 Jun 10 18:14 checkpoint-007.ckpt.index\n",
      "-rw-rw---- 1 sfarrell sfarrell 21630571 Jun 10 18:29 checkpoint-008.ckpt.data-00000-of-00001\n",
      "-rw-rw---- 1 sfarrell sfarrell     2113 Jun 10 18:29 checkpoint-008.ckpt.index\n",
      "-rw-rw---- 1 sfarrell sfarrell 21630571 Jun 10 18:44 checkpoint-009.ckpt.data-00000-of-00001\n",
      "-rw-rw---- 1 sfarrell sfarrell     2113 Jun 10 18:44 checkpoint-009.ckpt.index\n",
      "-rw-rw---- 1 sfarrell sfarrell 21630571 Jun 10 18:59 checkpoint-010.ckpt.data-00000-of-00001\n",
      "-rw-rw---- 1 sfarrell sfarrell     2113 Jun 10 18:59 checkpoint-010.ckpt.index\n",
      "-rw-rw---- 1 sfarrell sfarrell 21630571 Jun 10 19:13 checkpoint-011.ckpt.data-00000-of-00001\n",
      "-rw-rw---- 1 sfarrell sfarrell     2113 Jun 10 19:13 checkpoint-011.ckpt.index\n",
      "-rw-rw---- 1 sfarrell sfarrell 21630571 Jun 10 19:28 checkpoint-012.ckpt.data-00000-of-00001\n",
      "-rw-rw---- 1 sfarrell sfarrell     2113 Jun 10 19:28 checkpoint-012.ckpt.index\n",
      "-rw-rw---- 1 sfarrell sfarrell 21630571 Jun 10 19:43 checkpoint-013.ckpt.data-00000-of-00001\n",
      "-rw-rw---- 1 sfarrell sfarrell     2113 Jun 10 19:43 checkpoint-013.ckpt.index\n",
      "-rw-rw---- 1 sfarrell sfarrell 21630571 Jun 10 19:58 checkpoint-014.ckpt.data-00000-of-00001\n",
      "-rw-rw---- 1 sfarrell sfarrell     2113 Jun 10 19:58 checkpoint-014.ckpt.index\n",
      "-rw-rw---- 1 sfarrell sfarrell 21630571 Jun 10 20:13 checkpoint-015.ckpt.data-00000-of-00001\n",
      "-rw-rw---- 1 sfarrell sfarrell     2113 Jun 10 20:13 checkpoint-015.ckpt.index\n",
      "-rw-rw---- 1 sfarrell sfarrell 21630571 Jun 10 20:27 checkpoint-016.ckpt.data-00000-of-00001\n",
      "-rw-rw---- 1 sfarrell sfarrell     2113 Jun 10 20:27 checkpoint-016.ckpt.index\n",
      "-rw-rw---- 1 sfarrell sfarrell     1362 Jun 10 20:27 history.npz\n"
     ]
    }
   ],
   "source": [
    "ls -l /global/cscratch1/sd/sfarrell/cosmoflow-benchmark/cosmoflow-158130"
   ]
  },
  {
   "cell_type": "code",
   "execution_count": 38,
   "metadata": {},
   "outputs": [],
   "source": [
    "result_dir = '/global/cscratch1/sd/sfarrell/cosmoflow-benchmark/cosmoflow-158130'"
   ]
  },
  {
   "cell_type": "code",
   "execution_count": 39,
   "metadata": {},
   "outputs": [],
   "source": [
    "checkpoint = tf.train.latest_checkpoint(result_dir)\n",
    "train_history = load_history(result_dir)"
   ]
  },
  {
   "cell_type": "code",
   "execution_count": 56,
   "metadata": {},
   "outputs": [
    {
     "name": "stdout",
     "output_type": "stream",
     "text": [
      "_________________________________________________________________\n",
      "Layer (type)                 Output Shape              Param #   \n",
      "=================================================================\n",
      "conv3d_15 (Conv3D)           (None, 128, 128, 128, 16) 448       \n",
      "_________________________________________________________________\n",
      "max_pooling3d_15 (MaxPooling (None, 64, 64, 64, 16)    0         \n",
      "_________________________________________________________________\n",
      "conv3d_16 (Conv3D)           (None, 64, 64, 64, 32)    13856     \n",
      "_________________________________________________________________\n",
      "max_pooling3d_16 (MaxPooling (None, 32, 32, 32, 32)    0         \n",
      "_________________________________________________________________\n",
      "conv3d_17 (Conv3D)           (None, 32, 32, 32, 64)    55360     \n",
      "_________________________________________________________________\n",
      "max_pooling3d_17 (MaxPooling (None, 16, 16, 16, 64)    0         \n",
      "_________________________________________________________________\n",
      "conv3d_18 (Conv3D)           (None, 16, 16, 16, 128)   221312    \n",
      "_________________________________________________________________\n",
      "max_pooling3d_18 (MaxPooling (None, 8, 8, 8, 128)      0         \n",
      "_________________________________________________________________\n",
      "conv3d_19 (Conv3D)           (None, 8, 8, 8, 256)      884992    \n",
      "_________________________________________________________________\n",
      "max_pooling3d_19 (MaxPooling (None, 4, 4, 4, 256)      0         \n",
      "_________________________________________________________________\n",
      "flatten_3 (Flatten)          (None, 16384)             0         \n",
      "_________________________________________________________________\n",
      "dense_9 (Dense)              (None, 256)               4194560   \n",
      "_________________________________________________________________\n",
      "dropout_6 (Dropout)          (None, 256)               0         \n",
      "_________________________________________________________________\n",
      "dense_10 (Dense)             (None, 128)               32896     \n",
      "_________________________________________________________________\n",
      "dropout_7 (Dropout)          (None, 128)               0         \n",
      "_________________________________________________________________\n",
      "dense_11 (Dense)             (None, 3)                 387       \n",
      "=================================================================\n",
      "Total params: 5,403,811\n",
      "Trainable params: 5,403,811\n",
      "Non-trainable params: 0\n",
      "_________________________________________________________________\n"
     ]
    }
   ],
   "source": [
    "model = get_model(**config['model'])\n",
    "opt = get_optimizer(**config['optimizer'])\n",
    "train_config = config['train']\n",
    "model.compile(optimizer=opt, loss=train_config['loss'],\n",
    "              metrics=train_config['metrics'])\n",
    "model.load_weights(checkpoint)\n",
    "model.summary()"
   ]
  },
  {
   "cell_type": "markdown",
   "metadata": {},
   "source": [
    "## Training curves"
   ]
  },
  {
   "cell_type": "code",
   "execution_count": 41,
   "metadata": {},
   "outputs": [
    {
     "data": {
      "text/plain": [
       "{'loss': array([0.77503252, 0.21947198, 0.20269092, 0.18633516, 0.17863605,\n",
       "        0.17234665, 0.16785637, 0.16632762, 0.16429005, 0.16247181,\n",
       "        0.16231355, 0.16129797, 0.16132228, 0.16001291, 0.16058202,\n",
       "        0.16076552]),\n",
       " 'mean_absolute_error': array([0.4479443 , 0.38069832, 0.3632981 , 0.34590796, 0.33706483,\n",
       "        0.3296048 , 0.32446337, 0.32282105, 0.3202646 , 0.3178829 ,\n",
       "        0.31790033, 0.31641406, 0.31679425, 0.3157577 , 0.31632072,\n",
       "        0.31659412], dtype=float32),\n",
       " 'val_loss': array([0.20986191, 0.20820936, 0.21547477, 0.1779739 , 0.17661815,\n",
       "        0.16166304, 0.15745507, 0.15609657, 0.15756116, 0.18184861,\n",
       "        0.1533646 , 0.16039522, 0.17542837, 0.15565411, 0.14667371,\n",
       "        0.15119632]),\n",
       " 'val_mean_absolute_error': array([0.37288907, 0.3658281 , 0.36718243, 0.3350679 , 0.33229503,\n",
       "        0.3214555 , 0.3110418 , 0.3117853 , 0.31277043, 0.333522  ,\n",
       "        0.30712053, 0.31872115, 0.34384993, 0.30684963, 0.2977104 ,\n",
       "        0.30605048], dtype=float32)}"
      ]
     },
     "execution_count": 41,
     "metadata": {},
     "output_type": "execute_result"
    }
   ],
   "source": [
    "train_history"
   ]
  },
  {
   "cell_type": "code",
   "execution_count": 42,
   "metadata": {},
   "outputs": [
    {
     "data": {
      "image/png": "[encoded data removed]",
      "text/plain": [
       "<Figure size 1008x432 with 2 Axes>"
      ]
     },
     "metadata": {
      "needs_background": "light"
     },
     "output_type": "display_data"
    }
   ],
   "source": [
    "fig, (ax0, ax1) = plt.subplots(ncols=2, figsize=(14, 6))\n",
    "\n",
    "ax0.plot(train_history['loss'], label='train')\n",
    "ax0.plot(train_history['val_loss'], label='validation')\n",
    "ax0.set_xlabel('Epoch')\n",
    "ax0.set_ylabel('Loss')\n",
    "ax0.legend(loc=0)\n",
    "\n",
    "ax1.plot(train_history['mean_absolute_error'], label='train')\n",
    "ax1.plot(train_history['val_mean_absolute_error'], label='validation')\n",
    "ax1.set_xlabel('Epoch')\n",
    "ax1.set_ylabel('Mean absolute error')\n",
    "ax1.legend(loc=0)\n",
    "\n",
    "plt.tight_layout()"
   ]
  },
  {
   "cell_type": "markdown",
   "metadata": {},
   "source": [
    "## Load a test set"
   ]
  },
  {
   "cell_type": "code",
   "execution_count": 43,
   "metadata": {},
   "outputs": [],
   "source": [
    "data_config = config['data']\n",
    "data_dir = data_config['data_dir']"
   ]
  },
  {
   "cell_type": "code",
   "execution_count": 44,
   "metadata": {},
   "outputs": [],
   "source": [
    "all_files = [os.path.join(data_dir, f) for f in os.listdir(data_dir)\n",
    "             if f.endswith('tfrecords')]"
   ]
  },
  {
   "cell_type": "code",
   "execution_count": 52,
   "metadata": {},
   "outputs": [],
   "source": [
    "n_test_files = 4\n",
    "\n",
    "n_test = n_test_files * data_config['samples_per_file']"
   ]
  },
  {
   "cell_type": "code",
   "execution_count": 53,
   "metadata": {},
   "outputs": [],
   "source": [
    "test_files = all_files[-n_test_files:]\n",
    "test_data = construct_dataset(test_files, batch_size=1, n_epochs=1)"
   ]
  },
  {
   "cell_type": "code",
   "execution_count": null,
   "metadata": {},
   "outputs": [],
   "source": [
    "model.evaluate(test_data, steps=n_test)"
   ]
  },
  {
   "cell_type": "raw",
   "metadata": {},
   "source": [
    "model.predict(test_data, steps=n_test)"
   ]
  },
  {
   "cell_type": "raw",
   "metadata": {},
   "source": [
    "sess = tf.InteractiveSession()\n",
    "test_iter = test_data.make_one_shot_iterator()\n",
    "y = sess.run(test_iter.get_next())"
   ]
  },
  {
   "cell_type": "markdown",
   "metadata": {},
   "source": [
    "## Discussion\n",
    "\n",
    "Currently it seems the 3D CNN model is merely learning the average answer.\n",
    "Let's trying running larger scale."
   ]
  }
 ],
 "metadata": {
  "kernelspec": {
   "display_name": "tensorflow-intel(cpu)/1.13.1-py36",
   "language": "python",
   "name": "tensorflow_intel_1.13.1_py36"
  },
  "language_info": {
   "codemirror_mode": {
    "name": "ipython",
    "version": 3
   },
   "file_extension": ".py",
   "mimetype": "text/x-python",
   "name": "python",
   "nbconvert_exporter": "python",
   "pygments_lexer": "ipython3",
   "version": "3.6.8"
  }
 },
 "nbformat": 4,
 "nbformat_minor": 2
}
