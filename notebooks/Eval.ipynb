{
 "cells": [
  {
   "cell_type": "markdown",
   "metadata": {},
   "source": [
    "# Evaluation of CosmoFlow training"
   ]
  },
  {
   "cell_type": "code",
   "execution_count": 1,
   "metadata": {},
   "outputs": [],
   "source": [
    "import os\n",
    "import sys\n",
    "import yaml\n",
    "\n",
    "sys.path.append('..')"
   ]
  },
  {
   "cell_type": "code",
   "execution_count": 2,
   "metadata": {},
   "outputs": [],
   "source": [
    "import numpy as np\n",
    "import pandas as pd\n",
    "\n",
    "import tensorflow as tf\n",
    "\n",
    "import matplotlib.pyplot as plt\n",
    "plt.rcParams.update({'font.size': 14})"
   ]
  },
  {
   "cell_type": "code",
   "execution_count": 3,
   "metadata": {},
   "outputs": [
    {
     "name": "stderr",
     "output_type": "stream",
     "text": [
      "Using TensorFlow backend.\n"
     ]
    }
   ],
   "source": [
    "from models import get_model\n",
    "from data.cosmo import construct_dataset\n",
    "from utils.optimizers import get_optimizer"
   ]
  },
  {
   "cell_type": "code",
   "execution_count": 4,
   "metadata": {},
   "outputs": [],
   "source": [
    "%matplotlib inline"
   ]
  },
  {
   "cell_type": "markdown",
   "metadata": {},
   "source": [
    "## Load configuration"
   ]
  },
  {
   "cell_type": "code",
   "execution_count": 5,
   "metadata": {},
   "outputs": [],
   "source": [
    "def load_config(config_file):\n",
    "    \"\"\"Reads the YAML config file and returns a config dictionary\"\"\"\n",
    "    with open(config_file) as f:\n",
    "        return yaml.load(f, Loader=yaml.FullLoader)"
   ]
  },
  {
   "cell_type": "code",
   "execution_count": 6,
   "metadata": {},
   "outputs": [],
   "source": [
    "config_file = '../configs/cosmo.yaml'"
   ]
  },
  {
   "cell_type": "code",
   "execution_count": 7,
   "metadata": {},
   "outputs": [],
   "source": [
    "config = load_config(config_file)"
   ]
  },
  {
   "cell_type": "code",
   "execution_count": 8,
   "metadata": {},
   "outputs": [
    {
     "data": {
      "text/plain": [
       "{'output_dir': '$SCRATCH/cosmoflow-benchmark/cosmoflow-19-06-19',\n",
       " 'data': {'name': 'cosmo',\n",
       "  'data_dir': '/project/projectdirs/m3363/www/cosmoUniverse_2019_02_4parE/dim128_cube_nT4',\n",
       "  'n_train_files': 640,\n",
       "  'n_valid_files': 256,\n",
       "  'samples_per_file': 64,\n",
       "  'sample_shape': [128, 128, 128, 4],\n",
       "  'batch_size': 1,\n",
       "  'n_epochs': 64},\n",
       " 'model': {'name': 'cosmojan',\n",
       "  'input_shape': [128, 128, 128, 4],\n",
       "  'target_size': 4,\n",
       "  'dropout': 0.2},\n",
       " 'optimizer': {'name': 'Adadelta', 'lr': 0.5, 'lr_scaling': 'none'},\n",
       " 'train': {'loss': 'mse',\n",
       "  'metrics': ['mae'],\n",
       "  'lr_schedule': [{'start_epoch': 16, 'end_epoch': 32, 'multiplier': 0.3},\n",
       "   {'start_epoch': 32, 'end_epoch': 64, 'multiplier': 0.1}]}}"
      ]
     },
     "execution_count": 8,
     "metadata": {},
     "output_type": "execute_result"
    }
   ],
   "source": [
    "config"
   ]
  },
  {
   "cell_type": "markdown",
   "metadata": {},
   "source": [
    "## View training history"
   ]
  },
  {
   "cell_type": "code",
   "execution_count": 9,
   "metadata": {},
   "outputs": [],
   "source": [
    "def load_history(result_dir):\n",
    "    return pd.read_csv(os.path.join(result_dir, 'history.csv'))"
   ]
  },
  {
   "cell_type": "code",
   "execution_count": 10,
   "metadata": {},
   "outputs": [
    {
     "name": "stdout",
     "output_type": "stream",
     "text": [
      "\u001b[0m\u001b[01;34mcosmoflow-154846\u001b[0m/  \u001b[01;34mcosmoflow-157761\u001b[0m/  \u001b[01;34mcosmoflow-158235\u001b[0m/    \u001b[01;34mcosmoflow-19-06-19\u001b[0m/\n",
      "\u001b[01;34mcosmoflow-154858\u001b[0m/  \u001b[01;34mcosmoflow-158072\u001b[0m/  \u001b[01;34mcosmoflow-158333\u001b[0m/    \u001b[01;34mcosmoflow-hvd\u001b[0m/\n",
      "\u001b[01;34mcosmoflow-154996\u001b[0m/  \u001b[01;34mcosmoflow-158127\u001b[0m/  \u001b[01;34mcosmoflow-19-06-11\u001b[0m/  \u001b[01;34mcosmoflow-test\u001b[0m/\n",
      "\u001b[01;34mcosmoflow-155912\u001b[0m/  \u001b[01;34mcosmoflow-158130\u001b[0m/  \u001b[01;34mcosmoflow-19-06-12\u001b[0m/  \u001b[01;34mdata\u001b[0m/\n",
      "\u001b[01;34mcosmoflow-155987\u001b[0m/  \u001b[01;34mcosmoflow-158215\u001b[0m/  \u001b[01;34mcosmoflow-19-06-13\u001b[0m/\n",
      "\u001b[01;34mcosmoflow-156746\u001b[0m/  \u001b[01;34mcosmoflow-158230\u001b[0m/  \u001b[01;34mcosmoflow-19-06-17\u001b[0m/\n"
     ]
    }
   ],
   "source": [
    "ls /global/cscratch1/sd/sfarrell/cosmoflow-benchmark"
   ]
  },
  {
   "cell_type": "code",
   "execution_count": 11,
   "metadata": {},
   "outputs": [],
   "source": [
    "result_dir = os.path.expandvars(config['output_dir'])\n",
    "#result_dir = '/global/cscratch1/sd/sfarrell/cosmoflow-benchmark/cosmoflow-19-06-17'"
   ]
  },
  {
   "cell_type": "code",
   "execution_count": 12,
   "metadata": {},
   "outputs": [
    {
     "name": "stdout",
     "output_type": "stream",
     "text": [
      "total 34964\n",
      "-rw-rw---- 1 sfarrell sfarrell 939056 Jun 20 06:31 checkpoint-001.h5\n",
      "-rw-rw---- 1 sfarrell sfarrell 939056 Jun 20 06:56 checkpoint-002.h5\n",
      "-rw-rw---- 1 sfarrell sfarrell 939056 Jun 20 07:22 checkpoint-003.h5\n",
      "-rw-rw---- 1 sfarrell sfarrell 939056 Jun 20 07:47 checkpoint-004.h5\n",
      "-rw-rw---- 1 sfarrell sfarrell 939056 Jun 20 08:12 checkpoint-005.h5\n",
      "-rw-rw---- 1 sfarrell sfarrell 939056 Jun 20 08:38 checkpoint-006.h5\n",
      "-rw-rw---- 1 sfarrell sfarrell 939056 Jun 20 09:02 checkpoint-007.h5\n",
      "-rw-rw---- 1 sfarrell sfarrell 939056 Jun 20 09:27 checkpoint-008.h5\n",
      "-rw-rw---- 1 sfarrell sfarrell 939056 Jun 20 09:52 checkpoint-009.h5\n",
      "-rw-rw---- 1 sfarrell sfarrell 939056 Jun 20 10:18 checkpoint-010.h5\n",
      "-rw-rw---- 1 sfarrell sfarrell 939056 Jun 20 10:43 checkpoint-011.h5\n",
      "-rw-rw---- 1 sfarrell sfarrell 939056 Jun 20 11:08 checkpoint-012.h5\n",
      "-rw-rw---- 1 sfarrell sfarrell 939056 Jun 20 11:34 checkpoint-013.h5\n",
      "-rw-rw---- 1 sfarrell sfarrell 939056 Jun 20 11:59 checkpoint-014.h5\n",
      "-rw-rw---- 1 sfarrell sfarrell 939056 Jun 20 12:24 checkpoint-015.h5\n",
      "-rw-rw---- 1 sfarrell sfarrell 939056 Jun 20 12:48 checkpoint-016.h5\n",
      "-rw-rw---- 1 sfarrell sfarrell 939056 Jun 20 13:13 checkpoint-017.h5\n",
      "-rw-rw---- 1 sfarrell sfarrell 939056 Jun 20 13:38 checkpoint-018.h5\n",
      "-rw-rw---- 1 sfarrell sfarrell 939056 Jun 20 14:03 checkpoint-019.h5\n",
      "-rw-rw---- 1 sfarrell sfarrell 939120 Jun 20 15:29 checkpoint-020.h5\n",
      "-rw-rw---- 1 sfarrell sfarrell 939120 Jun 20 15:54 checkpoint-021.h5\n",
      "-rw-rw---- 1 sfarrell sfarrell 939120 Jun 20 16:20 checkpoint-022.h5\n",
      "-rw-rw---- 1 sfarrell sfarrell 939120 Jun 20 16:47 checkpoint-023.h5\n",
      "-rw-rw---- 1 sfarrell sfarrell 939120 Jun 20 17:15 checkpoint-024.h5\n",
      "-rw-rw---- 1 sfarrell sfarrell 939120 Jun 20 17:39 checkpoint-025.h5\n",
      "-rw-rw---- 1 sfarrell sfarrell 939120 Jun 20 18:05 checkpoint-026.h5\n",
      "-rw-rw---- 1 sfarrell sfarrell 939120 Jun 20 18:30 checkpoint-027.h5\n",
      "-rw-rw---- 1 sfarrell sfarrell 939120 Jun 20 18:55 checkpoint-028.h5\n",
      "-rw-rw---- 1 sfarrell sfarrell 939120 Jun 20 19:21 checkpoint-029.h5\n",
      "-rw-rw---- 1 sfarrell sfarrell 939120 Jun 20 19:46 checkpoint-030.h5\n",
      "-rw-rw---- 1 sfarrell sfarrell 939120 Jun 20 20:10 checkpoint-031.h5\n",
      "-rw-rw---- 1 sfarrell sfarrell 939120 Jun 20 20:35 checkpoint-032.h5\n",
      "-rw-rw---- 1 sfarrell sfarrell 939120 Jun 20 21:04 checkpoint-033.h5\n",
      "-rw-rw---- 1 sfarrell sfarrell 939120 Jun 20 21:29 checkpoint-034.h5\n",
      "-rw-rw---- 1 sfarrell sfarrell 939120 Jun 20 21:54 checkpoint-035.h5\n",
      "-rw-rw---- 1 sfarrell sfarrell 939120 Jun 20 22:21 checkpoint-036.h5\n",
      "-rw-rw---- 1 sfarrell sfarrell 939120 Jun 20 22:48 checkpoint-037.h5\n",
      "-rw-rw---- 1 sfarrell sfarrell 939120 Jun 20 23:14 checkpoint-038.h5\n",
      "-rw-rw---- 1 sfarrell sfarrell   2795 Jun 20 23:14 history.csv\n"
     ]
    }
   ],
   "source": [
    "ls -l $result_dir"
   ]
  },
  {
   "cell_type": "code",
   "execution_count": 13,
   "metadata": {},
   "outputs": [],
   "source": [
    "train_history = load_history(result_dir)"
   ]
  },
  {
   "cell_type": "code",
   "execution_count": 14,
   "metadata": {},
   "outputs": [
    {
     "data": {
      "text/html": [
       "<div>\n",
       "<style scoped>\n",
       "    .dataframe tbody tr th:only-of-type {\n",
       "        vertical-align: middle;\n",
       "    }\n",
       "\n",
       "    .dataframe tbody tr th {\n",
       "        vertical-align: top;\n",
       "    }\n",
       "\n",
       "    .dataframe thead th {\n",
       "        text-align: right;\n",
       "    }\n",
       "</style>\n",
       "<table border=\"1\" class=\"dataframe\">\n",
       "  <thead>\n",
       "    <tr style=\"text-align: right;\">\n",
       "      <th></th>\n",
       "      <th>epoch</th>\n",
       "      <th>loss</th>\n",
       "      <th>lr</th>\n",
       "      <th>mean_absolute_error</th>\n",
       "      <th>val_loss</th>\n",
       "      <th>val_mean_absolute_error</th>\n",
       "    </tr>\n",
       "  </thead>\n",
       "  <tbody>\n",
       "    <tr>\n",
       "      <th>0</th>\n",
       "      <td>0</td>\n",
       "      <td>0.339049</td>\n",
       "      <td>0.5000</td>\n",
       "      <td>0.434486</td>\n",
       "      <td>0.164307</td>\n",
       "      <td>0.322503</td>\n",
       "    </tr>\n",
       "    <tr>\n",
       "      <th>1</th>\n",
       "      <td>1</td>\n",
       "      <td>0.149852</td>\n",
       "      <td>0.5000</td>\n",
       "      <td>0.306790</td>\n",
       "      <td>0.106238</td>\n",
       "      <td>0.257490</td>\n",
       "    </tr>\n",
       "    <tr>\n",
       "      <th>2</th>\n",
       "      <td>2</td>\n",
       "      <td>0.117685</td>\n",
       "      <td>0.5000</td>\n",
       "      <td>0.270638</td>\n",
       "      <td>0.092737</td>\n",
       "      <td>0.239901</td>\n",
       "    </tr>\n",
       "    <tr>\n",
       "      <th>3</th>\n",
       "      <td>3</td>\n",
       "      <td>0.103733</td>\n",
       "      <td>0.5000</td>\n",
       "      <td>0.253621</td>\n",
       "      <td>0.079904</td>\n",
       "      <td>0.221149</td>\n",
       "    </tr>\n",
       "    <tr>\n",
       "      <th>4</th>\n",
       "      <td>4</td>\n",
       "      <td>0.095800</td>\n",
       "      <td>0.5000</td>\n",
       "      <td>0.242850</td>\n",
       "      <td>0.088182</td>\n",
       "      <td>0.230454</td>\n",
       "    </tr>\n",
       "    <tr>\n",
       "      <th>5</th>\n",
       "      <td>5</td>\n",
       "      <td>0.090553</td>\n",
       "      <td>0.5000</td>\n",
       "      <td>0.235761</td>\n",
       "      <td>0.118770</td>\n",
       "      <td>0.269581</td>\n",
       "    </tr>\n",
       "    <tr>\n",
       "      <th>6</th>\n",
       "      <td>6</td>\n",
       "      <td>0.086443</td>\n",
       "      <td>0.5000</td>\n",
       "      <td>0.230229</td>\n",
       "      <td>0.079308</td>\n",
       "      <td>0.222289</td>\n",
       "    </tr>\n",
       "    <tr>\n",
       "      <th>7</th>\n",
       "      <td>7</td>\n",
       "      <td>0.083545</td>\n",
       "      <td>0.5000</td>\n",
       "      <td>0.225880</td>\n",
       "      <td>0.093966</td>\n",
       "      <td>0.246369</td>\n",
       "    </tr>\n",
       "    <tr>\n",
       "      <th>8</th>\n",
       "      <td>8</td>\n",
       "      <td>0.080192</td>\n",
       "      <td>0.5000</td>\n",
       "      <td>0.221277</td>\n",
       "      <td>0.061325</td>\n",
       "      <td>0.188998</td>\n",
       "    </tr>\n",
       "    <tr>\n",
       "      <th>9</th>\n",
       "      <td>9</td>\n",
       "      <td>0.077836</td>\n",
       "      <td>0.5000</td>\n",
       "      <td>0.217703</td>\n",
       "      <td>0.061517</td>\n",
       "      <td>0.188816</td>\n",
       "    </tr>\n",
       "    <tr>\n",
       "      <th>10</th>\n",
       "      <td>10</td>\n",
       "      <td>0.075993</td>\n",
       "      <td>0.5000</td>\n",
       "      <td>0.214583</td>\n",
       "      <td>0.078259</td>\n",
       "      <td>0.219107</td>\n",
       "    </tr>\n",
       "    <tr>\n",
       "      <th>11</th>\n",
       "      <td>11</td>\n",
       "      <td>0.074345</td>\n",
       "      <td>0.5000</td>\n",
       "      <td>0.212020</td>\n",
       "      <td>0.064826</td>\n",
       "      <td>0.193531</td>\n",
       "    </tr>\n",
       "    <tr>\n",
       "      <th>12</th>\n",
       "      <td>12</td>\n",
       "      <td>0.073132</td>\n",
       "      <td>0.5000</td>\n",
       "      <td>0.209941</td>\n",
       "      <td>0.080806</td>\n",
       "      <td>0.217145</td>\n",
       "    </tr>\n",
       "    <tr>\n",
       "      <th>13</th>\n",
       "      <td>13</td>\n",
       "      <td>0.071506</td>\n",
       "      <td>0.5000</td>\n",
       "      <td>0.207401</td>\n",
       "      <td>0.068604</td>\n",
       "      <td>0.200465</td>\n",
       "    </tr>\n",
       "    <tr>\n",
       "      <th>14</th>\n",
       "      <td>14</td>\n",
       "      <td>0.070629</td>\n",
       "      <td>0.5000</td>\n",
       "      <td>0.206109</td>\n",
       "      <td>0.058944</td>\n",
       "      <td>0.184360</td>\n",
       "    </tr>\n",
       "    <tr>\n",
       "      <th>15</th>\n",
       "      <td>15</td>\n",
       "      <td>0.069517</td>\n",
       "      <td>0.5000</td>\n",
       "      <td>0.204484</td>\n",
       "      <td>0.059802</td>\n",
       "      <td>0.186935</td>\n",
       "    </tr>\n",
       "    <tr>\n",
       "      <th>16</th>\n",
       "      <td>16</td>\n",
       "      <td>0.055768</td>\n",
       "      <td>0.1500</td>\n",
       "      <td>0.179684</td>\n",
       "      <td>0.050978</td>\n",
       "      <td>0.166901</td>\n",
       "    </tr>\n",
       "    <tr>\n",
       "      <th>17</th>\n",
       "      <td>17</td>\n",
       "      <td>0.054198</td>\n",
       "      <td>0.1500</td>\n",
       "      <td>0.176568</td>\n",
       "      <td>0.054707</td>\n",
       "      <td>0.171531</td>\n",
       "    </tr>\n",
       "    <tr>\n",
       "      <th>18</th>\n",
       "      <td>18</td>\n",
       "      <td>0.053831</td>\n",
       "      <td>0.1500</td>\n",
       "      <td>0.175827</td>\n",
       "      <td>0.050803</td>\n",
       "      <td>0.167318</td>\n",
       "    </tr>\n",
       "    <tr>\n",
       "      <th>19</th>\n",
       "      <td>19</td>\n",
       "      <td>0.050212</td>\n",
       "      <td>0.0450</td>\n",
       "      <td>0.168903</td>\n",
       "      <td>0.051992</td>\n",
       "      <td>0.167357</td>\n",
       "    </tr>\n",
       "    <tr>\n",
       "      <th>20</th>\n",
       "      <td>20</td>\n",
       "      <td>0.049503</td>\n",
       "      <td>0.0450</td>\n",
       "      <td>0.167552</td>\n",
       "      <td>0.050061</td>\n",
       "      <td>0.164485</td>\n",
       "    </tr>\n",
       "    <tr>\n",
       "      <th>21</th>\n",
       "      <td>21</td>\n",
       "      <td>0.049269</td>\n",
       "      <td>0.0450</td>\n",
       "      <td>0.167377</td>\n",
       "      <td>0.048848</td>\n",
       "      <td>0.162291</td>\n",
       "    </tr>\n",
       "    <tr>\n",
       "      <th>22</th>\n",
       "      <td>22</td>\n",
       "      <td>0.049251</td>\n",
       "      <td>0.0450</td>\n",
       "      <td>0.167393</td>\n",
       "      <td>0.049962</td>\n",
       "      <td>0.163495</td>\n",
       "    </tr>\n",
       "    <tr>\n",
       "      <th>23</th>\n",
       "      <td>23</td>\n",
       "      <td>0.048744</td>\n",
       "      <td>0.0450</td>\n",
       "      <td>0.166298</td>\n",
       "      <td>0.048564</td>\n",
       "      <td>0.161258</td>\n",
       "    </tr>\n",
       "    <tr>\n",
       "      <th>24</th>\n",
       "      <td>24</td>\n",
       "      <td>0.048921</td>\n",
       "      <td>0.0450</td>\n",
       "      <td>0.166762</td>\n",
       "      <td>0.048895</td>\n",
       "      <td>0.162129</td>\n",
       "    </tr>\n",
       "    <tr>\n",
       "      <th>25</th>\n",
       "      <td>25</td>\n",
       "      <td>0.048657</td>\n",
       "      <td>0.0450</td>\n",
       "      <td>0.166132</td>\n",
       "      <td>0.048731</td>\n",
       "      <td>0.161293</td>\n",
       "    </tr>\n",
       "    <tr>\n",
       "      <th>26</th>\n",
       "      <td>26</td>\n",
       "      <td>0.048226</td>\n",
       "      <td>0.0450</td>\n",
       "      <td>0.165484</td>\n",
       "      <td>0.048464</td>\n",
       "      <td>0.161096</td>\n",
       "    </tr>\n",
       "    <tr>\n",
       "      <th>27</th>\n",
       "      <td>27</td>\n",
       "      <td>0.048176</td>\n",
       "      <td>0.0450</td>\n",
       "      <td>0.165361</td>\n",
       "      <td>0.047947</td>\n",
       "      <td>0.159803</td>\n",
       "    </tr>\n",
       "    <tr>\n",
       "      <th>28</th>\n",
       "      <td>28</td>\n",
       "      <td>0.047850</td>\n",
       "      <td>0.0450</td>\n",
       "      <td>0.164819</td>\n",
       "      <td>0.048741</td>\n",
       "      <td>0.161490</td>\n",
       "    </tr>\n",
       "    <tr>\n",
       "      <th>29</th>\n",
       "      <td>29</td>\n",
       "      <td>0.047766</td>\n",
       "      <td>0.0450</td>\n",
       "      <td>0.164446</td>\n",
       "      <td>0.048820</td>\n",
       "      <td>0.160956</td>\n",
       "    </tr>\n",
       "    <tr>\n",
       "      <th>30</th>\n",
       "      <td>30</td>\n",
       "      <td>0.047698</td>\n",
       "      <td>0.0450</td>\n",
       "      <td>0.164588</td>\n",
       "      <td>0.048549</td>\n",
       "      <td>0.161026</td>\n",
       "    </tr>\n",
       "    <tr>\n",
       "      <th>31</th>\n",
       "      <td>31</td>\n",
       "      <td>0.047582</td>\n",
       "      <td>0.0450</td>\n",
       "      <td>0.164511</td>\n",
       "      <td>0.047791</td>\n",
       "      <td>0.159783</td>\n",
       "    </tr>\n",
       "    <tr>\n",
       "      <th>32</th>\n",
       "      <td>32</td>\n",
       "      <td>0.046174</td>\n",
       "      <td>0.0045</td>\n",
       "      <td>0.161829</td>\n",
       "      <td>0.047641</td>\n",
       "      <td>0.159205</td>\n",
       "    </tr>\n",
       "    <tr>\n",
       "      <th>33</th>\n",
       "      <td>33</td>\n",
       "      <td>0.046251</td>\n",
       "      <td>0.0045</td>\n",
       "      <td>0.161773</td>\n",
       "      <td>0.047437</td>\n",
       "      <td>0.158661</td>\n",
       "    </tr>\n",
       "    <tr>\n",
       "      <th>34</th>\n",
       "      <td>34</td>\n",
       "      <td>0.045969</td>\n",
       "      <td>0.0045</td>\n",
       "      <td>0.161263</td>\n",
       "      <td>0.047428</td>\n",
       "      <td>0.158627</td>\n",
       "    </tr>\n",
       "    <tr>\n",
       "      <th>35</th>\n",
       "      <td>35</td>\n",
       "      <td>0.045776</td>\n",
       "      <td>0.0045</td>\n",
       "      <td>0.161057</td>\n",
       "      <td>0.047401</td>\n",
       "      <td>0.158520</td>\n",
       "    </tr>\n",
       "    <tr>\n",
       "      <th>36</th>\n",
       "      <td>36</td>\n",
       "      <td>0.046074</td>\n",
       "      <td>0.0045</td>\n",
       "      <td>0.161441</td>\n",
       "      <td>0.047491</td>\n",
       "      <td>0.158837</td>\n",
       "    </tr>\n",
       "    <tr>\n",
       "      <th>37</th>\n",
       "      <td>37</td>\n",
       "      <td>0.045973</td>\n",
       "      <td>0.0045</td>\n",
       "      <td>0.161240</td>\n",
       "      <td>0.047363</td>\n",
       "      <td>0.158494</td>\n",
       "    </tr>\n",
       "  </tbody>\n",
       "</table>\n",
       "</div>"
      ],
      "text/plain": [
       "    epoch      loss      lr  mean_absolute_error  val_loss  \\\n",
       "0       0  0.339049  0.5000             0.434486  0.164307   \n",
       "1       1  0.149852  0.5000             0.306790  0.106238   \n",
       "2       2  0.117685  0.5000             0.270638  0.092737   \n",
       "3       3  0.103733  0.5000             0.253621  0.079904   \n",
       "4       4  0.095800  0.5000             0.242850  0.088182   \n",
       "5       5  0.090553  0.5000             0.235761  0.118770   \n",
       "6       6  0.086443  0.5000             0.230229  0.079308   \n",
       "7       7  0.083545  0.5000             0.225880  0.093966   \n",
       "8       8  0.080192  0.5000             0.221277  0.061325   \n",
       "9       9  0.077836  0.5000             0.217703  0.061517   \n",
       "10     10  0.075993  0.5000             0.214583  0.078259   \n",
       "11     11  0.074345  0.5000             0.212020  0.064826   \n",
       "12     12  0.073132  0.5000             0.209941  0.080806   \n",
       "13     13  0.071506  0.5000             0.207401  0.068604   \n",
       "14     14  0.070629  0.5000             0.206109  0.058944   \n",
       "15     15  0.069517  0.5000             0.204484  0.059802   \n",
       "16     16  0.055768  0.1500             0.179684  0.050978   \n",
       "17     17  0.054198  0.1500             0.176568  0.054707   \n",
       "18     18  0.053831  0.1500             0.175827  0.050803   \n",
       "19     19  0.050212  0.0450             0.168903  0.051992   \n",
       "20     20  0.049503  0.0450             0.167552  0.050061   \n",
       "21     21  0.049269  0.0450             0.167377  0.048848   \n",
       "22     22  0.049251  0.0450             0.167393  0.049962   \n",
       "23     23  0.048744  0.0450             0.166298  0.048564   \n",
       "24     24  0.048921  0.0450             0.166762  0.048895   \n",
       "25     25  0.048657  0.0450             0.166132  0.048731   \n",
       "26     26  0.048226  0.0450             0.165484  0.048464   \n",
       "27     27  0.048176  0.0450             0.165361  0.047947   \n",
       "28     28  0.047850  0.0450             0.164819  0.048741   \n",
       "29     29  0.047766  0.0450             0.164446  0.048820   \n",
       "30     30  0.047698  0.0450             0.164588  0.048549   \n",
       "31     31  0.047582  0.0450             0.164511  0.047791   \n",
       "32     32  0.046174  0.0045             0.161829  0.047641   \n",
       "33     33  0.046251  0.0045             0.161773  0.047437   \n",
       "34     34  0.045969  0.0045             0.161263  0.047428   \n",
       "35     35  0.045776  0.0045             0.161057  0.047401   \n",
       "36     36  0.046074  0.0045             0.161441  0.047491   \n",
       "37     37  0.045973  0.0045             0.161240  0.047363   \n",
       "\n",
       "    val_mean_absolute_error  \n",
       "0                  0.322503  \n",
       "1                  0.257490  \n",
       "2                  0.239901  \n",
       "3                  0.221149  \n",
       "4                  0.230454  \n",
       "5                  0.269581  \n",
       "6                  0.222289  \n",
       "7                  0.246369  \n",
       "8                  0.188998  \n",
       "9                  0.188816  \n",
       "10                 0.219107  \n",
       "11                 0.193531  \n",
       "12                 0.217145  \n",
       "13                 0.200465  \n",
       "14                 0.184360  \n",
       "15                 0.186935  \n",
       "16                 0.166901  \n",
       "17                 0.171531  \n",
       "18                 0.167318  \n",
       "19                 0.167357  \n",
       "20                 0.164485  \n",
       "21                 0.162291  \n",
       "22                 0.163495  \n",
       "23                 0.161258  \n",
       "24                 0.162129  \n",
       "25                 0.161293  \n",
       "26                 0.161096  \n",
       "27                 0.159803  \n",
       "28                 0.161490  \n",
       "29                 0.160956  \n",
       "30                 0.161026  \n",
       "31                 0.159783  \n",
       "32                 0.159205  \n",
       "33                 0.158661  \n",
       "34                 0.158627  \n",
       "35                 0.158520  \n",
       "36                 0.158837  \n",
       "37                 0.158494  "
      ]
     },
     "execution_count": 14,
     "metadata": {},
     "output_type": "execute_result"
    }
   ],
   "source": [
    "train_history"
   ]
  },
  {
   "cell_type": "code",
   "execution_count": 15,
   "metadata": {},
   "outputs": [
    {
     "data": {
      "image/png": "[encoded data removed]",
      "text/plain": [
       "<Figure size 1008x432 with 2 Axes>"
      ]
     },
     "metadata": {
      "needs_background": "light"
     },
     "output_type": "display_data"
    }
   ],
   "source": [
    "fig, (ax0, ax1) = plt.subplots(ncols=2, figsize=(14, 6))\n",
    "\n",
    "ax0.plot(train_history.loss, label='train')\n",
    "ax0.plot(train_history.val_loss, label='validation')\n",
    "ax0.set_xlabel('Epoch')\n",
    "ax0.set_ylabel('Loss')\n",
    "ax0.legend(loc=0)\n",
    "\n",
    "ax1.plot(train_history.mean_absolute_error, label='train')\n",
    "ax1.plot(train_history.val_mean_absolute_error, label='validation')\n",
    "ax1.set_xlabel('Epoch')\n",
    "ax1.set_ylabel('Mean absolute error')\n",
    "ax1.legend(loc=0)\n",
    "\n",
    "plt.tight_layout()"
   ]
  },
  {
   "cell_type": "markdown",
   "metadata": {},
   "source": [
    "## Reload the model"
   ]
  },
  {
   "cell_type": "code",
   "execution_count": 16,
   "metadata": {},
   "outputs": [
    {
     "name": "stdout",
     "output_type": "stream",
     "text": [
      "Best epoch: 37\n"
     ]
    }
   ],
   "source": [
    "# Choose best epoch based on validation loss\n",
    "best_epoch = train_history.epoch.loc[train_history.val_loss.idxmin()]\n",
    "print('Best epoch:', best_epoch)"
   ]
  },
  {
   "cell_type": "code",
   "execution_count": 17,
   "metadata": {},
   "outputs": [
    {
     "name": "stdout",
     "output_type": "stream",
     "text": [
      "WARNING:tensorflow:From /usr/common/software/tensorflow/intel-tensorflow/1.13.1-py36/lib/python3.6/site-packages/tensorflow/python/ops/resource_variable_ops.py:435: colocate_with (from tensorflow.python.framework.ops) is deprecated and will be removed in a future version.\n",
      "Instructions for updating:\n",
      "Colocations handled automatically by placer.\n",
      "WARNING:tensorflow:From /usr/common/software/tensorflow/intel-tensorflow/1.13.1-py36/lib/python3.6/site-packages/tensorflow/python/keras/layers/core.py:143: calling dropout (from tensorflow.python.ops.nn_ops) with keep_prob is deprecated and will be removed in a future version.\n",
      "Instructions for updating:\n",
      "Please use `rate` instead of `keep_prob`. Rate should be set to `rate = 1 - keep_prob`.\n",
      "WARNING:tensorflow:From /usr/common/software/tensorflow/intel-tensorflow/1.13.1-py36/lib/python3.6/site-packages/tensorflow/python/keras/utils/losses_utils.py:170: to_float (from tensorflow.python.ops.math_ops) is deprecated and will be removed in a future version.\n",
      "Instructions for updating:\n",
      "Use tf.cast instead.\n",
      "WARNING:tensorflow:From /usr/common/software/tensorflow/intel-tensorflow/1.13.1-py36/lib/python3.6/site-packages/tensorflow/python/ops/math_ops.py:3066: to_int32 (from tensorflow.python.ops.math_ops) is deprecated and will be removed in a future version.\n",
      "Instructions for updating:\n",
      "Use tf.cast instead.\n",
      "_________________________________________________________________\n",
      "Layer (type)                 Output Shape              Param #   \n",
      "=================================================================\n",
      "conv3d (Conv3D)              (None, 127, 127, 127, 16) 528       \n",
      "_________________________________________________________________\n",
      "leaky_re_lu (LeakyReLU)      (None, 127, 127, 127, 16) 0         \n",
      "_________________________________________________________________\n",
      "max_pooling3d (MaxPooling3D) (None, 63, 63, 63, 16)    0         \n",
      "_________________________________________________________________\n",
      "conv3d_1 (Conv3D)            (None, 62, 62, 62, 16)    2064      \n",
      "_________________________________________________________________\n",
      "leaky_re_lu_1 (LeakyReLU)    (None, 62, 62, 62, 16)    0         \n",
      "_________________________________________________________________\n",
      "max_pooling3d_1 (MaxPooling3 (None, 31, 31, 31, 16)    0         \n",
      "_________________________________________________________________\n",
      "conv3d_2 (Conv3D)            (None, 30, 30, 30, 16)    2064      \n",
      "_________________________________________________________________\n",
      "leaky_re_lu_2 (LeakyReLU)    (None, 30, 30, 30, 16)    0         \n",
      "_________________________________________________________________\n",
      "max_pooling3d_2 (MaxPooling3 (None, 15, 15, 15, 16)    0         \n",
      "_________________________________________________________________\n",
      "conv3d_3 (Conv3D)            (None, 14, 14, 14, 16)    2064      \n",
      "_________________________________________________________________\n",
      "leaky_re_lu_3 (LeakyReLU)    (None, 14, 14, 14, 16)    0         \n",
      "_________________________________________________________________\n",
      "max_pooling3d_3 (MaxPooling3 (None, 7, 7, 7, 16)       0         \n",
      "_________________________________________________________________\n",
      "conv3d_4 (Conv3D)            (None, 6, 6, 6, 16)       2064      \n",
      "_________________________________________________________________\n",
      "leaky_re_lu_4 (LeakyReLU)    (None, 6, 6, 6, 16)       0         \n",
      "_________________________________________________________________\n",
      "max_pooling3d_4 (MaxPooling3 (None, 3, 3, 3, 16)       0         \n",
      "_________________________________________________________________\n",
      "flatten (Flatten)            (None, 432)               0         \n",
      "_________________________________________________________________\n",
      "dropout (Dropout)            (None, 432)               0         \n",
      "_________________________________________________________________\n",
      "dense (Dense)                (None, 128)               55424     \n",
      "_________________________________________________________________\n",
      "leaky_re_lu_5 (LeakyReLU)    (None, 128)               0         \n",
      "_________________________________________________________________\n",
      "dropout_1 (Dropout)          (None, 128)               0         \n",
      "_________________________________________________________________\n",
      "dense_1 (Dense)              (None, 64)                8256      \n",
      "_________________________________________________________________\n",
      "leaky_re_lu_6 (LeakyReLU)    (None, 64)                0         \n",
      "_________________________________________________________________\n",
      "dropout_2 (Dropout)          (None, 64)                0         \n",
      "_________________________________________________________________\n",
      "dense_2 (Dense)              (None, 4)                 260       \n",
      "_________________________________________________________________\n",
      "lambda (Lambda)              (None, 4)                 0         \n",
      "=================================================================\n",
      "Total params: 72,724\n",
      "Trainable params: 72,724\n",
      "Non-trainable params: 0\n",
      "_________________________________________________________________\n"
     ]
    }
   ],
   "source": [
    "import models.cosmojan\n",
    "\n",
    "# Load the model checkpoint\n",
    "checkpoint = os.path.join(result_dir, 'checkpoint-{epoch:03d}.h5'.format(epoch=best_epoch+1))\n",
    "model = tf.keras.models.load_model(checkpoint)\n",
    "model.summary()"
   ]
  },
  {
   "cell_type": "raw",
   "metadata": {},
   "source": [
    "checkpoint = tf.train.latest_checkpoint(result_dir)\n",
    "\n",
    "model = get_model(**config['model'])\n",
    "opt = get_optimizer(**config['optimizer'])\n",
    "train_config = config['train']\n",
    "model.compile(optimizer=opt, loss=train_config['loss'],\n",
    "              metrics=train_config['metrics'])\n",
    "model.load_weights(checkpoint)\n",
    "model.summary()"
   ]
  },
  {
   "cell_type": "markdown",
   "metadata": {},
   "source": [
    "## Evaluate the model on a test set"
   ]
  },
  {
   "cell_type": "code",
   "execution_count": 18,
   "metadata": {},
   "outputs": [],
   "source": [
    "def convert_data_to_np(dataset, n_steps):\n",
    "    iter_next = dataset.make_one_shot_iterator().get_next()\n",
    "    with tf.Session() as sess:\n",
    "        converted_data = [sess.run(iter_next) for i in range(n_steps)]\n",
    "        return map(np.concatenate, zip(*converted_data))\n",
    "\n",
    "def convert_labels_to_np(dataset, n_steps):\n",
    "    iter_next = dataset.make_one_shot_iterator().get_next()\n",
    "    with tf.Session() as sess:\n",
    "        return np.concatenate([sess.run(iter_next)[1] for i in range(n_steps)])"
   ]
  },
  {
   "cell_type": "code",
   "execution_count": 19,
   "metadata": {},
   "outputs": [],
   "source": [
    "n_test_files = 16\n",
    "data_config = config['data']\n",
    "batch_size = 8 #data_config['batch_size']\n",
    "data_dir = data_config['data_dir']\n",
    "n_test = n_test_files * data_config['samples_per_file']\n",
    "n_test_steps = n_test // batch_size"
   ]
  },
  {
   "cell_type": "code",
   "execution_count": 20,
   "metadata": {},
   "outputs": [],
   "source": [
    "all_files = [os.path.join(data_dir, f) for f in os.listdir(data_dir)\n",
    "             if f.endswith('tfrecords')]\n",
    "test_files = all_files[-n_test_files:]"
   ]
  },
  {
   "cell_type": "code",
   "execution_count": 21,
   "metadata": {},
   "outputs": [],
   "source": [
    "# Construct the test dataset\n",
    "test_data = construct_dataset(test_files, batch_size=batch_size, n_epochs=1,\n",
    "                              sample_shape=[128, 128, 128, 4])"
   ]
  },
  {
   "cell_type": "code",
   "execution_count": 22,
   "metadata": {},
   "outputs": [
    {
     "name": "stdout",
     "output_type": "stream",
     "text": [
      "128/128 [==============================] - 395s 3s/step\n"
     ]
    }
   ],
   "source": [
    "# Apply the model to the test set\n",
    "test_pred = model.predict(test_data, steps=n_test_steps, verbose=1)"
   ]
  },
  {
   "cell_type": "code",
   "execution_count": 23,
   "metadata": {},
   "outputs": [],
   "source": [
    "test_y = convert_labels_to_np(test_data, n_test_steps)"
   ]
  },
  {
   "cell_type": "raw",
   "metadata": {},
   "source": [
    "test_x, test_y = convert_data_to_np(test_data, n_test_steps)\n",
    "\n",
    "test_x.shape, test_y.shape, test_pred.shape"
   ]
  },
  {
   "cell_type": "markdown",
   "metadata": {},
   "source": [
    "## Model analysis\n",
    "\n",
    "Let's make some detailed plots to understand the performance of the model"
   ]
  },
  {
   "cell_type": "code",
   "execution_count": 24,
   "metadata": {},
   "outputs": [],
   "source": [
    "# Small sample of the test set for plotting input data distributions\n",
    "n_sample_steps = 2\n",
    "sample_x, sample_y = convert_data_to_np(test_data, n_sample_steps)"
   ]
  },
  {
   "cell_type": "code",
   "execution_count": 25,
   "metadata": {},
   "outputs": [
    {
     "data": {
      "image/png": "[encoded data removed]",
      "text/plain": [
       "<Figure size 864x360 with 2 Axes>"
      ]
     },
     "metadata": {
      "needs_background": "light"
     },
     "output_type": "display_data"
    }
   ],
   "source": [
    "# Voxel value distributions\n",
    "fig, (ax0, ax1) = plt.subplots(ncols=2, figsize=(12, 5))\n",
    "\n",
    "# Voxel value\n",
    "ax0.hist(sample_x.flatten(), log=True, bins=50)\n",
    "ax0.set_xlabel('Voxel values')\n",
    "\n",
    "# Maximum voxel value\n",
    "ax1.hist(sample_x.reshape(n_test, -1).max(axis=1))\n",
    "ax1.set_xlabel('Maximum voxel value')\n",
    "\n",
    "plt.tight_layout()"
   ]
  },
  {
   "cell_type": "code",
   "execution_count": 26,
   "metadata": {},
   "outputs": [
    {
     "data": {
      "image/png": "[encoded data removed]",
      "text/plain": [
       "<Figure size 1152x360 with 3 Axes>"
      ]
     },
     "metadata": {
      "needs_background": "light"
     },
     "output_type": "display_data"
    }
   ],
   "source": [
    "# 1D Distributions of cosmo params\n",
    "fig, (ax0, ax1, ax2) = plt.subplots(ncols=3, figsize=(16, 5))\n",
    "\n",
    "hist_args = dict(bins=10, range=(-1,1), alpha=0.6)\n",
    "ax0.hist(test_y[:,0], label='target', **hist_args)\n",
    "ax0.hist(test_pred[:,0], label='predicted', **hist_args)\n",
    "ax0.legend(loc=0)\n",
    "ax1.hist(test_y[:,1], label='target', **hist_args)\n",
    "ax1.hist(test_pred[:,1], label='predicted', **hist_args)\n",
    "ax1.legend(loc=0)\n",
    "ax2.hist(test_y[:,2], label='target', **hist_args)\n",
    "ax2.hist(test_pred[:,2], label='predicted', **hist_args)\n",
    "ax2.legend(loc=0)\n",
    "\n",
    "plt.tight_layout()"
   ]
  },
  {
   "cell_type": "code",
   "execution_count": 27,
   "metadata": {},
   "outputs": [
    {
     "data": {
      "text/plain": [
       "[<matplotlib.lines.Line2D at 0x2aab697e7be0>]"
      ]
     },
     "execution_count": 27,
     "metadata": {},
     "output_type": "execute_result"
    },
    {
     "data": {
      "image/png": "[encoded data removed]",
      "text/plain": [
       "<Figure size 1152x360 with 3 Axes>"
      ]
     },
     "metadata": {
      "needs_background": "light"
     },
     "output_type": "display_data"
    }
   ],
   "source": [
    "fig, (ax0, ax1, ax2) = plt.subplots(ncols=3, figsize=(16, 5))\n",
    "\n",
    "ax0.scatter(test_pred[:,0], test_y[:,0])\n",
    "ax0.plot([-1, 1], [-1, 1], 'r--')\n",
    "ax1.scatter(test_pred[:,1], test_y[:,1])\n",
    "ax1.plot([-1, 1], [-1, 1], 'r--')\n",
    "ax2.scatter(test_pred[:,2], test_y[:,2])\n",
    "ax2.plot([-1, 1], [-1, 1], 'r--')"
   ]
  },
  {
   "cell_type": "code",
   "execution_count": 28,
   "metadata": {},
   "outputs": [
    {
     "data": {
      "image/png": "[encoded data removed]",
      "text/plain": [
       "<Figure size 1152x360 with 3 Axes>"
      ]
     },
     "metadata": {
      "needs_background": "light"
     },
     "output_type": "display_data"
    }
   ],
   "source": [
    "fig, (ax0, ax1, ax2) = plt.subplots(ncols=3, figsize=(16, 5))\n",
    "\n",
    "ax0.hist2d(test_pred[:,0], test_y[:,0], bins=10, range=[[-1,1],[-1,1]])\n",
    "ax0.plot([-1, 1], [-1, 1], 'r--')\n",
    "ax1.hist2d(test_pred[:,1], test_y[:,1], bins=10, range=[[-1,1],[-1,1]])\n",
    "ax1.plot([-1, 1], [-1, 1], 'r--')\n",
    "ax2.hist2d(test_pred[:,2], test_y[:,2], bins=10, range=[[-1,1],[-1,1]])\n",
    "ax2.plot([-1, 1], [-1, 1], 'r--');"
   ]
  },
  {
   "cell_type": "markdown",
   "metadata": {},
   "source": [
    "## Discussion\n",
    "\n",
    "This model is still training, but learning decently well."
   ]
  }
 ],
 "metadata": {
  "kernelspec": {
   "display_name": "tensorflow-intel(cpu)/1.13.1-py36",
   "language": "python",
   "name": "tensorflow_intel_1.13.1_py36"
  },
  "language_info": {
   "codemirror_mode": {
    "name": "ipython",
    "version": 3
   },
   "file_extension": ".py",
   "mimetype": "text/x-python",
   "name": "python",
   "nbconvert_exporter": "python",
   "pygments_lexer": "ipython3",
   "version": "3.6.8"
  }
 },
 "nbformat": 4,
 "nbformat_minor": 2
}
